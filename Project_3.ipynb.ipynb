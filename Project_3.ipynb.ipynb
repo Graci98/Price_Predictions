{
 "cells": [
  {
   "cell_type": "code",
   "execution_count": null,
   "id": "45bda8bf-74ee-48e2-9c39-002adc092274",
   "metadata": {
    "tags": []
   },
   "outputs": [],
   "source": [
    "import pandas as pd\n",
    "from pathlib import Path\n",
    "import numpy as np\n",
    "import matplotlib.pyplot as plt\n",
    "import seaborn as sns\n",
    "from sklearn.model_selection import train_test_split\n"
   ]
  },
  {
   "cell_type": "code",
   "execution_count": null,
   "id": "b5ed96c0",
   "metadata": {},
   "outputs": [],
   "source": [
    "import warnings\n",
    "warnings.filterwarnings('ignore')"
   ]
  },
  {
   "cell_type": "code",
   "execution_count": null,
   "id": "d8ae465d-8f31-4cb3-8233-ffb5b1be60fe",
   "metadata": {
    "tags": []
   },
   "outputs": [],
   "source": [
    "new_car= pd.read_csv(Path(\"./Resources/new_cars_prices.csv\"))\n",
    "used_car= pd.read_csv(Path(\"./Resources/used_car_prices.csv\"))\n",
    "car_data= pd.read_csv(Path(\"./Resources/car_prices.csv\"))"
   ]
  },
  {
   "cell_type": "code",
   "execution_count": null,
   "id": "ff3872e6",
   "metadata": {},
   "outputs": [],
   "source": [
    "car_data= car_data.drop(columns=['vin','saledate','seller'], axis=1)\n",
    "car_data.dropna(inplace=True)\n",
    "car_data['state']= car_data['state'].str.upper()\n"
   ]
  },
  {
   "cell_type": "code",
   "execution_count": null,
   "id": "5425d99c",
   "metadata": {},
   "outputs": [],
   "source": [
    "car_prices_df['state']= car_prices_df['state'].str.upper()\n",
    "car_prices_df"
   ]
  },
  {
   "cell_type": "code",
   "execution_count": null,
   "id": "8fe81fa0",
   "metadata": {},
   "outputs": [],
   "source": []
  },
  {
   "cell_type": "code",
   "execution_count": null,
   "id": "19946df8",
   "metadata": {},
   "outputs": [],
   "source": [
    "x_vars= [\"mmr\", \"color\", \"interior\"]\n",
    "y_vars= [\"sellingprice\"]\n",
    "g= sns.PairGrid(car_data, hue=\"sellingprice\", x_vars=x_vars, y_vars=y_vars)\n",
    "g.map_diag(sns.histplot, color=\".3\")\n",
    "g.map_offdiag(sns.scatterplot)\n",
    "g.add_legend()"
   ]
  },
  {
   "cell_type": "code",
   "execution_count": null,
   "id": "ef537bed",
   "metadata": {},
   "outputs": [],
   "source": [
    "X= \n",
    "y= car_data['sellingprice']\n"
   ]
  },
  {
   "cell_type": "code",
   "execution_count": null,
   "id": "907cda6b",
   "metadata": {},
   "outputs": [],
   "source": [
    "X_train, X_test, y_train, y_test = train_test_split(X, y, test_size=0.2, random_state=1)"
   ]
  },
  {
   "cell_type": "code",
   "execution_count": null,
   "id": "c10d27fd",
   "metadata": {},
   "outputs": [],
   "source": [
    "from sklearn.preprocessing import StandardScaler\n",
    "\n",
    "car_scaler = StandardScaler()\n",
    "\n",
    "car_scaler.fit(X_train)\n",
    "\n",
    "car_train_scaled = car_scaler.transform(X_train)\n",
    "car_test_scaled = car_scaler.transform(X_test)\n"
   ]
  },
  {
   "cell_type": "code",
   "execution_count": null,
   "id": "f84d726c",
   "metadata": {},
   "outputs": [],
   "source": [
    "corr= car_data.corr()\n",
    "sns.heatmap(corr, cmap=\"Blues\", annot=True)"
   ]
  },
  {
   "cell_type": "code",
   "execution_count": null,
   "id": "2a388dc1",
   "metadata": {},
   "outputs": [],
   "source": []
  },
  {
   "cell_type": "code",
   "execution_count": null,
   "id": "2ed16d80",
   "metadata": {},
   "outputs": [],
   "source": []
  },
  {
   "cell_type": "code",
   "execution_count": null,
   "id": "caa3e2d1",
   "metadata": {},
   "outputs": [],
   "source": []
  },
  {
   "cell_type": "code",
   "execution_count": null,
   "id": "a610b25a",
   "metadata": {},
   "outputs": [],
   "source": []
  },
  {
   "cell_type": "code",
   "execution_count": null,
   "id": "6bc7feed",
   "metadata": {},
   "outputs": [],
   "source": []
  },
  {
   "cell_type": "code",
   "execution_count": null,
   "id": "fd2148a0",
   "metadata": {},
   "outputs": [],
   "source": []
  },
  {
   "cell_type": "code",
   "execution_count": null,
   "id": "057bb517",
   "metadata": {},
   "outputs": [],
   "source": [
    "# for column in car_data.columns:\n",
    "#     car_data[column] = car_data[column].replace('[/,]','',regex=True)\n"
   ]
  },
  {
   "cell_type": "code",
   "execution_count": null,
   "id": "c6e0f6b0-1313-49eb-b569-ad1084cb056a",
   "metadata": {},
   "outputs": [],
   "source": []
  },
  {
   "cell_type": "code",
   "execution_count": null,
   "id": "42b8abb3-efc0-44c3-b9ce-e0e55d3250bc",
   "metadata": {},
   "outputs": [],
   "source": [
    "#new_corr= new_car.corr()\n",
    "#sns.heatmap(new_corr, cmap=\"Purples\", annot=True)"
   ]
  },
  {
   "cell_type": "code",
   "execution_count": null,
   "id": "e4439ef7-4a2e-4b48-97a1-300b42da19e0",
   "metadata": {},
   "outputs": [],
   "source": []
  }
 ],
 "metadata": {
  "kernelspec": {
   "display_name": "Python 3 (ipykernel)",
   "language": "python",
   "name": "python3"
  },
  "language_info": {
   "codemirror_mode": {
    "name": "ipython",
    "version": 3
   },
   "file_extension": ".py",
   "mimetype": "text/x-python",
   "name": "python",
   "nbconvert_exporter": "python",
   "pygments_lexer": "ipython3",
   "version": "3.10.13"
  }
 },
 "nbformat": 4,
 "nbformat_minor": 5
}
