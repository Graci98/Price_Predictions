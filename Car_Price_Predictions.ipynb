{
 "cells": [
  {
   "cell_type": "markdown",
   "id": "2c9d105b-952a-4797-8f1c-1cd46dbea359",
   "metadata": {},
   "source": [
    "### Step 1: Import Libraries and csv files"
   ]
  },
  {
   "cell_type": "code",
   "execution_count": 27,
   "id": "d9a63630-1df2-46da-8905-258ee6e9d15d",
   "metadata": {
    "tags": []
   },
   "outputs": [],
   "source": [
    "# Import the required libraries\n",
    "import pandas as pd\n",
    "from pathlib import Path\n",
    "import numpy as np\n",
    "import matplotlib.pyplot as plt\n",
    "import seaborn as sns\n",
    "from sklearn import metrics\n",
    "from sklearn.metrics import balanced_accuracy_score, confusion_matrix, classification_report\n",
    "from sklearn.model_selection import train_test_split\n",
    "from sklearn.preprocessing import StandardScaler, LabelEncoder, MinMaxScaler\n",
    "from sklearn.linear_model import Lasso, LinearRegression\n",
    "from sklearn.metrics import mean_squared_error,r2_score, mean_absolute_error\n",
    "from sklearn.model_selection import GridSearchCV\n",
    "\n",
    "import warnings\n",
    "warnings.filterwarnings('ignore')"
   ]
  },
  {
   "cell_type": "code",
   "execution_count": 28,
   "id": "ec88367a-ec66-4362-b800-2247975e6d67",
   "metadata": {
    "tags": []
   },
   "outputs": [
    {
     "data": {
      "text/html": [
       "<div>\n",
       "<style scoped>\n",
       "    .dataframe tbody tr th:only-of-type {\n",
       "        vertical-align: middle;\n",
       "    }\n",
       "\n",
       "    .dataframe tbody tr th {\n",
       "        vertical-align: top;\n",
       "    }\n",
       "\n",
       "    .dataframe thead th {\n",
       "        text-align: right;\n",
       "    }\n",
       "</style>\n",
       "<table border=\"1\" class=\"dataframe\">\n",
       "  <thead>\n",
       "    <tr style=\"text-align: right;\">\n",
       "      <th></th>\n",
       "      <th>year</th>\n",
       "      <th>make</th>\n",
       "      <th>model</th>\n",
       "      <th>trim</th>\n",
       "      <th>body</th>\n",
       "      <th>transmission</th>\n",
       "      <th>vin</th>\n",
       "      <th>state</th>\n",
       "      <th>condition</th>\n",
       "      <th>odometer</th>\n",
       "      <th>color</th>\n",
       "      <th>interior</th>\n",
       "      <th>seller</th>\n",
       "      <th>mmr</th>\n",
       "      <th>sellingprice</th>\n",
       "      <th>saledate</th>\n",
       "    </tr>\n",
       "  </thead>\n",
       "  <tbody>\n",
       "    <tr>\n",
       "      <th>0</th>\n",
       "      <td>2015</td>\n",
       "      <td>Kia</td>\n",
       "      <td>Sorento</td>\n",
       "      <td>LX</td>\n",
       "      <td>SUV</td>\n",
       "      <td>automatic</td>\n",
       "      <td>5xyktca69fg566472</td>\n",
       "      <td>ca</td>\n",
       "      <td>5.0</td>\n",
       "      <td>16639.0</td>\n",
       "      <td>white</td>\n",
       "      <td>black</td>\n",
       "      <td>kia motors america  inc</td>\n",
       "      <td>20500.0</td>\n",
       "      <td>21500.0</td>\n",
       "      <td>Tue Dec 16 2014 12:30:00 GMT-0800 (PST)</td>\n",
       "    </tr>\n",
       "    <tr>\n",
       "      <th>1</th>\n",
       "      <td>2015</td>\n",
       "      <td>Kia</td>\n",
       "      <td>Sorento</td>\n",
       "      <td>LX</td>\n",
       "      <td>SUV</td>\n",
       "      <td>automatic</td>\n",
       "      <td>5xyktca69fg561319</td>\n",
       "      <td>ca</td>\n",
       "      <td>5.0</td>\n",
       "      <td>9393.0</td>\n",
       "      <td>white</td>\n",
       "      <td>beige</td>\n",
       "      <td>kia motors america  inc</td>\n",
       "      <td>20800.0</td>\n",
       "      <td>21500.0</td>\n",
       "      <td>Tue Dec 16 2014 12:30:00 GMT-0800 (PST)</td>\n",
       "    </tr>\n",
       "    <tr>\n",
       "      <th>2</th>\n",
       "      <td>2014</td>\n",
       "      <td>BMW</td>\n",
       "      <td>3 Series</td>\n",
       "      <td>328i SULEV</td>\n",
       "      <td>Sedan</td>\n",
       "      <td>automatic</td>\n",
       "      <td>wba3c1c51ek116351</td>\n",
       "      <td>ca</td>\n",
       "      <td>45.0</td>\n",
       "      <td>1331.0</td>\n",
       "      <td>gray</td>\n",
       "      <td>black</td>\n",
       "      <td>financial services remarketing (lease)</td>\n",
       "      <td>31900.0</td>\n",
       "      <td>30000.0</td>\n",
       "      <td>Thu Jan 15 2015 04:30:00 GMT-0800 (PST)</td>\n",
       "    </tr>\n",
       "    <tr>\n",
       "      <th>3</th>\n",
       "      <td>2015</td>\n",
       "      <td>Volvo</td>\n",
       "      <td>S60</td>\n",
       "      <td>T5</td>\n",
       "      <td>Sedan</td>\n",
       "      <td>automatic</td>\n",
       "      <td>yv1612tb4f1310987</td>\n",
       "      <td>ca</td>\n",
       "      <td>41.0</td>\n",
       "      <td>14282.0</td>\n",
       "      <td>white</td>\n",
       "      <td>black</td>\n",
       "      <td>volvo na rep/world omni</td>\n",
       "      <td>27500.0</td>\n",
       "      <td>27750.0</td>\n",
       "      <td>Thu Jan 29 2015 04:30:00 GMT-0800 (PST)</td>\n",
       "    </tr>\n",
       "    <tr>\n",
       "      <th>4</th>\n",
       "      <td>2014</td>\n",
       "      <td>BMW</td>\n",
       "      <td>6 Series Gran Coupe</td>\n",
       "      <td>650i</td>\n",
       "      <td>Sedan</td>\n",
       "      <td>automatic</td>\n",
       "      <td>wba6b2c57ed129731</td>\n",
       "      <td>ca</td>\n",
       "      <td>43.0</td>\n",
       "      <td>2641.0</td>\n",
       "      <td>gray</td>\n",
       "      <td>black</td>\n",
       "      <td>financial services remarketing (lease)</td>\n",
       "      <td>66000.0</td>\n",
       "      <td>67000.0</td>\n",
       "      <td>Thu Dec 18 2014 12:30:00 GMT-0800 (PST)</td>\n",
       "    </tr>\n",
       "  </tbody>\n",
       "</table>\n",
       "</div>"
      ],
      "text/plain": [
       "   year   make                model        trim   body transmission  \\\n",
       "0  2015    Kia              Sorento          LX    SUV    automatic   \n",
       "1  2015    Kia              Sorento          LX    SUV    automatic   \n",
       "2  2014    BMW             3 Series  328i SULEV  Sedan    automatic   \n",
       "3  2015  Volvo                  S60          T5  Sedan    automatic   \n",
       "4  2014    BMW  6 Series Gran Coupe        650i  Sedan    automatic   \n",
       "\n",
       "                 vin state  condition  odometer  color interior  \\\n",
       "0  5xyktca69fg566472    ca        5.0   16639.0  white    black   \n",
       "1  5xyktca69fg561319    ca        5.0    9393.0  white    beige   \n",
       "2  wba3c1c51ek116351    ca       45.0    1331.0   gray    black   \n",
       "3  yv1612tb4f1310987    ca       41.0   14282.0  white    black   \n",
       "4  wba6b2c57ed129731    ca       43.0    2641.0   gray    black   \n",
       "\n",
       "                                   seller      mmr  sellingprice  \\\n",
       "0                 kia motors america  inc  20500.0       21500.0   \n",
       "1                 kia motors america  inc  20800.0       21500.0   \n",
       "2  financial services remarketing (lease)  31900.0       30000.0   \n",
       "3                 volvo na rep/world omni  27500.0       27750.0   \n",
       "4  financial services remarketing (lease)  66000.0       67000.0   \n",
       "\n",
       "                                  saledate  \n",
       "0  Tue Dec 16 2014 12:30:00 GMT-0800 (PST)  \n",
       "1  Tue Dec 16 2014 12:30:00 GMT-0800 (PST)  \n",
       "2  Thu Jan 15 2015 04:30:00 GMT-0800 (PST)  \n",
       "3  Thu Jan 29 2015 04:30:00 GMT-0800 (PST)  \n",
       "4  Thu Dec 18 2014 12:30:00 GMT-0800 (PST)  "
      ]
     },
     "execution_count": 28,
     "metadata": {},
     "output_type": "execute_result"
    }
   ],
   "source": [
    "# Read the CSV file into a Pandas DataFrame\n",
    "car_prices_df = pd.read_csv(Path(\"Resources/car_prices.csv\"))\n",
    "#car_prices_df.drop(columns=['vin','saledate'], axis=1)\n",
    "\n",
    "# Review the DataFrame\n",
    "car_prices_df.head()\n"
   ]
  },
  {
   "cell_type": "code",
   "execution_count": 29,
   "id": "3dc43f44-2bdd-4168-af36-f1682e4c17db",
   "metadata": {
    "tags": []
   },
   "outputs": [
    {
     "data": {
      "text/plain": [
       "year                0\n",
       "make            10301\n",
       "model           10399\n",
       "trim            10651\n",
       "body            13195\n",
       "transmission    65352\n",
       "vin                 4\n",
       "state               0\n",
       "condition       11820\n",
       "odometer           94\n",
       "color             749\n",
       "interior          749\n",
       "seller              0\n",
       "mmr                38\n",
       "sellingprice       12\n",
       "saledate           12\n",
       "dtype: int64"
      ]
     },
     "execution_count": 29,
     "metadata": {},
     "output_type": "execute_result"
    }
   ],
   "source": [
    "# Check for Null Values\n",
    "car_prices_df.isnull().sum()"
   ]
  },
  {
   "cell_type": "code",
<<<<<<< HEAD
<<<<<<< HEAD
   "execution_count": 4,
   "id": "1ec743bc-8c89-4ba3-bc51-2a2cc4e4463d",
   "metadata": {},
   "outputs": [
    {
     "data": {
      "text/html": [
       "<div>\n",
       "<style scoped>\n",
       "    .dataframe tbody tr th:only-of-type {\n",
       "        vertical-align: middle;\n",
       "    }\n",
       "\n",
       "    .dataframe tbody tr th {\n",
       "        vertical-align: top;\n",
       "    }\n",
       "\n",
       "    .dataframe thead th {\n",
       "        text-align: right;\n",
       "    }\n",
       "</style>\n",
       "<table border=\"1\" class=\"dataframe\">\n",
       "  <thead>\n",
       "    <tr style=\"text-align: right;\">\n",
       "      <th></th>\n",
       "      <th>year</th>\n",
       "      <th>condition</th>\n",
       "      <th>odometer</th>\n",
       "      <th>mmr</th>\n",
       "      <th>sellingprice</th>\n",
       "    </tr>\n",
       "  </thead>\n",
       "  <tbody>\n",
       "    <tr>\n",
       "      <th>count</th>\n",
       "      <td>558837.000000</td>\n",
       "      <td>547017.000000</td>\n",
       "      <td>558743.000000</td>\n",
       "      <td>558799.000000</td>\n",
       "      <td>558825.000000</td>\n",
       "    </tr>\n",
       "    <tr>\n",
       "      <th>mean</th>\n",
       "      <td>2010.038927</td>\n",
       "      <td>30.672365</td>\n",
       "      <td>68320.017767</td>\n",
       "      <td>13769.377495</td>\n",
       "      <td>13611.358810</td>\n",
       "    </tr>\n",
       "    <tr>\n",
       "      <th>std</th>\n",
       "      <td>3.966864</td>\n",
       "      <td>13.402832</td>\n",
       "      <td>53398.542821</td>\n",
       "      <td>9679.967174</td>\n",
       "      <td>9749.501628</td>\n",
       "    </tr>\n",
       "    <tr>\n",
       "      <th>min</th>\n",
       "      <td>1982.000000</td>\n",
       "      <td>1.000000</td>\n",
       "      <td>1.000000</td>\n",
       "      <td>25.000000</td>\n",
       "      <td>1.000000</td>\n",
       "    </tr>\n",
       "    <tr>\n",
       "      <th>25%</th>\n",
       "      <td>2007.000000</td>\n",
       "      <td>23.000000</td>\n",
       "      <td>28371.000000</td>\n",
       "      <td>7100.000000</td>\n",
       "      <td>6900.000000</td>\n",
       "    </tr>\n",
       "    <tr>\n",
       "      <th>50%</th>\n",
       "      <td>2012.000000</td>\n",
       "      <td>35.000000</td>\n",
       "      <td>52254.000000</td>\n",
       "      <td>12250.000000</td>\n",
       "      <td>12100.000000</td>\n",
       "    </tr>\n",
       "    <tr>\n",
       "      <th>75%</th>\n",
       "      <td>2013.000000</td>\n",
       "      <td>42.000000</td>\n",
       "      <td>99109.000000</td>\n",
       "      <td>18300.000000</td>\n",
       "      <td>18200.000000</td>\n",
       "    </tr>\n",
       "    <tr>\n",
       "      <th>max</th>\n",
       "      <td>2015.000000</td>\n",
       "      <td>49.000000</td>\n",
       "      <td>999999.000000</td>\n",
       "      <td>182000.000000</td>\n",
       "      <td>230000.000000</td>\n",
       "    </tr>\n",
       "  </tbody>\n",
       "</table>\n",
       "</div>"
      ],
      "text/plain": [
       "                year      condition       odometer            mmr  \\\n",
       "count  558837.000000  547017.000000  558743.000000  558799.000000   \n",
       "mean     2010.038927      30.672365   68320.017767   13769.377495   \n",
       "std         3.966864      13.402832   53398.542821    9679.967174   \n",
       "min      1982.000000       1.000000       1.000000      25.000000   \n",
       "25%      2007.000000      23.000000   28371.000000    7100.000000   \n",
       "50%      2012.000000      35.000000   52254.000000   12250.000000   \n",
       "75%      2013.000000      42.000000   99109.000000   18300.000000   \n",
       "max      2015.000000      49.000000  999999.000000  182000.000000   \n",
       "\n",
       "        sellingprice  \n",
       "count  558825.000000  \n",
       "mean    13611.358810  \n",
       "std      9749.501628  \n",
       "min         1.000000  \n",
       "25%      6900.000000  \n",
       "50%     12100.000000  \n",
       "75%     18200.000000  \n",
       "max    230000.000000  "
      ]
     },
     "execution_count": 4,
=======
   "execution_count": 39,
=======
   "execution_count": 30,
>>>>>>> 3ddf7e5bedebb8610ca7f894cde888a4599d7e15
   "id": "f0db8d26",
   "metadata": {
    "tags": []
   },
   "outputs": [
    {
     "data": {
      "text/plain": [
       "year             0.000000\n",
       "make             1.843292\n",
       "model            1.860829\n",
       "trim             1.905922\n",
       "body             2.361154\n",
       "transmission    11.694287\n",
       "vin              0.000716\n",
       "state            0.000000\n",
       "condition        2.115107\n",
       "odometer         0.016821\n",
       "color            0.134028\n",
       "interior         0.134028\n",
       "seller           0.000000\n",
       "mmr              0.006800\n",
       "sellingprice     0.002147\n",
       "saledate         0.002147\n",
       "dtype: float64"
      ]
     },
     "execution_count": 30,
     "metadata": {},
     "output_type": "execute_result"
    }
   ],
   "source": [
    "#Percentage of null values in data\n",
    "car_prices_df.isnull().mean()*100"
   ]
  },
  {
   "cell_type": "code",
   "execution_count": 31,
   "id": "4302c5ac",
   "metadata": {
    "tags": []
   },
   "outputs": [
    {
     "name": "stdout",
     "output_type": "stream",
     "text": [
      "<class 'pandas.core.frame.DataFrame'>\n",
      "RangeIndex: 558837 entries, 0 to 558836\n",
      "Data columns (total 16 columns):\n",
      " #   Column        Non-Null Count   Dtype  \n",
      "---  ------        --------------   -----  \n",
      " 0   year          558837 non-null  int64  \n",
      " 1   make          548536 non-null  object \n",
      " 2   model         548438 non-null  object \n",
      " 3   trim          548186 non-null  object \n",
      " 4   body          545642 non-null  object \n",
      " 5   transmission  493485 non-null  object \n",
      " 6   vin           558833 non-null  object \n",
      " 7   state         558837 non-null  object \n",
      " 8   condition     547017 non-null  float64\n",
      " 9   odometer      558743 non-null  float64\n",
      " 10  color         558088 non-null  object \n",
      " 11  interior      558088 non-null  object \n",
      " 12  seller        558837 non-null  object \n",
      " 13  mmr           558799 non-null  float64\n",
      " 14  sellingprice  558825 non-null  float64\n",
      " 15  saledate      558825 non-null  object \n",
      "dtypes: float64(4), int64(1), object(11)\n",
      "memory usage: 68.2+ MB\n"
     ]
    }
   ],
   "source": [
    "car_prices_df.info()"
   ]
  },
  {
   "cell_type": "code",
   "execution_count": 32,
   "id": "e1662d98-3767-4534-b3f4-48eac4f934d5",
   "metadata": {
    "tags": []
   },
   "outputs": [],
   "source": [
    "#sns.pairplot(car_prices_df, hue=\"odometer\")"
   ]
  },
  {
   "cell_type": "code",
   "execution_count": 7,
   "id": "5f18acbd-4a95-40a9-8fff-ec368127bd7d",
   "metadata": {
    "tags": []
   },
   "outputs": [
    {
     "ename": "NameError",
     "evalue": "name 'x_vars' is not defined",
     "output_type": "error",
     "traceback": [
      "\u001b[1;31m---------------------------------------------------------------------------\u001b[0m",
      "\u001b[1;31mNameError\u001b[0m                                 Traceback (most recent call last)",
      "Cell \u001b[1;32mIn[7], line 3\u001b[0m\n\u001b[0;32m      1\u001b[0m \u001b[38;5;66;03m#x_vars= [\"year\", \"odometer\", \"trim\", \"body\", \"transmission\",\"state\", \"condition\", \"color\"]\u001b[39;00m\n\u001b[0;32m      2\u001b[0m \u001b[38;5;66;03m#y_vars= [\"sellingprice\"]\u001b[39;00m\n\u001b[1;32m----> 3\u001b[0m g\u001b[38;5;241m=\u001b[39m sns\u001b[38;5;241m.\u001b[39mPairGrid(car_prices_df, hue\u001b[38;5;241m=\u001b[39m\u001b[38;5;124m\"\u001b[39m\u001b[38;5;124mmake\u001b[39m\u001b[38;5;124m\"\u001b[39m, x_vars\u001b[38;5;241m=\u001b[39m\u001b[43mx_vars\u001b[49m, y_vars\u001b[38;5;241m=\u001b[39my_vars)\n\u001b[0;32m      4\u001b[0m \u001b[38;5;66;03m#g.map_diag(sns.histplot, color=\".3\")\u001b[39;00m\n\u001b[0;32m      5\u001b[0m g\u001b[38;5;241m.\u001b[39mmap_offdiag(sns\u001b[38;5;241m.\u001b[39mscatterplot)\n",
      "\u001b[1;31mNameError\u001b[0m: name 'x_vars' is not defined"
     ]
    }
   ],
   "source": [
    "\n",
    "\n",
    "#x_vars= [\"year\", \"odometer\", \"trim\", \"body\", \"transmission\",\"state\", \"condition\", \"color\"]\n",
    "#y_vars= [\"sellingprice\"]\n",
    "g= sns.PairGrid(car_prices_df, hue=\"make\", x_vars=x_vars, y_vars=y_vars)\n",
    "#g.map_diag(sns.histplot, color=\".3\")\n",
    "g.map_offdiag(sns.scatterplot)\n",
    "g.add_legend()"
   ]
  },
  {
   "cell_type": "code",
   "execution_count": 8,
   "id": "f653585a-518c-4d21-9407-8fcb6d7ea8c5",
   "metadata": {
    "tags": []
   },
   "outputs": [],
   "source": [
    "#sns.catplot(data=car_prices_df, x=\"year\", y=\"sellingprice\", kind=\"box\")"
   ]
  },
  {
   "cell_type": "code",
   "execution_count": 33,
   "id": "1772538f",
   "metadata": {
    "tags": []
   },
   "outputs": [
    {
     "data": {
      "text/html": [
       "<div>\n",
       "<style scoped>\n",
       "    .dataframe tbody tr th:only-of-type {\n",
       "        vertical-align: middle;\n",
       "    }\n",
       "\n",
       "    .dataframe tbody tr th {\n",
       "        vertical-align: top;\n",
       "    }\n",
       "\n",
       "    .dataframe thead th {\n",
       "        text-align: right;\n",
       "    }\n",
       "</style>\n",
       "<table border=\"1\" class=\"dataframe\">\n",
       "  <thead>\n",
       "    <tr style=\"text-align: right;\">\n",
       "      <th></th>\n",
       "      <th>year</th>\n",
       "      <th>make</th>\n",
       "      <th>model</th>\n",
       "      <th>trim</th>\n",
       "      <th>body</th>\n",
       "      <th>transmission</th>\n",
       "      <th>state</th>\n",
       "      <th>condition</th>\n",
       "      <th>odometer</th>\n",
       "      <th>color</th>\n",
       "      <th>interior</th>\n",
       "      <th>mmr</th>\n",
       "      <th>sellingprice</th>\n",
       "    </tr>\n",
       "  </thead>\n",
       "  <tbody>\n",
       "    <tr>\n",
       "      <th>0</th>\n",
       "      <td>2015</td>\n",
       "      <td>Kia</td>\n",
       "      <td>Sorento</td>\n",
       "      <td>LX</td>\n",
       "      <td>SUV</td>\n",
       "      <td>automatic</td>\n",
       "      <td>ca</td>\n",
       "      <td>5.0</td>\n",
       "      <td>16639.0</td>\n",
       "      <td>white</td>\n",
       "      <td>black</td>\n",
       "      <td>20500.0</td>\n",
       "      <td>21500.0</td>\n",
       "    </tr>\n",
       "    <tr>\n",
       "      <th>1</th>\n",
       "      <td>2015</td>\n",
       "      <td>Kia</td>\n",
       "      <td>Sorento</td>\n",
       "      <td>LX</td>\n",
       "      <td>SUV</td>\n",
       "      <td>automatic</td>\n",
       "      <td>ca</td>\n",
       "      <td>5.0</td>\n",
       "      <td>9393.0</td>\n",
       "      <td>white</td>\n",
       "      <td>beige</td>\n",
       "      <td>20800.0</td>\n",
       "      <td>21500.0</td>\n",
       "    </tr>\n",
       "  </tbody>\n",
       "</table>\n",
       "</div>"
      ],
      "text/plain": [
       "   year make    model trim body transmission state  condition  odometer  \\\n",
       "0  2015  Kia  Sorento   LX  SUV    automatic    ca        5.0   16639.0   \n",
       "1  2015  Kia  Sorento   LX  SUV    automatic    ca        5.0    9393.0   \n",
       "\n",
       "   color interior      mmr  sellingprice  \n",
       "0  white    black  20500.0       21500.0  \n",
       "1  white    beige  20800.0       21500.0  "
      ]
     },
     "execution_count": 33,
     "metadata": {},
     "output_type": "execute_result"
    }
   ],
   "source": [
    "car_prices_df.dropna(subset=['transmission'])\n",
    "car_prices_df=car_prices_df.dropna()\n",
    "car_prices_df= car_prices_df.drop(columns=['vin','saledate','seller'], axis=1)\n",
    "car_prices_df.head(2)"
   ]
  },
  {
   "cell_type": "code",
   "execution_count": 34,
   "id": "104e315a",
   "metadata": {
    "tags": []
   },
   "outputs": [
    {
     "data": {
      "text/plain": [
       "Index(['Ford', 'Chevrolet', 'Nissan', 'Toyota', 'Dodge', 'Honda', 'Hyundai',\n",
       "       'BMW', 'Kia', 'Chrysler'],\n",
       "      dtype='object', name='make')"
      ]
     },
<<<<<<< HEAD
     "execution_count": 59,
>>>>>>> 8922c1beeaecab2070e67bcabf2021add5da1c75
=======
     "execution_count": 34,
>>>>>>> 3ddf7e5bedebb8610ca7f894cde888a4599d7e15
     "metadata": {},
     "output_type": "execute_result"
    }
   ],
   "source": [
    "make_pp= car_prices_df.make.value_counts()[:10]\n",
    "make_pp.index"
   ]
  },
  {
<<<<<<< HEAD
   "cell_type": "markdown",
   "id": "84e84688-c732-40da-8b67-e39947e484d4",
   "metadata": {},
=======
   "cell_type": "code",
   "execution_count": 35,
   "id": "ca4d83c0-a03e-413c-b96d-d0bc3172d561",
   "metadata": {
    "tags": []
   },
   "outputs": [],
   "source": [
    "tencar_df= car_prices_df[car_prices_df['make'].isin(make_pp.index)]"
   ]
  },
  {
   "cell_type": "code",
   "execution_count": 39,
   "id": "41f14726-ce17-4252-aefa-ae9fc1fe29a1",
   "metadata": {
    "tags": []
   },
   "outputs": [
    {
     "data": {
      "text/plain": [
       "(make\n",
       " Ford         81013\n",
       " Chevrolet    54150\n",
       " Nissan       44043\n",
       " Toyota       35313\n",
       " Dodge        27181\n",
       " Honda        24781\n",
       " Hyundai      18659\n",
       " BMW          17509\n",
       " Kia          15828\n",
       " Chrysler     15133\n",
       " Name: count, dtype: int64,\n",
       " (333610, 13))"
      ]
     },
     "execution_count": 39,
     "metadata": {},
     "output_type": "execute_result"
    }
   ],
   "source": [
    "tencar_df.make.value_counts() , tencar_df.shape"
   ]
  },
  {
   "cell_type": "code",
   "execution_count": 40,
   "id": "452768ff-83a0-4c14-998e-6f620994b4d1",
   "metadata": {
    "tags": []
   },
   "outputs": [
    {
     "data": {
      "text/plain": [
       "0"
      ]
     },
     "execution_count": 40,
     "metadata": {},
     "output_type": "execute_result"
    }
   ],
>>>>>>> 8922c1beeaecab2070e67bcabf2021add5da1c75
   "source": [
    "tencar_df.duplicated().sum()"
   ]
  },
  {
   "cell_type": "code",
<<<<<<< HEAD
<<<<<<< HEAD
   "execution_count": 5,
   "id": "6b00e4da-51ac-450e-9020-7423aaa55094",
   "metadata": {},
=======
   "execution_count": 64,
=======
   "execution_count": 41,
>>>>>>> 3ddf7e5bedebb8610ca7f894cde888a4599d7e15
   "id": "a54b939b-667e-4108-8c93-bd5c63186b71",
   "metadata": {
    "tags": []
   },
>>>>>>> 8922c1beeaecab2070e67bcabf2021add5da1c75
   "outputs": [],
   "source": [
    "tencar_df = tencar_df[['year','make','model','trim','transmission','state','condition','odometer','color','interior','mmr','sellingprice']]"
   ]
  },
  {
   "cell_type": "code",
<<<<<<< HEAD
<<<<<<< HEAD
   "execution_count": 6,
   "id": "7a19d30d-b2ed-4ac4-9e2f-14264b955f60",
   "metadata": {},
   "outputs": [
    {
     "data": {
      "image/png": "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\n",
=======
   "execution_count": 65,
   "id": "07b56aa0-ecc5-4683-a418-e9fcf942617b",
   "metadata": {
    "tags": []
   },
   "outputs": [
    {
     "data": {
>>>>>>> 8922c1beeaecab2070e67bcabf2021add5da1c75
      "text/plain": [
       "0"
      ]
     },
     "execution_count": 65,
     "metadata": {},
     "output_type": "execute_result"
    }
   ],
   "source": [
<<<<<<< HEAD
    "# Visualization of numerical data\n",
    "plt.figure(figsize=(7, 5))\n",
    "sns.heatmap(car_prices_df.corr(), annot=True, fmt='.2f', cmap='gist_heat', linewidths=1, vmin=-1, vmax=1)\n",
    "plt.title('Correlation Heatmap')\n",
    "\n",
    "plt.show()"
=======
    "tencar_df.duplicated().sum()"
>>>>>>> 8922c1beeaecab2070e67bcabf2021add5da1c75
   ]
  },
  {
   "cell_type": "code",
<<<<<<< HEAD
   "execution_count": 7,
   "id": "3d4b0e7f-5196-4973-a596-64149b2f96e6",
   "metadata": {},
   "outputs": [
    {
     "data": {
      "image/png": "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\n",
      "text/plain": [
       "<Figure size 250x1000 with 4 Axes>"
=======
   "execution_count": 66,
=======
   "execution_count": 42,
>>>>>>> 3ddf7e5bedebb8610ca7f894cde888a4599d7e15
   "id": "7c77cfbd-8a04-4997-ab7f-246eb416738f",
   "metadata": {
    "tags": []
   },
   "outputs": [
    {
     "data": {
      "text/html": [
       "<div>\n",
       "<style scoped>\n",
       "    .dataframe tbody tr th:only-of-type {\n",
       "        vertical-align: middle;\n",
       "    }\n",
       "\n",
       "    .dataframe tbody tr th {\n",
       "        vertical-align: top;\n",
       "    }\n",
       "\n",
       "    .dataframe thead th {\n",
       "        text-align: right;\n",
       "    }\n",
       "</style>\n",
       "<table border=\"1\" class=\"dataframe\">\n",
       "  <thead>\n",
       "    <tr style=\"text-align: right;\">\n",
       "      <th></th>\n",
       "      <th>year</th>\n",
       "      <th>make</th>\n",
       "      <th>model</th>\n",
       "      <th>trim</th>\n",
       "      <th>transmission</th>\n",
       "      <th>state</th>\n",
       "      <th>condition</th>\n",
       "      <th>odometer</th>\n",
       "      <th>color</th>\n",
       "      <th>interior</th>\n",
       "      <th>mmr</th>\n",
       "      <th>sellingprice</th>\n",
       "    </tr>\n",
       "  </thead>\n",
       "  <tbody>\n",
       "    <tr>\n",
       "      <th>0</th>\n",
       "      <td>2015</td>\n",
       "      <td>Kia</td>\n",
       "      <td>Sorento</td>\n",
       "      <td>LX</td>\n",
       "      <td>automatic</td>\n",
       "      <td>ca</td>\n",
       "      <td>5.0</td>\n",
       "      <td>16639.0</td>\n",
       "      <td>white</td>\n",
       "      <td>black</td>\n",
       "      <td>20500.0</td>\n",
       "      <td>21500.0</td>\n",
       "    </tr>\n",
       "    <tr>\n",
       "      <th>1</th>\n",
       "      <td>2015</td>\n",
       "      <td>Kia</td>\n",
       "      <td>Sorento</td>\n",
       "      <td>LX</td>\n",
       "      <td>automatic</td>\n",
       "      <td>ca</td>\n",
       "      <td>5.0</td>\n",
       "      <td>9393.0</td>\n",
       "      <td>white</td>\n",
       "      <td>beige</td>\n",
       "      <td>20800.0</td>\n",
       "      <td>21500.0</td>\n",
       "    </tr>\n",
       "    <tr>\n",
       "      <th>2</th>\n",
       "      <td>2014</td>\n",
       "      <td>BMW</td>\n",
       "      <td>3 Series</td>\n",
       "      <td>328i SULEV</td>\n",
       "      <td>automatic</td>\n",
       "      <td>ca</td>\n",
       "      <td>45.0</td>\n",
       "      <td>1331.0</td>\n",
       "      <td>gray</td>\n",
       "      <td>black</td>\n",
       "      <td>31900.0</td>\n",
       "      <td>30000.0</td>\n",
       "    </tr>\n",
       "  </tbody>\n",
       "</table>\n",
       "</div>"
      ],
      "text/plain": [
       "   year make     model        trim transmission state  condition  odometer  \\\n",
       "0  2015  Kia   Sorento          LX    automatic    ca        5.0   16639.0   \n",
       "1  2015  Kia   Sorento          LX    automatic    ca        5.0    9393.0   \n",
       "2  2014  BMW  3 Series  328i SULEV    automatic    ca       45.0    1331.0   \n",
       "\n",
       "   color interior      mmr  sellingprice  \n",
       "0  white    black  20500.0       21500.0  \n",
       "1  white    beige  20800.0       21500.0  \n",
       "2   gray    black  31900.0       30000.0  "
>>>>>>> 8922c1beeaecab2070e67bcabf2021add5da1c75
      ]
     },
     "execution_count": 42,
     "metadata": {},
     "output_type": "execute_result"
    }
   ],
   "source": [
<<<<<<< HEAD
    "# Create a pairplot using Seaborn\n",
    "sns.pairplot(car_prices_df, x_vars=[\"sellingprice\"], y_vars=[\"mmr\", \"condition\", \"odometer\", \"year\"])\n",
    "\n",
    "# Display the pairplot\n",
    "plt.show()"
=======
    "tencar_df.head(3)"
>>>>>>> 8922c1beeaecab2070e67bcabf2021add5da1c75
   ]
  },
  {
   "cell_type": "code",
<<<<<<< HEAD
<<<<<<< HEAD
   "execution_count": 8,
   "id": "74f4b78b-4e4b-4c64-a086-a63fbe7f3777",
=======
   "execution_count": null,
   "id": "d8962ae1-24d8-4da2-b380-50bfce22d061",
>>>>>>> 8922c1beeaecab2070e67bcabf2021add5da1c75
   "metadata": {},
=======
   "execution_count": 43,
   "id": "d8962ae1-24d8-4da2-b380-50bfce22d061",
   "metadata": {
    "tags": []
   },
>>>>>>> 3ddf7e5bedebb8610ca7f894cde888a4599d7e15
   "outputs": [],
   "source": [
    "#selling price, odometer plots\n"
   ]
  },
  {
   "cell_type": "code",
   "execution_count": 44,
   "id": "de4bac47-333b-45d2-a805-1ed038fb5a7b",
   "metadata": {
    "tags": []
   },
   "outputs": [],
   "source": [
    "cat_encoder = LabelEncoder()"
   ]
  },
  {
   "cell_type": "code",
   "execution_count": 45,
   "id": "d4c178ee-0730-444e-85cf-078ff9c18045",
   "metadata": {
    "tags": []
   },
   "outputs": [],
   "source": [
    "for i in tencar_df.columns:\n",
    "    if tencar_df[i].dtype =='object':\n",
    "        tencar_df[i] = cat_encoder.fit_transform(tencar_df[i])"
   ]
  },
  {
   "cell_type": "code",
   "execution_count": 46,
   "id": "f56e07ae-0bf1-450f-8747-6601993d45f2",
   "metadata": {
    "tags": []
   },
   "outputs": [
    {
     "data": {
<<<<<<< HEAD
      "image/png": "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\n",
      "text/plain": [
       "<Figure size 353.25x250 with 1 Axes>"
=======
      "text/html": [
       "<div>\n",
       "<style scoped>\n",
       "    .dataframe tbody tr th:only-of-type {\n",
       "        vertical-align: middle;\n",
       "    }\n",
       "\n",
       "    .dataframe tbody tr th {\n",
       "        vertical-align: top;\n",
       "    }\n",
       "\n",
       "    .dataframe thead th {\n",
       "        text-align: right;\n",
       "    }\n",
       "</style>\n",
       "<table border=\"1\" class=\"dataframe\">\n",
       "  <thead>\n",
       "    <tr style=\"text-align: right;\">\n",
       "      <th></th>\n",
       "      <th>year</th>\n",
       "      <th>make</th>\n",
       "      <th>model</th>\n",
       "      <th>trim</th>\n",
       "      <th>transmission</th>\n",
       "      <th>state</th>\n",
       "      <th>condition</th>\n",
       "      <th>odometer</th>\n",
       "      <th>color</th>\n",
       "      <th>interior</th>\n",
       "      <th>mmr</th>\n",
       "      <th>sellingprice</th>\n",
       "    </tr>\n",
       "  </thead>\n",
       "  <tbody>\n",
       "    <tr>\n",
       "      <th>0</th>\n",
       "      <td>2015</td>\n",
       "      <td>7</td>\n",
       "      <td>231</td>\n",
       "      <td>347</td>\n",
       "      <td>0</td>\n",
       "      <td>2</td>\n",
       "      <td>5.0</td>\n",
       "      <td>16639.0</td>\n",
       "      <td>17</td>\n",
       "      <td>1</td>\n",
       "      <td>20500.0</td>\n",
       "      <td>21500.0</td>\n",
       "    </tr>\n",
       "    <tr>\n",
       "      <th>1</th>\n",
       "      <td>2015</td>\n",
       "      <td>7</td>\n",
       "      <td>231</td>\n",
       "      <td>347</td>\n",
       "      <td>0</td>\n",
       "      <td>2</td>\n",
       "      <td>5.0</td>\n",
       "      <td>9393.0</td>\n",
       "      <td>17</td>\n",
       "      <td>0</td>\n",
       "      <td>20800.0</td>\n",
       "      <td>21500.0</td>\n",
       "    </tr>\n",
       "    <tr>\n",
       "      <th>2</th>\n",
       "      <td>2014</td>\n",
       "      <td>0</td>\n",
       "      <td>4</td>\n",
       "      <td>101</td>\n",
       "      <td>0</td>\n",
       "      <td>2</td>\n",
       "      <td>45.0</td>\n",
       "      <td>1331.0</td>\n",
       "      <td>7</td>\n",
       "      <td>1</td>\n",
       "      <td>31900.0</td>\n",
       "      <td>30000.0</td>\n",
       "    </tr>\n",
       "  </tbody>\n",
       "</table>\n",
       "</div>"
      ],
      "text/plain": [
       "   year  make  model  trim  transmission  state  condition  odometer  color  \\\n",
       "0  2015     7    231   347             0      2        5.0   16639.0     17   \n",
       "1  2015     7    231   347             0      2        5.0    9393.0     17   \n",
       "2  2014     0      4   101             0      2       45.0    1331.0      7   \n",
       "\n",
       "   interior      mmr  sellingprice  \n",
       "0         1  20500.0       21500.0  \n",
       "1         0  20800.0       21500.0  \n",
       "2         1  31900.0       30000.0  "
>>>>>>> 8922c1beeaecab2070e67bcabf2021add5da1c75
      ]
     },
     "execution_count": 46,
     "metadata": {},
     "output_type": "execute_result"
    }
   ],
   "source": [
<<<<<<< HEAD
    "sns.pairplot(car_prices_df, x_vars=[\"sellingprice\"], y_vars=[\"odometer\"], hue=\"odometer\", markers=\"o\")\n",
    "#Display the pairplot\n",
    "plt.show()"
=======
    "tencar_df.head(3)"
>>>>>>> 8922c1beeaecab2070e67bcabf2021add5da1c75
   ]
  },
  {
   "cell_type": "code",
<<<<<<< HEAD
<<<<<<< HEAD
   "execution_count": 9,
   "id": "7dc181bf-dd66-47e6-bca1-0b92f693b46c",
   "metadata": {},
   "outputs": [
    {
     "data": {
      "image/png": "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\n",
      "text/plain": [
       "<Figure size 640x480 with 1 Axes>"
=======
   "execution_count": 76,
=======
   "execution_count": 47,
   "id": "75dab512-fefa-461f-83a2-a68eefe1409a",
   "metadata": {
    "tags": []
   },
   "outputs": [
    {
     "data": {
      "text/plain": [
       "<Axes: >"
      ]
     },
     "execution_count": 47,
     "metadata": {},
     "output_type": "execute_result"
    },
    {
     "data": {
      "image/png": "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",
      "text/plain": [
       "<Figure size 640x480 with 2 Axes>"
      ]
     },
     "metadata": {},
     "output_type": "display_data"
    }
   ],
   "source": [
    "make_sales = tencar_df.corr()\n",
    "sns.heatmap(make_sales, cmap=\"Blues\", annot=True)"
   ]
  },
  {
   "cell_type": "code",
   "execution_count": 48,
>>>>>>> 3ddf7e5bedebb8610ca7f894cde888a4599d7e15
   "id": "f50323f4",
   "metadata": {
    "tags": []
   },
   "outputs": [],
   "source": [
    "scaler = MinMaxScaler()"
   ]
  },
  {
   "cell_type": "code",
   "execution_count": 49,
   "id": "936f43df",
   "metadata": {
    "tags": []
   },
   "outputs": [],
   "source": [
    "X= tencar_df.iloc[:,:-1]\n",
    "y= tencar_df.iloc[:,-1]"
   ]
  },
  {
   "cell_type": "code",
   "execution_count": 50,
   "id": "ca140609-a7ff-44c0-91a5-7e068b40d89f",
   "metadata": {
    "tags": []
   },
   "outputs": [
    {
     "data": {
      "text/plain": [
       "0         21500.0\n",
       "1         21500.0\n",
       "2         30000.0\n",
       "4         67000.0\n",
       "5         10900.0\n",
       "           ...   \n",
       "558828     7800.0\n",
       "558831    22800.0\n",
       "558834    34000.0\n",
       "558835    11100.0\n",
       "558836    26700.0\n",
       "Name: sellingprice, Length: 333610, dtype: float64"
>>>>>>> 8922c1beeaecab2070e67bcabf2021add5da1c75
      ]
     },
     "execution_count": 50,
     "metadata": {},
     "output_type": "execute_result"
    }
   ],
   "source": [
<<<<<<< HEAD
    "sns.countplot (x=\"transmission\", data=car_prices_df)\n",
    "plt.title(\"Transmission Types\")\n",
    "plt.show;"
   ]
  },
  {
   "cell_type": "code",
   "execution_count": 10,
   "id": "262df037-4b0c-43a7-94d6-998c936e1f5f",
   "metadata": {},
   "outputs": [
    {
     "data": {
      "text/plain": [
       "Altima        19349\n",
       "F-150         14479\n",
       "Fusion        12946\n",
       "Camry         12545\n",
       "Escape        11861\n",
       "              ...  \n",
       "rrs               1\n",
       "golf              1\n",
       "g500              1\n",
       "tahoe             1\n",
       "458 Italia        1\n",
       "Name: model, Length: 973, dtype: int64"
      ]
     },
     "execution_count": 10,
     "metadata": {},
     "output_type": "execute_result"
    }
   ],
   "source": [
    "car_prices_df[\"model\"].value_counts()"
   ]
  },
  {
   "cell_type": "code",
   "execution_count": 14,
   "id": "525cf125-81cb-4689-a3b9-be7e3a71a43a",
   "metadata": {},
   "outputs": [],
   "source": [
    "make = car_prices_df[\"make\"]\n",
    "model = car_prices_df[\"model\"]\n",
    "price = car_prices_df [\"sellingprice\"]"
=======
    "y"
>>>>>>> 8922c1beeaecab2070e67bcabf2021add5da1c75
   ]
  },
  {
   "cell_type": "code",
<<<<<<< HEAD
<<<<<<< HEAD
   "execution_count": 15,
   "id": "e8e571d3-7f81-4196-8072-5a0d67026ea5",
   "metadata": {},
   "outputs": [],
   "source": [
    "#fig, axes = plt.subplot(1,2, fig size=(26,20), sharey=True)\n",
    "#fig.suptitle(\"Visualizing categorical data columns\")\n",
    "#sns.barplot(x=make, y=price, ax = axes[0])\n",
    "#sns.barplot(x=model, y=price, ax=axes[1])\n",
    "\n"
=======
   "execution_count": 87,
=======
   "execution_count": 51,
>>>>>>> 3ddf7e5bedebb8610ca7f894cde888a4599d7e15
   "id": "b178759b-96c9-4245-8334-426e4c2e431e",
   "metadata": {
    "tags": []
   },
   "outputs": [],
   "source": [
    "for i in X.columns:\n",
    "    X[i] = scaler.fit_transform(np.array(X[i]).reshape(-1,1))"
>>>>>>> 8922c1beeaecab2070e67bcabf2021add5da1c75
   ]
  },
  {
   "cell_type": "code",
<<<<<<< HEAD
<<<<<<< HEAD
   "execution_count": 18,
   "id": "e363573b-2335-4b9c-a623-c7499f432026",
   "metadata": {},
=======
   "execution_count": 88,
=======
   "execution_count": 52,
>>>>>>> 3ddf7e5bedebb8610ca7f894cde888a4599d7e15
   "id": "37c0e910-0711-451e-871f-6962f37304b2",
   "metadata": {
    "tags": []
   },
>>>>>>> 8922c1beeaecab2070e67bcabf2021add5da1c75
   "outputs": [
    {
     "ename": "ValueError",
     "evalue": "Could not interpret input 'model'",
     "output_type": "error",
     "traceback": [
      "\u001b[0;31m---------------------------------------------------------------------------\u001b[0m",
      "\u001b[0;31mValueError\u001b[0m                                Traceback (most recent call last)",
      "\u001b[0;32m/var/folders/82/zrhtwx6141zffqfvv5htgq_c0000gn/T/ipykernel_59413/913014434.py\u001b[0m in \u001b[0;36m<module>\u001b[0;34m\u001b[0m\n\u001b[1;32m      5\u001b[0m \u001b[0;31m# Assuming 'make', 'model', and 'price' are your column names\u001b[0m\u001b[0;34m\u001b[0m\u001b[0;34m\u001b[0m\u001b[0m\n\u001b[1;32m      6\u001b[0m \u001b[0;31m#sns.barplot(x='make', y='price', ax=axes[0])\u001b[0m\u001b[0;34m\u001b[0m\u001b[0;34m\u001b[0m\u001b[0m\n\u001b[0;32m----> 7\u001b[0;31m \u001b[0msns\u001b[0m\u001b[0;34m.\u001b[0m\u001b[0mbarplot\u001b[0m\u001b[0;34m(\u001b[0m\u001b[0mx\u001b[0m\u001b[0;34m=\u001b[0m\u001b[0;34m'model'\u001b[0m\u001b[0;34m,\u001b[0m \u001b[0my\u001b[0m\u001b[0;34m=\u001b[0m\u001b[0;34m'price'\u001b[0m\u001b[0;34m,\u001b[0m \u001b[0max\u001b[0m\u001b[0;34m=\u001b[0m\u001b[0maxes\u001b[0m\u001b[0;34m[\u001b[0m\u001b[0;36m1\u001b[0m\u001b[0;34m]\u001b[0m\u001b[0;34m)\u001b[0m\u001b[0;34m\u001b[0m\u001b[0;34m\u001b[0m\u001b[0m\n\u001b[0m\u001b[1;32m      8\u001b[0m \u001b[0;34m\u001b[0m\u001b[0m\n\u001b[1;32m      9\u001b[0m \u001b[0;31m# Show the plots\u001b[0m\u001b[0;34m\u001b[0m\u001b[0;34m\u001b[0m\u001b[0m\n",
      "\u001b[0;32m~/opt/anaconda3/lib/python3.9/site-packages/seaborn/_decorators.py\u001b[0m in \u001b[0;36minner_f\u001b[0;34m(*args, **kwargs)\u001b[0m\n\u001b[1;32m     44\u001b[0m             )\n\u001b[1;32m     45\u001b[0m         \u001b[0mkwargs\u001b[0m\u001b[0;34m.\u001b[0m\u001b[0mupdate\u001b[0m\u001b[0;34m(\u001b[0m\u001b[0;34m{\u001b[0m\u001b[0mk\u001b[0m\u001b[0;34m:\u001b[0m \u001b[0marg\u001b[0m \u001b[0;32mfor\u001b[0m \u001b[0mk\u001b[0m\u001b[0;34m,\u001b[0m \u001b[0marg\u001b[0m \u001b[0;32min\u001b[0m \u001b[0mzip\u001b[0m\u001b[0;34m(\u001b[0m\u001b[0msig\u001b[0m\u001b[0;34m.\u001b[0m\u001b[0mparameters\u001b[0m\u001b[0;34m,\u001b[0m \u001b[0margs\u001b[0m\u001b[0;34m)\u001b[0m\u001b[0;34m}\u001b[0m\u001b[0;34m)\u001b[0m\u001b[0;34m\u001b[0m\u001b[0;34m\u001b[0m\u001b[0m\n\u001b[0;32m---> 46\u001b[0;31m         \u001b[0;32mreturn\u001b[0m \u001b[0mf\u001b[0m\u001b[0;34m(\u001b[0m\u001b[0;34m**\u001b[0m\u001b[0mkwargs\u001b[0m\u001b[0;34m)\u001b[0m\u001b[0;34m\u001b[0m\u001b[0;34m\u001b[0m\u001b[0m\n\u001b[0m\u001b[1;32m     47\u001b[0m     \u001b[0;32mreturn\u001b[0m \u001b[0minner_f\u001b[0m\u001b[0;34m\u001b[0m\u001b[0;34m\u001b[0m\u001b[0m\n\u001b[1;32m     48\u001b[0m \u001b[0;34m\u001b[0m\u001b[0m\n",
      "\u001b[0;32m~/opt/anaconda3/lib/python3.9/site-packages/seaborn/categorical.py\u001b[0m in \u001b[0;36mbarplot\u001b[0;34m(x, y, hue, data, order, hue_order, estimator, ci, n_boot, units, seed, orient, color, palette, saturation, errcolor, errwidth, capsize, dodge, ax, **kwargs)\u001b[0m\n\u001b[1;32m   3180\u001b[0m ):\n\u001b[1;32m   3181\u001b[0m \u001b[0;34m\u001b[0m\u001b[0m\n\u001b[0;32m-> 3182\u001b[0;31m     plotter = _BarPlotter(x, y, hue, data, order, hue_order,\n\u001b[0m\u001b[1;32m   3183\u001b[0m                           \u001b[0mestimator\u001b[0m\u001b[0;34m,\u001b[0m \u001b[0mci\u001b[0m\u001b[0;34m,\u001b[0m \u001b[0mn_boot\u001b[0m\u001b[0;34m,\u001b[0m \u001b[0munits\u001b[0m\u001b[0;34m,\u001b[0m \u001b[0mseed\u001b[0m\u001b[0;34m,\u001b[0m\u001b[0;34m\u001b[0m\u001b[0;34m\u001b[0m\u001b[0m\n\u001b[1;32m   3184\u001b[0m                           \u001b[0morient\u001b[0m\u001b[0;34m,\u001b[0m \u001b[0mcolor\u001b[0m\u001b[0;34m,\u001b[0m \u001b[0mpalette\u001b[0m\u001b[0;34m,\u001b[0m \u001b[0msaturation\u001b[0m\u001b[0;34m,\u001b[0m\u001b[0;34m\u001b[0m\u001b[0;34m\u001b[0m\u001b[0m\n",
      "\u001b[0;32m~/opt/anaconda3/lib/python3.9/site-packages/seaborn/categorical.py\u001b[0m in \u001b[0;36m__init__\u001b[0;34m(self, x, y, hue, data, order, hue_order, estimator, ci, n_boot, units, seed, orient, color, palette, saturation, errcolor, errwidth, capsize, dodge)\u001b[0m\n\u001b[1;32m   1582\u001b[0m                  errwidth, capsize, dodge):\n\u001b[1;32m   1583\u001b[0m         \u001b[0;34m\"\"\"Initialize the plotter.\"\"\"\u001b[0m\u001b[0;34m\u001b[0m\u001b[0;34m\u001b[0m\u001b[0m\n\u001b[0;32m-> 1584\u001b[0;31m         self.establish_variables(x, y, hue, data, orient,\n\u001b[0m\u001b[1;32m   1585\u001b[0m                                  order, hue_order, units)\n\u001b[1;32m   1586\u001b[0m         \u001b[0mself\u001b[0m\u001b[0;34m.\u001b[0m\u001b[0mestablish_colors\u001b[0m\u001b[0;34m(\u001b[0m\u001b[0mcolor\u001b[0m\u001b[0;34m,\u001b[0m \u001b[0mpalette\u001b[0m\u001b[0;34m,\u001b[0m \u001b[0msaturation\u001b[0m\u001b[0;34m)\u001b[0m\u001b[0;34m\u001b[0m\u001b[0;34m\u001b[0m\u001b[0m\n",
      "\u001b[0;32m~/opt/anaconda3/lib/python3.9/site-packages/seaborn/categorical.py\u001b[0m in \u001b[0;36mestablish_variables\u001b[0;34m(self, x, y, hue, data, orient, order, hue_order, units)\u001b[0m\n\u001b[1;32m    151\u001b[0m                 \u001b[0;32mif\u001b[0m \u001b[0misinstance\u001b[0m\u001b[0;34m(\u001b[0m\u001b[0mvar\u001b[0m\u001b[0;34m,\u001b[0m \u001b[0mstr\u001b[0m\u001b[0;34m)\u001b[0m\u001b[0;34m:\u001b[0m\u001b[0;34m\u001b[0m\u001b[0;34m\u001b[0m\u001b[0m\n\u001b[1;32m    152\u001b[0m                     \u001b[0merr\u001b[0m \u001b[0;34m=\u001b[0m \u001b[0;34m\"Could not interpret input '{}'\"\u001b[0m\u001b[0;34m.\u001b[0m\u001b[0mformat\u001b[0m\u001b[0;34m(\u001b[0m\u001b[0mvar\u001b[0m\u001b[0;34m)\u001b[0m\u001b[0;34m\u001b[0m\u001b[0;34m\u001b[0m\u001b[0m\n\u001b[0;32m--> 153\u001b[0;31m                     \u001b[0;32mraise\u001b[0m \u001b[0mValueError\u001b[0m\u001b[0;34m(\u001b[0m\u001b[0merr\u001b[0m\u001b[0;34m)\u001b[0m\u001b[0;34m\u001b[0m\u001b[0;34m\u001b[0m\u001b[0m\n\u001b[0m\u001b[1;32m    154\u001b[0m \u001b[0;34m\u001b[0m\u001b[0m\n\u001b[1;32m    155\u001b[0m             \u001b[0;31m# Figure out the plotting orientation\u001b[0m\u001b[0;34m\u001b[0m\u001b[0;34m\u001b[0m\u001b[0m\n",
      "\u001b[0;31mValueError\u001b[0m: Could not interpret input 'model'"
     ]
    },
    {
     "data": {
<<<<<<< HEAD
      "image/png": "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\n",
      "text/plain": [
       "<Figure size 2600x2000 with 2 Axes>"
=======
      "text/html": [
       "<div>\n",
       "<style scoped>\n",
       "    .dataframe tbody tr th:only-of-type {\n",
       "        vertical-align: middle;\n",
       "    }\n",
       "\n",
       "    .dataframe tbody tr th {\n",
       "        vertical-align: top;\n",
       "    }\n",
       "\n",
       "    .dataframe thead th {\n",
       "        text-align: right;\n",
       "    }\n",
       "</style>\n",
       "<table border=\"1\" class=\"dataframe\">\n",
       "  <thead>\n",
       "    <tr style=\"text-align: right;\">\n",
       "      <th></th>\n",
       "      <th>year</th>\n",
       "      <th>make</th>\n",
       "      <th>model</th>\n",
       "      <th>trim</th>\n",
       "      <th>transmission</th>\n",
       "      <th>state</th>\n",
       "      <th>condition</th>\n",
       "      <th>odometer</th>\n",
       "      <th>color</th>\n",
       "      <th>interior</th>\n",
       "      <th>mmr</th>\n",
       "    </tr>\n",
       "  </thead>\n",
       "  <tbody>\n",
       "    <tr>\n",
       "      <th>0</th>\n",
       "      <td>1.00</td>\n",
       "      <td>0.777778</td>\n",
       "      <td>0.788396</td>\n",
       "      <td>0.542188</td>\n",
       "      <td>0.0</td>\n",
       "      <td>0.060606</td>\n",
       "      <td>0.083333</td>\n",
       "      <td>0.016638</td>\n",
       "      <td>0.894737</td>\n",
       "      <td>0.0625</td>\n",
       "      <td>0.116352</td>\n",
       "    </tr>\n",
       "    <tr>\n",
       "      <th>1</th>\n",
       "      <td>1.00</td>\n",
       "      <td>0.777778</td>\n",
       "      <td>0.788396</td>\n",
       "      <td>0.542188</td>\n",
       "      <td>0.0</td>\n",
       "      <td>0.060606</td>\n",
       "      <td>0.083333</td>\n",
       "      <td>0.009392</td>\n",
       "      <td>0.894737</td>\n",
       "      <td>0.0000</td>\n",
       "      <td>0.118057</td>\n",
       "    </tr>\n",
       "    <tr>\n",
       "      <th>2</th>\n",
       "      <td>0.96</td>\n",
       "      <td>0.000000</td>\n",
       "      <td>0.013652</td>\n",
       "      <td>0.157813</td>\n",
       "      <td>0.0</td>\n",
       "      <td>0.060606</td>\n",
       "      <td>0.916667</td>\n",
       "      <td>0.001330</td>\n",
       "      <td>0.368421</td>\n",
       "      <td>0.0625</td>\n",
       "      <td>0.181134</td>\n",
       "    </tr>\n",
       "    <tr>\n",
       "      <th>4</th>\n",
       "      <td>0.96</td>\n",
       "      <td>0.000000</td>\n",
       "      <td>0.058020</td>\n",
       "      <td>0.250000</td>\n",
       "      <td>0.0</td>\n",
       "      <td>0.060606</td>\n",
       "      <td>0.875000</td>\n",
       "      <td>0.002640</td>\n",
       "      <td>0.368421</td>\n",
       "      <td>0.0625</td>\n",
       "      <td>0.374911</td>\n",
       "    </tr>\n",
       "  </tbody>\n",
       "</table>\n",
       "</div>"
      ],
      "text/plain": [
       "   year      make     model      trim  transmission     state  condition  \\\n",
       "0  1.00  0.777778  0.788396  0.542188           0.0  0.060606   0.083333   \n",
       "1  1.00  0.777778  0.788396  0.542188           0.0  0.060606   0.083333   \n",
       "2  0.96  0.000000  0.013652  0.157813           0.0  0.060606   0.916667   \n",
       "4  0.96  0.000000  0.058020  0.250000           0.0  0.060606   0.875000   \n",
       "\n",
<<<<<<< HEAD
       "        odometer     color  interior       mmr  \n",
       "0       0.016638  0.894737    0.0625  0.116352  \n",
       "1       0.009392  0.894737    0.0000  0.118057  \n",
       "2       0.001330  0.368421    0.0625  0.181134  \n",
       "4       0.002640  0.368421    0.0625  0.374911  \n",
       "5       0.005553  0.368421    0.0625  0.087086  \n",
       "...          ...       ...       ...       ...  \n",
       "558828  0.097035  0.789474    0.3750  0.047024  \n",
       "558831  0.066402  0.894737    0.1875  0.115215  \n",
       "558834  0.050560  0.052632    0.0625  0.169200  \n",
       "558835  0.016657  0.894737    0.0625  0.085666  \n",
       "558836  0.015007  0.368421    0.3750  0.168064  \n",
       "\n",
       "[333610 rows x 11 columns]"
>>>>>>> 8922c1beeaecab2070e67bcabf2021add5da1c75
=======
       "   odometer     color  interior       mmr  \n",
       "0  0.016638  0.894737    0.0625  0.116352  \n",
       "1  0.009392  0.894737    0.0000  0.118057  \n",
       "2  0.001330  0.368421    0.0625  0.181134  \n",
       "4  0.002640  0.368421    0.0625  0.374911  "
>>>>>>> 3ddf7e5bedebb8610ca7f894cde888a4599d7e15
      ]
     },
     "execution_count": 52,
     "metadata": {},
     "output_type": "execute_result"
    }
   ],
   "source": [
<<<<<<< HEAD
<<<<<<< HEAD
    "# Create a figure with two subplots\n",
    "fig, axes = plt.subplots(1, 2, figsize=(26, 20), sharey=True)\n",
    "fig.suptitle(\"Visualizing categorical data columns\")\n",
    "\n",
    "# Assuming 'make', 'model', and 'price' are your column names\n",
    "sns.barplot(x='make', y='price', ax=axes[0])\n",
    "sns.barplot(x='model', y='price', ax=axes[1])\n",
    "\n",
    "# Show the plots\n",
    "plt.show()"
=======
    "X"
>>>>>>> 8922c1beeaecab2070e67bcabf2021add5da1c75
=======
    "X.head(4)"
>>>>>>> 3ddf7e5bedebb8610ca7f894cde888a4599d7e15
   ]
  },
  {
   "cell_type": "code",
<<<<<<< HEAD
<<<<<<< HEAD
   "execution_count": null,
   "id": "c407b95a-6ed2-43fa-9089-fbcb0521b075",
   "metadata": {},
   "outputs": [],
   "source": [
    "# Create a pairplot using the variables \"make\" using Seaborn\n",
    "sns.pairplot(car_prices_df, x_vars=[\"sellingprice\"], y_vars=[\"make\"], hue=\"make\", markers=\"o\")\n",
    "#Display the pairplot\n",
    "plt.show()\n",
    "\n",
    "#(need to fix plot for easir visibility)"
=======
   "execution_count": 89,
=======
   "execution_count": 53,
>>>>>>> 3ddf7e5bedebb8610ca7f894cde888a4599d7e15
   "id": "3550d8fd",
   "metadata": {
    "tags": []
   },
   "outputs": [],
   "source": [
    "xtrain,xtest,ytrain,ytest = train_test_split(X,y,test_size=0.2,random_state=1)"
   ]
  },
  {
   "cell_type": "code",
   "execution_count": 54,
   "id": "5b70213f-0fed-4c17-9029-567160daa9e0",
   "metadata": {
    "tags": []
   },
   "outputs": [
    {
     "data": {
      "text/plain": [
       "((266888, 11), (266888,))"
      ]
     },
     "execution_count": 54,
     "metadata": {},
     "output_type": "execute_result"
    }
   ],
   "source": [
    "xtrain.shape, ytrain.shape"
   ]
  },
  {
   "cell_type": "code",
   "execution_count": 55,
   "id": "bbd80c9a",
   "metadata": {
    "tags": []
   },
   "outputs": [
    {
     "data": {
      "text/html": [
       "<style>#sk-container-id-1 {color: black;}#sk-container-id-1 pre{padding: 0;}#sk-container-id-1 div.sk-toggleable {background-color: white;}#sk-container-id-1 label.sk-toggleable__label {cursor: pointer;display: block;width: 100%;margin-bottom: 0;padding: 0.3em;box-sizing: border-box;text-align: center;}#sk-container-id-1 label.sk-toggleable__label-arrow:before {content: \"▸\";float: left;margin-right: 0.25em;color: #696969;}#sk-container-id-1 label.sk-toggleable__label-arrow:hover:before {color: black;}#sk-container-id-1 div.sk-estimator:hover label.sk-toggleable__label-arrow:before {color: black;}#sk-container-id-1 div.sk-toggleable__content {max-height: 0;max-width: 0;overflow: hidden;text-align: left;background-color: #f0f8ff;}#sk-container-id-1 div.sk-toggleable__content pre {margin: 0.2em;color: black;border-radius: 0.25em;background-color: #f0f8ff;}#sk-container-id-1 input.sk-toggleable__control:checked~div.sk-toggleable__content {max-height: 200px;max-width: 100%;overflow: auto;}#sk-container-id-1 input.sk-toggleable__control:checked~label.sk-toggleable__label-arrow:before {content: \"▾\";}#sk-container-id-1 div.sk-estimator input.sk-toggleable__control:checked~label.sk-toggleable__label {background-color: #d4ebff;}#sk-container-id-1 div.sk-label input.sk-toggleable__control:checked~label.sk-toggleable__label {background-color: #d4ebff;}#sk-container-id-1 input.sk-hidden--visually {border: 0;clip: rect(1px 1px 1px 1px);clip: rect(1px, 1px, 1px, 1px);height: 1px;margin: -1px;overflow: hidden;padding: 0;position: absolute;width: 1px;}#sk-container-id-1 div.sk-estimator {font-family: monospace;background-color: #f0f8ff;border: 1px dotted black;border-radius: 0.25em;box-sizing: border-box;margin-bottom: 0.5em;}#sk-container-id-1 div.sk-estimator:hover {background-color: #d4ebff;}#sk-container-id-1 div.sk-parallel-item::after {content: \"\";width: 100%;border-bottom: 1px solid gray;flex-grow: 1;}#sk-container-id-1 div.sk-label:hover label.sk-toggleable__label {background-color: #d4ebff;}#sk-container-id-1 div.sk-serial::before {content: \"\";position: absolute;border-left: 1px solid gray;box-sizing: border-box;top: 0;bottom: 0;left: 50%;z-index: 0;}#sk-container-id-1 div.sk-serial {display: flex;flex-direction: column;align-items: center;background-color: white;padding-right: 0.2em;padding-left: 0.2em;position: relative;}#sk-container-id-1 div.sk-item {position: relative;z-index: 1;}#sk-container-id-1 div.sk-parallel {display: flex;align-items: stretch;justify-content: center;background-color: white;position: relative;}#sk-container-id-1 div.sk-item::before, #sk-container-id-1 div.sk-parallel-item::before {content: \"\";position: absolute;border-left: 1px solid gray;box-sizing: border-box;top: 0;bottom: 0;left: 50%;z-index: -1;}#sk-container-id-1 div.sk-parallel-item {display: flex;flex-direction: column;z-index: 1;position: relative;background-color: white;}#sk-container-id-1 div.sk-parallel-item:first-child::after {align-self: flex-end;width: 50%;}#sk-container-id-1 div.sk-parallel-item:last-child::after {align-self: flex-start;width: 50%;}#sk-container-id-1 div.sk-parallel-item:only-child::after {width: 0;}#sk-container-id-1 div.sk-dashed-wrapped {border: 1px dashed gray;margin: 0 0.4em 0.5em 0.4em;box-sizing: border-box;padding-bottom: 0.4em;background-color: white;}#sk-container-id-1 div.sk-label label {font-family: monospace;font-weight: bold;display: inline-block;line-height: 1.2em;}#sk-container-id-1 div.sk-label-container {text-align: center;}#sk-container-id-1 div.sk-container {/* jupyter's `normalize.less` sets `[hidden] { display: none; }` but bootstrap.min.css set `[hidden] { display: none !important; }` so we also need the `!important` here to be able to override the default hidden behavior on the sphinx rendered scikit-learn.org. See: https://github.com/scikit-learn/scikit-learn/issues/21755 */display: inline-block !important;position: relative;}#sk-container-id-1 div.sk-text-repr-fallback {display: none;}</style><div id=\"sk-container-id-1\" class=\"sk-top-container\"><div class=\"sk-text-repr-fallback\"><pre>Lasso()</pre><b>In a Jupyter environment, please rerun this cell to show the HTML representation or trust the notebook. <br />On GitHub, the HTML representation is unable to render, please try loading this page with nbviewer.org.</b></div><div class=\"sk-container\" hidden><div class=\"sk-item\"><div class=\"sk-estimator sk-toggleable\"><input class=\"sk-toggleable__control sk-hidden--visually\" id=\"sk-estimator-id-1\" type=\"checkbox\" checked><label for=\"sk-estimator-id-1\" class=\"sk-toggleable__label sk-toggleable__label-arrow\">Lasso</label><div class=\"sk-toggleable__content\"><pre>Lasso()</pre></div></div></div></div></div>"
      ],
      "text/plain": [
       "Lasso()"
      ]
     },
     "execution_count": 55,
     "metadata": {},
     "output_type": "execute_result"
    }
   ],
   "source": [
    "lasso_model = Lasso()\n",
    "lasso_model.fit(xtrain,ytrain)"
   ]
  },
  {
   "cell_type": "code",
   "execution_count": 56,
   "id": "17f07f78",
   "metadata": {
    "tags": []
   },
   "outputs": [],
   "source": [
    "pred=lasso_model.predict(xtest)"
   ]
  },
  {
   "cell_type": "code",
   "execution_count": 57,
   "id": "ca7c90bf",
   "metadata": {
    "tags": []
   },
   "outputs": [
    {
     "data": {
      "text/plain": [
       "1575.72"
      ]
     },
     "execution_count": 57,
     "metadata": {},
     "output_type": "execute_result"
    }
   ],
   "source": [
    "msre = round(np.sqrt(mean_squared_error(ytest,pred)),2)\n",
    "msre"
   ]
  },
  {
   "cell_type": "code",
   "execution_count": 58,
   "id": "608051c1-2938-4cba-a8e3-33f053a4af85",
   "metadata": {
    "tags": []
   },
   "outputs": [
    {
     "data": {
      "text/plain": [
       "2482889.3851782745"
      ]
     },
     "execution_count": 58,
     "metadata": {},
     "output_type": "execute_result"
    }
   ],
   "source": [
    "mean_squared_error(ytest,pred)"
   ]
  },
  {
   "cell_type": "code",
   "execution_count": 59,
   "id": "02f9a668-3529-4366-9ed9-c2f6fd2c9f91",
   "metadata": {
    "tags": []
   },
   "outputs": [
    {
     "data": {
      "text/plain": [
       "array([-8.17454142e+02, -8.23924698e+01,  1.12124253e+01, -4.20897639e+01,\n",
       "       -1.24524261e+02, -1.74620816e+02,  1.81280969e+03, -2.03085008e+02,\n",
       "        1.14732524e+02, -3.84527396e+01,  1.72695214e+05])"
      ]
     },
     "execution_count": 59,
     "metadata": {},
     "output_type": "execute_result"
    }
   ],
   "source": [
    "lasso_model.coef_"
   ]
  },
  {
   "cell_type": "code",
   "execution_count": 60,
   "id": "7c6d11a1-eba4-470d-bb37-3135ed9b9f74",
   "metadata": {
    "tags": []
   },
   "outputs": [
    {
     "data": {
      "text/plain": [
       "-232.53399963463198"
      ]
     },
     "execution_count": 60,
     "metadata": {},
     "output_type": "execute_result"
    }
   ],
   "source": [
    "lasso_model.intercept_"
   ]
  },
  {
   "cell_type": "code",
   "execution_count": 61,
   "id": "d7565f8f",
   "metadata": {
    "tags": []
   },
   "outputs": [
    {
     "data": {
      "text/plain": [
       "0.9631047733122278"
      ]
     },
     "execution_count": 61,
     "metadata": {},
     "output_type": "execute_result"
    }
   ],
   "source": [
<<<<<<< HEAD
    "### Step 2: Exploratory Data Analysis"
>>>>>>> 8922c1beeaecab2070e67bcabf2021add5da1c75
=======
    "r2_score(ytest,pred)"
>>>>>>> 3ddf7e5bedebb8610ca7f894cde888a4599d7e15
   ]
  },
  {
   "cell_type": "code",
<<<<<<< HEAD
   "execution_count": null,
<<<<<<< HEAD
   "id": "206dc7d2-ebef-4dcb-a9af-a6585f12c4d1",
=======
   "id": "b1065dfd-fc00-4ea2-b154-f9f5130b53cb",
>>>>>>> 8922c1beeaecab2070e67bcabf2021add5da1c75
   "metadata": {},
=======
   "execution_count": 62,
   "id": "25323d16-9b5a-4b36-a0f0-2984dd15d113",
   "metadata": {
    "tags": []
   },
>>>>>>> 3ddf7e5bedebb8610ca7f894cde888a4599d7e15
   "outputs": [],
   "source": [
    "param = {'alpha' :[1e-15,1e-10,1e-8,1e-3,1e-2,1,5,10,20,30,40,50,100, 1000, 10000]}"
   ]
  },
  {
   "cell_type": "code",
<<<<<<< HEAD
<<<<<<< HEAD
   "execution_count": null,
   "id": "84466937-aef4-4b0f-a735-7cfdfa662e4b",
   "metadata": {},
   "outputs": [],
   "source": [
    "# Create a pairplot using the variables \"make\" and \"model\" using Seaborn (might not use this one)\n",
    "sns.pairplot(car_prices_df, x_vars=[\"sellingprice\"], y_vars=[\"model\"])\n",
    "#Display the pairplot\n",
    "plt.show()"
   ]
  },
  {
   "cell_type": "code",
   "execution_count": null,
   "id": "7a3e8c06-a158-452b-942c-623c625c4fe2",
   "metadata": {},
   "outputs": [],
   "source": [
    "g = sns.PairGrid(car_prices_df, y_vars=[\"sellingprice\"], x_vars=[\"mmr\", \"odometer\"], height=4)\n",
    "g.map(sns.regplot, color=\".3\")\n",
    "g.set(ylim=(-1, 11), yticks=[0, 5, 10])\n",
    "\n",
    "plt.show()"
   ]
  },
  {
   "cell_type": "code",
   "execution_count": null,
   "id": "8369ffb4-de9d-4685-9133-4472c8114f42",
   "metadata": {},
   "outputs": [],
   "source": [
    "# Create a pairplot using the variables \"interior\" and \"color\" using Seaborn\n",
    "sns.pairplot(car_prices_df, x_vars=[\"sellingprice\"], y_vars=[\"color\", \"interior\"], hue=\"color\", markers=\"o\")\n",
    "\n",
    "#Display the pairplot\n",
    "plt.show()"
   ]
  },
  {
   "cell_type": "code",
   "execution_count": null,
   "id": "cae41b7d-bbf8-4c83-960a-fd5750802a2b",
   "metadata": {},
   "outputs": [],
   "source": [
    "g = sns.PairGrid(car_prices_df, hue=\"sellingprice\")\n",
    "g.map_diag(sns.histplot)\n",
    "g.map_offdiag(sns.scatterplot)\n",
    "g.add_legend()"
=======
   "execution_count": 20,
   "id": "6b00e4da-51ac-450e-9020-7423aaa55094",
   "metadata": {},
=======
   "execution_count": 63,
   "id": "7fd2e956-5877-40bb-ab42-8a0b0efe30c0",
   "metadata": {
    "tags": []
   },
>>>>>>> 3ddf7e5bedebb8610ca7f894cde888a4599d7e15
   "outputs": [],
   "source": [
    "lasso_twocv= GridSearchCV(lasso_model, param, cv=3, n_jobs=1)"
   ]
  },
  {
   "cell_type": "code",
   "execution_count": 64,
   "id": "36c377b9-3365-4fa4-90ad-aa28248cbfbc",
   "metadata": {
    "tags": []
   },
   "outputs": [
    {
     "data": {
      "text/html": [
       "<style>#sk-container-id-2 {color: black;}#sk-container-id-2 pre{padding: 0;}#sk-container-id-2 div.sk-toggleable {background-color: white;}#sk-container-id-2 label.sk-toggleable__label {cursor: pointer;display: block;width: 100%;margin-bottom: 0;padding: 0.3em;box-sizing: border-box;text-align: center;}#sk-container-id-2 label.sk-toggleable__label-arrow:before {content: \"▸\";float: left;margin-right: 0.25em;color: #696969;}#sk-container-id-2 label.sk-toggleable__label-arrow:hover:before {color: black;}#sk-container-id-2 div.sk-estimator:hover label.sk-toggleable__label-arrow:before {color: black;}#sk-container-id-2 div.sk-toggleable__content {max-height: 0;max-width: 0;overflow: hidden;text-align: left;background-color: #f0f8ff;}#sk-container-id-2 div.sk-toggleable__content pre {margin: 0.2em;color: black;border-radius: 0.25em;background-color: #f0f8ff;}#sk-container-id-2 input.sk-toggleable__control:checked~div.sk-toggleable__content {max-height: 200px;max-width: 100%;overflow: auto;}#sk-container-id-2 input.sk-toggleable__control:checked~label.sk-toggleable__label-arrow:before {content: \"▾\";}#sk-container-id-2 div.sk-estimator input.sk-toggleable__control:checked~label.sk-toggleable__label {background-color: #d4ebff;}#sk-container-id-2 div.sk-label input.sk-toggleable__control:checked~label.sk-toggleable__label {background-color: #d4ebff;}#sk-container-id-2 input.sk-hidden--visually {border: 0;clip: rect(1px 1px 1px 1px);clip: rect(1px, 1px, 1px, 1px);height: 1px;margin: -1px;overflow: hidden;padding: 0;position: absolute;width: 1px;}#sk-container-id-2 div.sk-estimator {font-family: monospace;background-color: #f0f8ff;border: 1px dotted black;border-radius: 0.25em;box-sizing: border-box;margin-bottom: 0.5em;}#sk-container-id-2 div.sk-estimator:hover {background-color: #d4ebff;}#sk-container-id-2 div.sk-parallel-item::after {content: \"\";width: 100%;border-bottom: 1px solid gray;flex-grow: 1;}#sk-container-id-2 div.sk-label:hover label.sk-toggleable__label {background-color: #d4ebff;}#sk-container-id-2 div.sk-serial::before {content: \"\";position: absolute;border-left: 1px solid gray;box-sizing: border-box;top: 0;bottom: 0;left: 50%;z-index: 0;}#sk-container-id-2 div.sk-serial {display: flex;flex-direction: column;align-items: center;background-color: white;padding-right: 0.2em;padding-left: 0.2em;position: relative;}#sk-container-id-2 div.sk-item {position: relative;z-index: 1;}#sk-container-id-2 div.sk-parallel {display: flex;align-items: stretch;justify-content: center;background-color: white;position: relative;}#sk-container-id-2 div.sk-item::before, #sk-container-id-2 div.sk-parallel-item::before {content: \"\";position: absolute;border-left: 1px solid gray;box-sizing: border-box;top: 0;bottom: 0;left: 50%;z-index: -1;}#sk-container-id-2 div.sk-parallel-item {display: flex;flex-direction: column;z-index: 1;position: relative;background-color: white;}#sk-container-id-2 div.sk-parallel-item:first-child::after {align-self: flex-end;width: 50%;}#sk-container-id-2 div.sk-parallel-item:last-child::after {align-self: flex-start;width: 50%;}#sk-container-id-2 div.sk-parallel-item:only-child::after {width: 0;}#sk-container-id-2 div.sk-dashed-wrapped {border: 1px dashed gray;margin: 0 0.4em 0.5em 0.4em;box-sizing: border-box;padding-bottom: 0.4em;background-color: white;}#sk-container-id-2 div.sk-label label {font-family: monospace;font-weight: bold;display: inline-block;line-height: 1.2em;}#sk-container-id-2 div.sk-label-container {text-align: center;}#sk-container-id-2 div.sk-container {/* jupyter's `normalize.less` sets `[hidden] { display: none; }` but bootstrap.min.css set `[hidden] { display: none !important; }` so we also need the `!important` here to be able to override the default hidden behavior on the sphinx rendered scikit-learn.org. See: https://github.com/scikit-learn/scikit-learn/issues/21755 */display: inline-block !important;position: relative;}#sk-container-id-2 div.sk-text-repr-fallback {display: none;}</style><div id=\"sk-container-id-2\" class=\"sk-top-container\"><div class=\"sk-text-repr-fallback\"><pre>GridSearchCV(cv=3, estimator=Lasso(), n_jobs=1,\n",
       "             param_grid={&#x27;alpha&#x27;: [1e-15, 1e-10, 1e-08, 0.001, 0.01, 1, 5, 10,\n",
       "                                   20, 30, 40, 50, 100, 1000, 10000]})</pre><b>In a Jupyter environment, please rerun this cell to show the HTML representation or trust the notebook. <br />On GitHub, the HTML representation is unable to render, please try loading this page with nbviewer.org.</b></div><div class=\"sk-container\" hidden><div class=\"sk-item sk-dashed-wrapped\"><div class=\"sk-label-container\"><div class=\"sk-label sk-toggleable\"><input class=\"sk-toggleable__control sk-hidden--visually\" id=\"sk-estimator-id-2\" type=\"checkbox\" ><label for=\"sk-estimator-id-2\" class=\"sk-toggleable__label sk-toggleable__label-arrow\">GridSearchCV</label><div class=\"sk-toggleable__content\"><pre>GridSearchCV(cv=3, estimator=Lasso(), n_jobs=1,\n",
       "             param_grid={&#x27;alpha&#x27;: [1e-15, 1e-10, 1e-08, 0.001, 0.01, 1, 5, 10,\n",
       "                                   20, 30, 40, 50, 100, 1000, 10000]})</pre></div></div></div><div class=\"sk-parallel\"><div class=\"sk-parallel-item\"><div class=\"sk-item\"><div class=\"sk-label-container\"><div class=\"sk-label sk-toggleable\"><input class=\"sk-toggleable__control sk-hidden--visually\" id=\"sk-estimator-id-3\" type=\"checkbox\" ><label for=\"sk-estimator-id-3\" class=\"sk-toggleable__label sk-toggleable__label-arrow\">estimator: Lasso</label><div class=\"sk-toggleable__content\"><pre>Lasso()</pre></div></div></div><div class=\"sk-serial\"><div class=\"sk-item\"><div class=\"sk-estimator sk-toggleable\"><input class=\"sk-toggleable__control sk-hidden--visually\" id=\"sk-estimator-id-4\" type=\"checkbox\" ><label for=\"sk-estimator-id-4\" class=\"sk-toggleable__label sk-toggleable__label-arrow\">Lasso</label><div class=\"sk-toggleable__content\"><pre>Lasso()</pre></div></div></div></div></div></div></div></div></div></div>"
      ],
      "text/plain": [
       "GridSearchCV(cv=3, estimator=Lasso(), n_jobs=1,\n",
       "             param_grid={'alpha': [1e-15, 1e-10, 1e-08, 0.001, 0.01, 1, 5, 10,\n",
       "                                   20, 30, 40, 50, 100, 1000, 10000]})"
      ]
     },
     "execution_count": 64,
     "metadata": {},
     "output_type": "execute_result"
    }
   ],
   "source": [
    "lasso_twocv.fit(xtrain, ytrain)"
   ]
  },
  {
   "cell_type": "code",
   "execution_count": 65,
   "id": "8fd6bfee-f5ab-4655-a2b7-16c507b649c8",
   "metadata": {
    "tags": []
   },
   "outputs": [],
   "source": [
    "pred_two= lasso_twocv.predict(xtest)"
   ]
  },
  {
   "cell_type": "code",
   "execution_count": 66,
   "id": "968cd25d-ff8d-4a57-89bb-1cb07ccce19d",
   "metadata": {
    "tags": []
   },
   "outputs": [
    {
     "data": {
      "text/plain": [
       "1007.7141075641179"
      ]
     },
     "execution_count": 66,
     "metadata": {},
     "output_type": "execute_result"
    }
   ],
   "source": [
    "mean_absolute_error(ytest, pred_two)"
   ]
  },
  {
   "cell_type": "code",
   "execution_count": 67,
   "id": "72f5e046-795e-46ac-9bdf-33f099f42b45",
   "metadata": {
    "tags": []
   },
   "outputs": [
    {
     "data": {
      "text/plain": [
       "2480726.3690540222"
      ]
     },
     "execution_count": 67,
     "metadata": {},
     "output_type": "execute_result"
    }
   ],
   "source": [
    "mean_squared_error(ytest, pred_two)"
   ]
  },
  {
   "cell_type": "code",
   "execution_count": 68,
   "id": "d6f026c6-87f7-473e-89c7-329db053bf1e",
   "metadata": {
    "tags": []
   },
   "outputs": [
    {
     "data": {
      "text/plain": [
       "0.9631369152879073"
      ]
     },
     "execution_count": 68,
     "metadata": {},
     "output_type": "execute_result"
    }
   ],
   "source": [
    "r2_score(ytest, pred_two)"
   ]
  },
  {
   "cell_type": "code",
   "execution_count": 69,
   "id": "db2eb7a7-98db-43dc-b0d7-4168fe9fdb42",
   "metadata": {
    "tags": []
   },
   "outputs": [
    {
     "data": {
      "text/html": [
       "<style>#sk-container-id-3 {color: black;}#sk-container-id-3 pre{padding: 0;}#sk-container-id-3 div.sk-toggleable {background-color: white;}#sk-container-id-3 label.sk-toggleable__label {cursor: pointer;display: block;width: 100%;margin-bottom: 0;padding: 0.3em;box-sizing: border-box;text-align: center;}#sk-container-id-3 label.sk-toggleable__label-arrow:before {content: \"▸\";float: left;margin-right: 0.25em;color: #696969;}#sk-container-id-3 label.sk-toggleable__label-arrow:hover:before {color: black;}#sk-container-id-3 div.sk-estimator:hover label.sk-toggleable__label-arrow:before {color: black;}#sk-container-id-3 div.sk-toggleable__content {max-height: 0;max-width: 0;overflow: hidden;text-align: left;background-color: #f0f8ff;}#sk-container-id-3 div.sk-toggleable__content pre {margin: 0.2em;color: black;border-radius: 0.25em;background-color: #f0f8ff;}#sk-container-id-3 input.sk-toggleable__control:checked~div.sk-toggleable__content {max-height: 200px;max-width: 100%;overflow: auto;}#sk-container-id-3 input.sk-toggleable__control:checked~label.sk-toggleable__label-arrow:before {content: \"▾\";}#sk-container-id-3 div.sk-estimator input.sk-toggleable__control:checked~label.sk-toggleable__label {background-color: #d4ebff;}#sk-container-id-3 div.sk-label input.sk-toggleable__control:checked~label.sk-toggleable__label {background-color: #d4ebff;}#sk-container-id-3 input.sk-hidden--visually {border: 0;clip: rect(1px 1px 1px 1px);clip: rect(1px, 1px, 1px, 1px);height: 1px;margin: -1px;overflow: hidden;padding: 0;position: absolute;width: 1px;}#sk-container-id-3 div.sk-estimator {font-family: monospace;background-color: #f0f8ff;border: 1px dotted black;border-radius: 0.25em;box-sizing: border-box;margin-bottom: 0.5em;}#sk-container-id-3 div.sk-estimator:hover {background-color: #d4ebff;}#sk-container-id-3 div.sk-parallel-item::after {content: \"\";width: 100%;border-bottom: 1px solid gray;flex-grow: 1;}#sk-container-id-3 div.sk-label:hover label.sk-toggleable__label {background-color: #d4ebff;}#sk-container-id-3 div.sk-serial::before {content: \"\";position: absolute;border-left: 1px solid gray;box-sizing: border-box;top: 0;bottom: 0;left: 50%;z-index: 0;}#sk-container-id-3 div.sk-serial {display: flex;flex-direction: column;align-items: center;background-color: white;padding-right: 0.2em;padding-left: 0.2em;position: relative;}#sk-container-id-3 div.sk-item {position: relative;z-index: 1;}#sk-container-id-3 div.sk-parallel {display: flex;align-items: stretch;justify-content: center;background-color: white;position: relative;}#sk-container-id-3 div.sk-item::before, #sk-container-id-3 div.sk-parallel-item::before {content: \"\";position: absolute;border-left: 1px solid gray;box-sizing: border-box;top: 0;bottom: 0;left: 50%;z-index: -1;}#sk-container-id-3 div.sk-parallel-item {display: flex;flex-direction: column;z-index: 1;position: relative;background-color: white;}#sk-container-id-3 div.sk-parallel-item:first-child::after {align-self: flex-end;width: 50%;}#sk-container-id-3 div.sk-parallel-item:last-child::after {align-self: flex-start;width: 50%;}#sk-container-id-3 div.sk-parallel-item:only-child::after {width: 0;}#sk-container-id-3 div.sk-dashed-wrapped {border: 1px dashed gray;margin: 0 0.4em 0.5em 0.4em;box-sizing: border-box;padding-bottom: 0.4em;background-color: white;}#sk-container-id-3 div.sk-label label {font-family: monospace;font-weight: bold;display: inline-block;line-height: 1.2em;}#sk-container-id-3 div.sk-label-container {text-align: center;}#sk-container-id-3 div.sk-container {/* jupyter's `normalize.less` sets `[hidden] { display: none; }` but bootstrap.min.css set `[hidden] { display: none !important; }` so we also need the `!important` here to be able to override the default hidden behavior on the sphinx rendered scikit-learn.org. See: https://github.com/scikit-learn/scikit-learn/issues/21755 */display: inline-block !important;position: relative;}#sk-container-id-3 div.sk-text-repr-fallback {display: none;}</style><div id=\"sk-container-id-3\" class=\"sk-top-container\"><div class=\"sk-text-repr-fallback\"><pre>Lasso(alpha=0.001)</pre><b>In a Jupyter environment, please rerun this cell to show the HTML representation or trust the notebook. <br />On GitHub, the HTML representation is unable to render, please try loading this page with nbviewer.org.</b></div><div class=\"sk-container\" hidden><div class=\"sk-item\"><div class=\"sk-estimator sk-toggleable\"><input class=\"sk-toggleable__control sk-hidden--visually\" id=\"sk-estimator-id-5\" type=\"checkbox\" checked><label for=\"sk-estimator-id-5\" class=\"sk-toggleable__label sk-toggleable__label-arrow\">Lasso</label><div class=\"sk-toggleable__content\"><pre>Lasso(alpha=0.001)</pre></div></div></div></div></div>"
      ],
      "text/plain": [
       "Lasso(alpha=0.001)"
      ]
     },
     "execution_count": 69,
     "metadata": {},
     "output_type": "execute_result"
    }
   ],
   "source": [
    "lasso_twocv.best_estimator_"
   ]
  },
  {
   "cell_type": "code",
   "execution_count": 70,
   "id": "6f1c5622-e782-45db-9472-fc2555af0c39",
   "metadata": {
    "tags": []
   },
   "outputs": [],
   "source": [
    "lass_two = Lasso(alpha=10000)"
   ]
  },
  {
   "cell_type": "code",
   "execution_count": 71,
   "id": "d45ebff3-c337-4700-981b-4a0334671ade",
   "metadata": {
    "tags": []
   },
   "outputs": [
    {
     "data": {
      "text/html": [
       "<style>#sk-container-id-4 {color: black;}#sk-container-id-4 pre{padding: 0;}#sk-container-id-4 div.sk-toggleable {background-color: white;}#sk-container-id-4 label.sk-toggleable__label {cursor: pointer;display: block;width: 100%;margin-bottom: 0;padding: 0.3em;box-sizing: border-box;text-align: center;}#sk-container-id-4 label.sk-toggleable__label-arrow:before {content: \"▸\";float: left;margin-right: 0.25em;color: #696969;}#sk-container-id-4 label.sk-toggleable__label-arrow:hover:before {color: black;}#sk-container-id-4 div.sk-estimator:hover label.sk-toggleable__label-arrow:before {color: black;}#sk-container-id-4 div.sk-toggleable__content {max-height: 0;max-width: 0;overflow: hidden;text-align: left;background-color: #f0f8ff;}#sk-container-id-4 div.sk-toggleable__content pre {margin: 0.2em;color: black;border-radius: 0.25em;background-color: #f0f8ff;}#sk-container-id-4 input.sk-toggleable__control:checked~div.sk-toggleable__content {max-height: 200px;max-width: 100%;overflow: auto;}#sk-container-id-4 input.sk-toggleable__control:checked~label.sk-toggleable__label-arrow:before {content: \"▾\";}#sk-container-id-4 div.sk-estimator input.sk-toggleable__control:checked~label.sk-toggleable__label {background-color: #d4ebff;}#sk-container-id-4 div.sk-label input.sk-toggleable__control:checked~label.sk-toggleable__label {background-color: #d4ebff;}#sk-container-id-4 input.sk-hidden--visually {border: 0;clip: rect(1px 1px 1px 1px);clip: rect(1px, 1px, 1px, 1px);height: 1px;margin: -1px;overflow: hidden;padding: 0;position: absolute;width: 1px;}#sk-container-id-4 div.sk-estimator {font-family: monospace;background-color: #f0f8ff;border: 1px dotted black;border-radius: 0.25em;box-sizing: border-box;margin-bottom: 0.5em;}#sk-container-id-4 div.sk-estimator:hover {background-color: #d4ebff;}#sk-container-id-4 div.sk-parallel-item::after {content: \"\";width: 100%;border-bottom: 1px solid gray;flex-grow: 1;}#sk-container-id-4 div.sk-label:hover label.sk-toggleable__label {background-color: #d4ebff;}#sk-container-id-4 div.sk-serial::before {content: \"\";position: absolute;border-left: 1px solid gray;box-sizing: border-box;top: 0;bottom: 0;left: 50%;z-index: 0;}#sk-container-id-4 div.sk-serial {display: flex;flex-direction: column;align-items: center;background-color: white;padding-right: 0.2em;padding-left: 0.2em;position: relative;}#sk-container-id-4 div.sk-item {position: relative;z-index: 1;}#sk-container-id-4 div.sk-parallel {display: flex;align-items: stretch;justify-content: center;background-color: white;position: relative;}#sk-container-id-4 div.sk-item::before, #sk-container-id-4 div.sk-parallel-item::before {content: \"\";position: absolute;border-left: 1px solid gray;box-sizing: border-box;top: 0;bottom: 0;left: 50%;z-index: -1;}#sk-container-id-4 div.sk-parallel-item {display: flex;flex-direction: column;z-index: 1;position: relative;background-color: white;}#sk-container-id-4 div.sk-parallel-item:first-child::after {align-self: flex-end;width: 50%;}#sk-container-id-4 div.sk-parallel-item:last-child::after {align-self: flex-start;width: 50%;}#sk-container-id-4 div.sk-parallel-item:only-child::after {width: 0;}#sk-container-id-4 div.sk-dashed-wrapped {border: 1px dashed gray;margin: 0 0.4em 0.5em 0.4em;box-sizing: border-box;padding-bottom: 0.4em;background-color: white;}#sk-container-id-4 div.sk-label label {font-family: monospace;font-weight: bold;display: inline-block;line-height: 1.2em;}#sk-container-id-4 div.sk-label-container {text-align: center;}#sk-container-id-4 div.sk-container {/* jupyter's `normalize.less` sets `[hidden] { display: none; }` but bootstrap.min.css set `[hidden] { display: none !important; }` so we also need the `!important` here to be able to override the default hidden behavior on the sphinx rendered scikit-learn.org. See: https://github.com/scikit-learn/scikit-learn/issues/21755 */display: inline-block !important;position: relative;}#sk-container-id-4 div.sk-text-repr-fallback {display: none;}</style><div id=\"sk-container-id-4\" class=\"sk-top-container\"><div class=\"sk-text-repr-fallback\"><pre>Lasso(alpha=10000)</pre><b>In a Jupyter environment, please rerun this cell to show the HTML representation or trust the notebook. <br />On GitHub, the HTML representation is unable to render, please try loading this page with nbviewer.org.</b></div><div class=\"sk-container\" hidden><div class=\"sk-item\"><div class=\"sk-estimator sk-toggleable\"><input class=\"sk-toggleable__control sk-hidden--visually\" id=\"sk-estimator-id-6\" type=\"checkbox\" checked><label for=\"sk-estimator-id-6\" class=\"sk-toggleable__label sk-toggleable__label-arrow\">Lasso</label><div class=\"sk-toggleable__content\"><pre>Lasso(alpha=10000)</pre></div></div></div></div></div>"
      ],
      "text/plain": [
       "Lasso(alpha=10000)"
      ]
     },
     "execution_count": 71,
     "metadata": {},
     "output_type": "execute_result"
    }
   ],
   "source": [
    "lass_two.fit(xtrain, ytrain)"
   ]
  },
  {
   "cell_type": "code",
   "execution_count": 72,
   "id": "a4882eb2-5717-4c1d-b193-cb3b57145414",
   "metadata": {
    "tags": []
   },
   "outputs": [
    {
     "data": {
      "text/plain": [
       "12879.989321363268"
      ]
     },
     "execution_count": 72,
     "metadata": {},
     "output_type": "execute_result"
    }
   ],
   "source": [
    "lass_two.intercept_"
   ]
  },
  {
   "cell_type": "code",
   "execution_count": 73,
   "id": "eac9664d-9a4d-422c-bccd-8f9a5f5e62a3",
   "metadata": {
    "tags": []
   },
   "outputs": [
    {
     "data": {
      "text/plain": [
       "array([ 0., -0.,  0.,  0., -0.,  0.,  0., -0.,  0., -0.,  0.])"
      ]
     },
     "execution_count": 73,
     "metadata": {},
     "output_type": "execute_result"
    }
   ],
   "source": [
    "lass_two.coef_"
   ]
  },
  {
   "cell_type": "code",
   "execution_count": 74,
   "id": "6ba4b9d2-30ae-4170-9593-464d71fe1286",
   "metadata": {
    "tags": []
   },
   "outputs": [
    {
     "data": {
      "text/plain": [
       "{'year': -817.4541415794246,\n",
       " 'make': -82.39246984041785,\n",
       " 'model': 11.212425334902603,\n",
       " 'trim': -42.08976387141737,\n",
       " 'transmission': -124.52426052484583,\n",
       " 'state': -174.62081592827352,\n",
       " 'condition': 1812.809692256023,\n",
       " 'odometer': -203.0850078595758,\n",
       " 'color': 114.73252408179597,\n",
       " 'interior': -38.452739581848,\n",
       " 'mmr': 172695.21381646427}"
      ]
     },
     "execution_count": 74,
     "metadata": {},
     "output_type": "execute_result"
    }
   ],
   "source": [
    "coef_dict={}\n",
    "for coef, feat in zip(lasso_model.coef_,X.columns):\n",
    "    coef_dict[feat] = coef\n",
    "coef_dict"
   ]
  },
  {
   "cell_type": "code",
   "execution_count": 80,
   "id": "6241d0d6-69af-4cca-bfcc-0c3e233c18e6",
   "metadata": {
    "tags": []
   },
   "outputs": [],
   "source": [
    "predict_lasso = lass_two.predict(xtest)\n"
   ]
  },
  {
   "cell_type": "code",
   "execution_count": 93,
   "id": "96918c2c-4cdb-4033-b337-a734b497cce5",
   "metadata": {
    "tags": []
   },
   "outputs": [
    {
     "name": "stdout",
     "output_type": "stream",
     "text": [
      "Index(['year', 'make', 'model', 'trim', 'transmission', 'state', 'condition',\n",
      "       'odometer', 'color', 'interior', 'mmr'],\n",
      "      dtype='object')\n"
     ]
    }
   ],
   "source": [
    "coef_names = tencar_df.drop('sellingprice',axis=1).columns\n",
    "\n",
    "print(coef_names)"
   ]
  },
  {
   "cell_type": "code",
   "execution_count": 94,
   "id": "5d2424a9-2cb0-4c5f-b737-52df1b2a2a08",
   "metadata": {
    "tags": []
   },
   "outputs": [
    {
     "data": {
      "image/png": "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",
      "text/plain": [
       "<Figure size 640x480 with 1 Axes>"
      ]
     },
     "metadata": {},
     "output_type": "display_data"
    }
   ],
   "source": [
    "\n",
    "lasso = Lasso(alpha=100)\n",
    "lasso_coef = lasso.fit(X, y).coef_\n",
    "\n",
    "plt.plot(range(len(names)), lasso_coef)\n",
    "plt.xticks(range(len(names)), names, rotation=90)\n",
    "plt.ylabel(\"Coefficients\")\n",
    "plt.show()"
   ]
  },
  {
   "cell_type": "code",
   "execution_count": 95,
   "id": "3bfbf15c-1105-4d8d-a469-d969f12ee45d",
   "metadata": {
    "tags": []
   },
   "outputs": [
    {
     "data": {
      "text/html": [
       "<style>#sk-container-id-7 {color: black;}#sk-container-id-7 pre{padding: 0;}#sk-container-id-7 div.sk-toggleable {background-color: white;}#sk-container-id-7 label.sk-toggleable__label {cursor: pointer;display: block;width: 100%;margin-bottom: 0;padding: 0.3em;box-sizing: border-box;text-align: center;}#sk-container-id-7 label.sk-toggleable__label-arrow:before {content: \"▸\";float: left;margin-right: 0.25em;color: #696969;}#sk-container-id-7 label.sk-toggleable__label-arrow:hover:before {color: black;}#sk-container-id-7 div.sk-estimator:hover label.sk-toggleable__label-arrow:before {color: black;}#sk-container-id-7 div.sk-toggleable__content {max-height: 0;max-width: 0;overflow: hidden;text-align: left;background-color: #f0f8ff;}#sk-container-id-7 div.sk-toggleable__content pre {margin: 0.2em;color: black;border-radius: 0.25em;background-color: #f0f8ff;}#sk-container-id-7 input.sk-toggleable__control:checked~div.sk-toggleable__content {max-height: 200px;max-width: 100%;overflow: auto;}#sk-container-id-7 input.sk-toggleable__control:checked~label.sk-toggleable__label-arrow:before {content: \"▾\";}#sk-container-id-7 div.sk-estimator input.sk-toggleable__control:checked~label.sk-toggleable__label {background-color: #d4ebff;}#sk-container-id-7 div.sk-label input.sk-toggleable__control:checked~label.sk-toggleable__label {background-color: #d4ebff;}#sk-container-id-7 input.sk-hidden--visually {border: 0;clip: rect(1px 1px 1px 1px);clip: rect(1px, 1px, 1px, 1px);height: 1px;margin: -1px;overflow: hidden;padding: 0;position: absolute;width: 1px;}#sk-container-id-7 div.sk-estimator {font-family: monospace;background-color: #f0f8ff;border: 1px dotted black;border-radius: 0.25em;box-sizing: border-box;margin-bottom: 0.5em;}#sk-container-id-7 div.sk-estimator:hover {background-color: #d4ebff;}#sk-container-id-7 div.sk-parallel-item::after {content: \"\";width: 100%;border-bottom: 1px solid gray;flex-grow: 1;}#sk-container-id-7 div.sk-label:hover label.sk-toggleable__label {background-color: #d4ebff;}#sk-container-id-7 div.sk-serial::before {content: \"\";position: absolute;border-left: 1px solid gray;box-sizing: border-box;top: 0;bottom: 0;left: 50%;z-index: 0;}#sk-container-id-7 div.sk-serial {display: flex;flex-direction: column;align-items: center;background-color: white;padding-right: 0.2em;padding-left: 0.2em;position: relative;}#sk-container-id-7 div.sk-item {position: relative;z-index: 1;}#sk-container-id-7 div.sk-parallel {display: flex;align-items: stretch;justify-content: center;background-color: white;position: relative;}#sk-container-id-7 div.sk-item::before, #sk-container-id-7 div.sk-parallel-item::before {content: \"\";position: absolute;border-left: 1px solid gray;box-sizing: border-box;top: 0;bottom: 0;left: 50%;z-index: -1;}#sk-container-id-7 div.sk-parallel-item {display: flex;flex-direction: column;z-index: 1;position: relative;background-color: white;}#sk-container-id-7 div.sk-parallel-item:first-child::after {align-self: flex-end;width: 50%;}#sk-container-id-7 div.sk-parallel-item:last-child::after {align-self: flex-start;width: 50%;}#sk-container-id-7 div.sk-parallel-item:only-child::after {width: 0;}#sk-container-id-7 div.sk-dashed-wrapped {border: 1px dashed gray;margin: 0 0.4em 0.5em 0.4em;box-sizing: border-box;padding-bottom: 0.4em;background-color: white;}#sk-container-id-7 div.sk-label label {font-family: monospace;font-weight: bold;display: inline-block;line-height: 1.2em;}#sk-container-id-7 div.sk-label-container {text-align: center;}#sk-container-id-7 div.sk-container {/* jupyter's `normalize.less` sets `[hidden] { display: none; }` but bootstrap.min.css set `[hidden] { display: none !important; }` so we also need the `!important` here to be able to override the default hidden behavior on the sphinx rendered scikit-learn.org. See: https://github.com/scikit-learn/scikit-learn/issues/21755 */display: inline-block !important;position: relative;}#sk-container-id-7 div.sk-text-repr-fallback {display: none;}</style><div id=\"sk-container-id-7\" class=\"sk-top-container\"><div class=\"sk-text-repr-fallback\"><pre>LinearRegression()</pre><b>In a Jupyter environment, please rerun this cell to show the HTML representation or trust the notebook. <br />On GitHub, the HTML representation is unable to render, please try loading this page with nbviewer.org.</b></div><div class=\"sk-container\" hidden><div class=\"sk-item\"><div class=\"sk-estimator sk-toggleable\"><input class=\"sk-toggleable__control sk-hidden--visually\" id=\"sk-estimator-id-9\" type=\"checkbox\" checked><label for=\"sk-estimator-id-9\" class=\"sk-toggleable__label sk-toggleable__label-arrow\">LinearRegression</label><div class=\"sk-toggleable__content\"><pre>LinearRegression()</pre></div></div></div></div></div>"
      ],
      "text/plain": [
       "LinearRegression()"
      ]
     },
     "execution_count": 95,
     "metadata": {},
     "output_type": "execute_result"
    }
   ],
   "source": [
    "regres=LinearRegression()\n",
    "regres.fit(xtrain, ytrain)"
   ]
  },
  {
   "cell_type": "code",
   "execution_count": 96,
   "id": "6f519130-5929-458d-9af0-0e6ddab3ac03",
   "metadata": {
    "tags": []
   },
   "outputs": [],
   "source": [
    "lin_pred= regres.predict(xtest)"
   ]
  },
  {
   "cell_type": "code",
   "execution_count": 97,
   "id": "e3eacbd6-bbb5-41bb-885a-6f617dcc0ddc",
   "metadata": {
    "tags": []
   },
   "outputs": [
    {
     "data": {
      "text/plain": [
       "1007.7144464199594"
      ]
     },
     "execution_count": 97,
     "metadata": {},
     "output_type": "execute_result"
    }
   ],
   "source": [
    "mean_absolute_error(ytest, lin_pred)"
   ]
  },
  {
   "cell_type": "code",
   "execution_count": 98,
   "id": "ff062624-1df5-4ddb-8ba4-b73986612598",
   "metadata": {
    "tags": []
   },
   "outputs": [
    {
     "data": {
      "text/plain": [
       "array([-1.28777353e+03, -8.42021388e+01,  3.53425116e+01, -6.36956173e+01,\n",
       "       -1.85697965e+02, -1.83549492e+02,  1.81607302e+03, -1.24029283e+03,\n",
       "        1.29730453e+02, -5.85712162e+01,  1.73356767e+05])"
      ]
     },
     "execution_count": 98,
     "metadata": {},
     "output_type": "execute_result"
    }
   ],
   "source": [
    "regres.coef_"
   ]
  },
  {
   "cell_type": "code",
   "execution_count": 99,
   "id": "a4adc96a-c114-43a4-a754-526486815d64",
   "metadata": {
    "tags": []
   },
   "outputs": [
    {
     "data": {
      "text/plain": [
       "175.55860464331636"
      ]
     },
     "execution_count": 99,
     "metadata": {},
     "output_type": "execute_result"
    }
   ],
   "source": [
    "regres.intercept_"
   ]
  },
  {
   "cell_type": "code",
   "execution_count": 100,
   "id": "4cf69c3e-ff06-4609-af70-97adfcae6b53",
   "metadata": {
    "tags": []
   },
   "outputs": [
    {
     "data": {
      "text/plain": [
       "0.9631369123746455"
      ]
     },
     "execution_count": 100,
     "metadata": {},
     "output_type": "execute_result"
    }
   ],
   "source": [
    "r2_score(ytest, lin_pred)"
   ]
  },
  {
   "cell_type": "code",
   "execution_count": 101,
   "id": "bbcab284-94e0-4931-8b26-e9f821cf959d",
   "metadata": {
    "tags": []
   },
   "outputs": [
    {
     "data": {
      "image/png": "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",
      "text/plain": [
       "<Figure size 640x480 with 1 Axes>"
      ]
     },
     "metadata": {},
     "output_type": "display_data"
    }
   ],
   "source": [
    "#VISUALIZE COEFFICIENTS\n",
    "linear_coef=regres.fit(X,y).coef_\n",
    "\n",
    "plt.plot(range(len(coef_names)), linear_coef)\n",
    "plt.xticks(range(len(coef_names)), coef_names, rotation=90)\n",
    "plt.ylabel(\"Coefficients\")\n",
    "plt.show()\n"
   ]
  },
  {
   "cell_type": "markdown",
   "id": "84e84688-c732-40da-8b67-e39947e484d4",
   "metadata": {},
   "source": [
    "### Step 2: Exploratory Data Analysis"
   ]
  },
  {
   "cell_type": "code",
   "execution_count": null,
   "id": "b1065dfd-fc00-4ea2-b154-f9f5130b53cb",
   "metadata": {},
   "outputs": [],
   "source": []
  },
  {
   "cell_type": "code",
   "execution_count": null,
   "id": "6b00e4da-51ac-450e-9020-7423aaa55094",
   "metadata": {},
   "outputs": [],
   "source": [
    "# Separate the data into target and features\n",
    "\n",
    "# Separate the y variable, the target\n",
    "\n",
<<<<<<< HEAD
    "# Separate the X variable, the features\n",
    "X = car_prices_df.drop(columns=\"sellingprice\")"
>>>>>>> 8922c1beeaecab2070e67bcabf2021add5da1c75
=======
    "\n",
    "# Separate the X variable, the features\n"
>>>>>>> 3ddf7e5bedebb8610ca7f894cde888a4599d7e15
   ]
  },
  {
   "cell_type": "code",
   "execution_count": null,
   "id": "18853204-0450-4638-97b7-4cce14ff7205",
   "metadata": {},
   "outputs": [],
   "source": [
<<<<<<< HEAD
    "### Step 3: Preprocessing the Data"
=======
    "sns.FacetGrid(car_prices_df, col=\"make\", row=\"mode\")\n"
>>>>>>> 8922c1beeaecab2070e67bcabf2021add5da1c75
   ]
  },
  {
   "cell_type": "code",
   "execution_count": null,
   "id": "ab49a35b",
   "metadata": {},
   "outputs": [],
   "source": []
  }
 ],
 "metadata": {
  "kernelspec": {
   "display_name": "Python 3 (ipykernel)",
   "language": "python",
   "name": "python3"
  },
  "language_info": {
   "codemirror_mode": {
    "name": "ipython",
    "version": 3
   },
   "file_extension": ".py",
   "mimetype": "text/x-python",
   "name": "python",
   "nbconvert_exporter": "python",
   "pygments_lexer": "ipython3",
   "version": "3.10.13"
  }
 },
 "nbformat": 4,
 "nbformat_minor": 5
}
