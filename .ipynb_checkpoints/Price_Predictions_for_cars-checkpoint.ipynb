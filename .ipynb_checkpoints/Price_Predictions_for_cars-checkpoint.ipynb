{
 "cells": [
  {
   "cell_type": "code",
   "execution_count": null,
   "id": "0810cd1b-9cb5-46fc-90db-2caa23eaaf87",
   "metadata": {},
   "outputs": [],
   "source": []
  },
  {
   "cell_type": "code",
   "execution_count": null,
   "id": "2fef111e-e61f-43a5-b3ff-39e30ad1d07c",
   "metadata": {},
   "outputs": [],
   "source": []
  },
  {
   "cell_type": "markdown",
   "id": "c51aef2f-2585-4cb5-a308-f93cea804404",
   "metadata": {},
   "source": [
    "### Step 1: Import libraries and CSV File\n"
   ]
  },
  {
   "cell_type": "code",
   "execution_count": 10,
   "id": "47f0a18a-2bdb-40bf-8897-13fb32018609",
   "metadata": {},
   "outputs": [],
   "source": [
    "# Import the required libraries\n",
    "import pandas as pd\n",
    "from pathlib import Path\n",
    "import numpy as np\n",
    "import matplotlib.pyplot as plt\n",
    "import seaborn as sns\n",
    "\n",
    "from sklearn import metrics\n",
    "from sklearn.metrics import balanced_accuracy_score, confusion_matrix, classification_report\n",
    "from sklearn.model_selection import train_test_split, GridSearchCV, cross_val_score\n",
    "from sklearn.preprocessing import StandardScaler, LabelEncoder, MinMaxScaler\n",
    "from sklearn.linear_model import Lasso, LinearRegression\n",
    "from sklearn.metrics import mean_squared_error,r2_score, mean_absolute_error\n",
    "\n",
    "from statsmodels.stats.outliers_influence import variance_inflation_factor \n",
    "import statsmodels.api as sm\n",
    "\n",
    "import warnings\n",
    "warnings.filterwarnings('ignore')"
   ]
  },
  {
   "cell_type": "code",
   "execution_count": 11,
   "id": "e4fdb06c-202c-4d69-959f-01a89e507b4f",
   "metadata": {},
   "outputs": [
    {
     "ename": "FileNotFoundError",
     "evalue": "[Errno 2] No such file or directory: 'Resources/car_prices.csv'",
     "output_type": "error",
     "traceback": [
      "\u001b[0;31m---------------------------------------------------------------------------\u001b[0m",
      "\u001b[0;31mFileNotFoundError\u001b[0m                         Traceback (most recent call last)",
      "\u001b[0;32m/var/folders/82/zrhtwx6141zffqfvv5htgq_c0000gn/T/ipykernel_6750/307759470.py\u001b[0m in \u001b[0;36m<module>\u001b[0;34m\u001b[0m\n\u001b[1;32m      1\u001b[0m \u001b[0;31m# Read the CSV file into a Pandas DataFrame\u001b[0m\u001b[0;34m\u001b[0m\u001b[0;34m\u001b[0m\u001b[0m\n\u001b[0;32m----> 2\u001b[0;31m \u001b[0mcar_prices_df\u001b[0m \u001b[0;34m=\u001b[0m \u001b[0mpd\u001b[0m\u001b[0;34m.\u001b[0m\u001b[0mread_csv\u001b[0m\u001b[0;34m(\u001b[0m\u001b[0mPath\u001b[0m\u001b[0;34m(\u001b[0m\u001b[0;34m\"Resources/car_prices.csv\"\u001b[0m\u001b[0;34m)\u001b[0m\u001b[0;34m)\u001b[0m\u001b[0;34m\u001b[0m\u001b[0;34m\u001b[0m\u001b[0m\n\u001b[0m\u001b[1;32m      3\u001b[0m \u001b[0;34m\u001b[0m\u001b[0m\n\u001b[1;32m      4\u001b[0m \u001b[0;31m# Review the DataFrame\u001b[0m\u001b[0;34m\u001b[0m\u001b[0;34m\u001b[0m\u001b[0m\n\u001b[1;32m      5\u001b[0m \u001b[0mcar_prices_df\u001b[0m\u001b[0;34m.\u001b[0m\u001b[0mhead\u001b[0m\u001b[0;34m(\u001b[0m\u001b[0;34m)\u001b[0m\u001b[0;34m\u001b[0m\u001b[0;34m\u001b[0m\u001b[0m\n",
      "\u001b[0;32m~/opt/anaconda3/lib/python3.9/site-packages/pandas/util/_decorators.py\u001b[0m in \u001b[0;36mwrapper\u001b[0;34m(*args, **kwargs)\u001b[0m\n\u001b[1;32m    309\u001b[0m                     \u001b[0mstacklevel\u001b[0m\u001b[0;34m=\u001b[0m\u001b[0mstacklevel\u001b[0m\u001b[0;34m,\u001b[0m\u001b[0;34m\u001b[0m\u001b[0;34m\u001b[0m\u001b[0m\n\u001b[1;32m    310\u001b[0m                 )\n\u001b[0;32m--> 311\u001b[0;31m             \u001b[0;32mreturn\u001b[0m \u001b[0mfunc\u001b[0m\u001b[0;34m(\u001b[0m\u001b[0;34m*\u001b[0m\u001b[0margs\u001b[0m\u001b[0;34m,\u001b[0m \u001b[0;34m**\u001b[0m\u001b[0mkwargs\u001b[0m\u001b[0;34m)\u001b[0m\u001b[0;34m\u001b[0m\u001b[0;34m\u001b[0m\u001b[0m\n\u001b[0m\u001b[1;32m    312\u001b[0m \u001b[0;34m\u001b[0m\u001b[0m\n\u001b[1;32m    313\u001b[0m         \u001b[0;32mreturn\u001b[0m \u001b[0mwrapper\u001b[0m\u001b[0;34m\u001b[0m\u001b[0;34m\u001b[0m\u001b[0m\n",
      "\u001b[0;32m~/opt/anaconda3/lib/python3.9/site-packages/pandas/io/parsers/readers.py\u001b[0m in \u001b[0;36mread_csv\u001b[0;34m(filepath_or_buffer, sep, delimiter, header, names, index_col, usecols, squeeze, prefix, mangle_dupe_cols, dtype, engine, converters, true_values, false_values, skipinitialspace, skiprows, skipfooter, nrows, na_values, keep_default_na, na_filter, verbose, skip_blank_lines, parse_dates, infer_datetime_format, keep_date_col, date_parser, dayfirst, cache_dates, iterator, chunksize, compression, thousands, decimal, lineterminator, quotechar, quoting, doublequote, escapechar, comment, encoding, encoding_errors, dialect, error_bad_lines, warn_bad_lines, on_bad_lines, delim_whitespace, low_memory, memory_map, float_precision, storage_options)\u001b[0m\n\u001b[1;32m    676\u001b[0m     \u001b[0mkwds\u001b[0m\u001b[0;34m.\u001b[0m\u001b[0mupdate\u001b[0m\u001b[0;34m(\u001b[0m\u001b[0mkwds_defaults\u001b[0m\u001b[0;34m)\u001b[0m\u001b[0;34m\u001b[0m\u001b[0;34m\u001b[0m\u001b[0m\n\u001b[1;32m    677\u001b[0m \u001b[0;34m\u001b[0m\u001b[0m\n\u001b[0;32m--> 678\u001b[0;31m     \u001b[0;32mreturn\u001b[0m \u001b[0m_read\u001b[0m\u001b[0;34m(\u001b[0m\u001b[0mfilepath_or_buffer\u001b[0m\u001b[0;34m,\u001b[0m \u001b[0mkwds\u001b[0m\u001b[0;34m)\u001b[0m\u001b[0;34m\u001b[0m\u001b[0;34m\u001b[0m\u001b[0m\n\u001b[0m\u001b[1;32m    679\u001b[0m \u001b[0;34m\u001b[0m\u001b[0m\n\u001b[1;32m    680\u001b[0m \u001b[0;34m\u001b[0m\u001b[0m\n",
      "\u001b[0;32m~/opt/anaconda3/lib/python3.9/site-packages/pandas/io/parsers/readers.py\u001b[0m in \u001b[0;36m_read\u001b[0;34m(filepath_or_buffer, kwds)\u001b[0m\n\u001b[1;32m    573\u001b[0m \u001b[0;34m\u001b[0m\u001b[0m\n\u001b[1;32m    574\u001b[0m     \u001b[0;31m# Create the parser.\u001b[0m\u001b[0;34m\u001b[0m\u001b[0;34m\u001b[0m\u001b[0m\n\u001b[0;32m--> 575\u001b[0;31m     \u001b[0mparser\u001b[0m \u001b[0;34m=\u001b[0m \u001b[0mTextFileReader\u001b[0m\u001b[0;34m(\u001b[0m\u001b[0mfilepath_or_buffer\u001b[0m\u001b[0;34m,\u001b[0m \u001b[0;34m**\u001b[0m\u001b[0mkwds\u001b[0m\u001b[0;34m)\u001b[0m\u001b[0;34m\u001b[0m\u001b[0;34m\u001b[0m\u001b[0m\n\u001b[0m\u001b[1;32m    576\u001b[0m \u001b[0;34m\u001b[0m\u001b[0m\n\u001b[1;32m    577\u001b[0m     \u001b[0;32mif\u001b[0m \u001b[0mchunksize\u001b[0m \u001b[0;32mor\u001b[0m \u001b[0miterator\u001b[0m\u001b[0;34m:\u001b[0m\u001b[0;34m\u001b[0m\u001b[0;34m\u001b[0m\u001b[0m\n",
      "\u001b[0;32m~/opt/anaconda3/lib/python3.9/site-packages/pandas/io/parsers/readers.py\u001b[0m in \u001b[0;36m__init__\u001b[0;34m(self, f, engine, **kwds)\u001b[0m\n\u001b[1;32m    930\u001b[0m \u001b[0;34m\u001b[0m\u001b[0m\n\u001b[1;32m    931\u001b[0m         \u001b[0mself\u001b[0m\u001b[0;34m.\u001b[0m\u001b[0mhandles\u001b[0m\u001b[0;34m:\u001b[0m \u001b[0mIOHandles\u001b[0m \u001b[0;34m|\u001b[0m \u001b[0;32mNone\u001b[0m \u001b[0;34m=\u001b[0m \u001b[0;32mNone\u001b[0m\u001b[0;34m\u001b[0m\u001b[0;34m\u001b[0m\u001b[0m\n\u001b[0;32m--> 932\u001b[0;31m         \u001b[0mself\u001b[0m\u001b[0;34m.\u001b[0m\u001b[0m_engine\u001b[0m \u001b[0;34m=\u001b[0m \u001b[0mself\u001b[0m\u001b[0;34m.\u001b[0m\u001b[0m_make_engine\u001b[0m\u001b[0;34m(\u001b[0m\u001b[0mf\u001b[0m\u001b[0;34m,\u001b[0m \u001b[0mself\u001b[0m\u001b[0;34m.\u001b[0m\u001b[0mengine\u001b[0m\u001b[0;34m)\u001b[0m\u001b[0;34m\u001b[0m\u001b[0;34m\u001b[0m\u001b[0m\n\u001b[0m\u001b[1;32m    933\u001b[0m \u001b[0;34m\u001b[0m\u001b[0m\n\u001b[1;32m    934\u001b[0m     \u001b[0;32mdef\u001b[0m \u001b[0mclose\u001b[0m\u001b[0;34m(\u001b[0m\u001b[0mself\u001b[0m\u001b[0;34m)\u001b[0m\u001b[0;34m:\u001b[0m\u001b[0;34m\u001b[0m\u001b[0;34m\u001b[0m\u001b[0m\n",
      "\u001b[0;32m~/opt/anaconda3/lib/python3.9/site-packages/pandas/io/parsers/readers.py\u001b[0m in \u001b[0;36m_make_engine\u001b[0;34m(self, f, engine)\u001b[0m\n\u001b[1;32m   1214\u001b[0m             \u001b[0;31m# \"Union[str, PathLike[str], ReadCsvBuffer[bytes], ReadCsvBuffer[str]]\"\u001b[0m\u001b[0;34m\u001b[0m\u001b[0;34m\u001b[0m\u001b[0m\n\u001b[1;32m   1215\u001b[0m             \u001b[0;31m# , \"str\", \"bool\", \"Any\", \"Any\", \"Any\", \"Any\", \"Any\"\u001b[0m\u001b[0;34m\u001b[0m\u001b[0;34m\u001b[0m\u001b[0m\n\u001b[0;32m-> 1216\u001b[0;31m             self.handles = get_handle(  # type: ignore[call-overload]\n\u001b[0m\u001b[1;32m   1217\u001b[0m                 \u001b[0mf\u001b[0m\u001b[0;34m,\u001b[0m\u001b[0;34m\u001b[0m\u001b[0;34m\u001b[0m\u001b[0m\n\u001b[1;32m   1218\u001b[0m                 \u001b[0mmode\u001b[0m\u001b[0;34m,\u001b[0m\u001b[0;34m\u001b[0m\u001b[0;34m\u001b[0m\u001b[0m\n",
      "\u001b[0;32m~/opt/anaconda3/lib/python3.9/site-packages/pandas/io/common.py\u001b[0m in \u001b[0;36mget_handle\u001b[0;34m(path_or_buf, mode, encoding, compression, memory_map, is_text, errors, storage_options)\u001b[0m\n\u001b[1;32m    784\u001b[0m         \u001b[0;32mif\u001b[0m \u001b[0mioargs\u001b[0m\u001b[0;34m.\u001b[0m\u001b[0mencoding\u001b[0m \u001b[0;32mand\u001b[0m \u001b[0;34m\"b\"\u001b[0m \u001b[0;32mnot\u001b[0m \u001b[0;32min\u001b[0m \u001b[0mioargs\u001b[0m\u001b[0;34m.\u001b[0m\u001b[0mmode\u001b[0m\u001b[0;34m:\u001b[0m\u001b[0;34m\u001b[0m\u001b[0;34m\u001b[0m\u001b[0m\n\u001b[1;32m    785\u001b[0m             \u001b[0;31m# Encoding\u001b[0m\u001b[0;34m\u001b[0m\u001b[0;34m\u001b[0m\u001b[0m\n\u001b[0;32m--> 786\u001b[0;31m             handle = open(\n\u001b[0m\u001b[1;32m    787\u001b[0m                 \u001b[0mhandle\u001b[0m\u001b[0;34m,\u001b[0m\u001b[0;34m\u001b[0m\u001b[0;34m\u001b[0m\u001b[0m\n\u001b[1;32m    788\u001b[0m                 \u001b[0mioargs\u001b[0m\u001b[0;34m.\u001b[0m\u001b[0mmode\u001b[0m\u001b[0;34m,\u001b[0m\u001b[0;34m\u001b[0m\u001b[0;34m\u001b[0m\u001b[0m\n",
      "\u001b[0;31mFileNotFoundError\u001b[0m: [Errno 2] No such file or directory: 'Resources/car_prices.csv'"
     ]
    }
   ],
   "source": [
    "# Read the CSV file into a Pandas DataFrame\n",
    "car_prices_df = pd.read_csv(Path(\"Resources/car_prices.csv\"))\n",
    "\n",
    "# Review the DataFrame\n",
    "car_prices_df.head()"
   ]
  },
  {
   "cell_type": "code",
   "execution_count": null,
   "id": "64bf4db1-0219-4993-ba61-6771b56dddff",
   "metadata": {},
   "outputs": [],
   "source": [
    "# Check for Null Values\n",
    "car_prices_df.isnull().sum()"
   ]
  },
  {
   "cell_type": "code",
   "execution_count": null,
   "id": "37206318-df66-41a7-94a5-7c620b811339",
   "metadata": {},
   "outputs": [],
   "source": [
    "car_prices_df.info()"
   ]
  },
  {
   "cell_type": "code",
   "execution_count": null,
   "id": "fd563e1b-4819-41dd-bfc6-3e1cd381797a",
   "metadata": {},
   "outputs": [],
   "source": [
    "# Separate the data into target and features\n",
    "\n",
    "# Separate the y variable, the target\n",
    "y = car_prices_df[\"sellingprice\"]\n",
    "\n",
    "# Separate the X variable, the features\n",
    "X = car_prices_df.drop(columns=\"sellingprice\")"
   ]
  },
  {
   "cell_type": "code",
   "execution_count": null,
   "id": "1435ba2a-46f0-467e-82cf-e1b36c6a3309",
   "metadata": {},
   "outputs": [],
   "source": [
    "# Create a distribution plot for target variable 'sellingprice'\n",
    "#sns.distplot(car_prices_df['sellingprice']);\n",
    "\n",
    "# print 'Skewness' and 'Kurtosis'\n",
    "#print(\"Skewness: %f\" % car_prices_df['sellingprice'].skew())\n",
    "#print(\"Kurtosis: %f\" % car_prices_df['sellingprice'].kurt())"
   ]
  },
  {
   "cell_type": "code",
   "execution_count": null,
   "id": "9457dd5b-f2a2-4735-a9a0-1200291041d6",
   "metadata": {},
   "outputs": [],
   "source": [
    "plt.figure(figsize=(7, 5))\n",
    "sns.heatmap(car_prices_df.corr(), annot=True, fmt='.2f', cmap='gist_heat', linewidths=1, vmin=-1, vmax=1)\n",
    "plt.title('Correlation Heatmap')\n",
    "\n",
    "plt.show()"
   ]
  },
  {
   "cell_type": "code",
   "execution_count": null,
   "id": "0900bdca-90a2-435a-a34f-f8a410e22b3a",
   "metadata": {},
   "outputs": [],
   "source": [
    "X_encoded = pd.get_dummies(car_prices_df[['year', 'make', 'model', 'trim', 'body', 'transmission', 'state', 'color',\n",
    "                                        'interior', 'seller']], drop_first=True)\n",
    "\n",
    "#Create the VIF dataframe\n",
    "#vif_data = pd.DataFrame() \n",
    "#vif_data[\"feature\"] = X_encoded.columns \n",
    "\n",
    "# Calculate VIF for each feature \n",
    "#vif_data[\"VIF\"] = [variance_inflation_factor(X_encoded.values, i) \n",
    "                  # for i in range(len(X_encoded.columns))] \n",
    "\n",
    "#print(vif_data) -(encoder form sklearn)"
   ]
  },
  {
   "cell_type": "code",
   "execution_count": null,
   "id": "6ec51cb7-7679-45c9-a8de-8e659b529b7b",
   "metadata": {},
   "outputs": [],
   "source": [
    "#car_prices_df[\"make\"] = car_prices_df[\"make\"].fillna(\"0\")\n",
    "#car_prices_df.head(\n",
    "x_vars= [\"year\", \"odometer\", \"trim\", \"body\", \"transmission\",\"state\", \"condition\", \"color\"]\n",
    "y_vars= [\"sellingprice\"]\n",
    "g= sns.PairGrid(car_prices_df, hue=\"mmr\", x_vars=x_vars, y_vars=y_vars)\n",
    "g.map_diag(sns.histplot, color=\".3\")\n",
    "g.map_offdiag(sns.scatterplot)\n",
    "g.add_legend();"
   ]
  },
  {
   "cell_type": "code",
   "execution_count": null,
   "id": "6f74a276-0f72-493c-883e-dc1e2d0ed05d",
   "metadata": {},
   "outputs": [],
   "source": [
    "sns.catplot(data=car_prices_df, x=\"year\", y=\"sellingprice\", kind=\"box\")"
   ]
  },
  {
   "cell_type": "code",
   "execution_count": null,
   "id": "c126a33a-f0e0-4a55-8d9e-8877dbb56625",
   "metadata": {},
   "outputs": [],
   "source": [
    "#make_pp= car_prices_df.make.value_counts()[:10]\n",
    "#make_pp.index"
   ]
  },
  {
   "cell_type": "code",
   "execution_count": null,
   "id": "087d53cc-bce4-4e0c-bb31-900562792583",
   "metadata": {},
   "outputs": [],
   "source": [
    "#tencar_df.make.value_counts() , tencar_df.shape"
   ]
  },
  {
   "cell_type": "code",
   "execution_count": null,
   "id": "1f3108fc-d8e4-4508-90c5-15890cd3b673",
   "metadata": {},
   "outputs": [],
   "source": [
    "# Create a pairplot using Seaborn\n",
    "sns.pairplot(car_prices_df, x_vars=[\"sellingprice\"], y_vars=[\"mmr\", \"condition\", \"odometer\"])\n",
    "\n",
    "# Display the pairplot\n",
    "plt.show()"
   ]
  },
  {
   "cell_type": "code",
   "execution_count": null,
   "id": "c3272a7b-cabb-4274-a019-b1abb3d01378",
   "metadata": {},
   "outputs": [],
   "source": [
    "# Create a pairplot using the variables \"interior\" and \"color\" using Seaborn\n",
    "sns.pairplot(car_prices_df, x_vars=[\"sellingprice\"], y_vars=[\"color\", \"interior\"], hue=\"color\", markers=\"o\")\n",
    "\n",
    "#Display the pairplot\n",
    "plt.show()"
   ]
  },
  {
   "cell_type": "code",
   "execution_count": null,
   "id": "f64aa5d0-8bca-4af9-a390-4463152b86e7",
   "metadata": {},
   "outputs": [],
   "source": [
    "sns.countplot (x=\"transmission\", data=car_prices_df)\n",
    "plt.title(\"Transmission Types\")\n",
    "plt.show;"
   ]
  },
  {
   "cell_type": "code",
   "execution_count": null,
   "id": "9f711a62-6583-4631-ab5a-299931d0afd3",
   "metadata": {},
   "outputs": [],
   "source": [
    "# Create a pairplot using the variables \"make\" using Seaborn\n",
    "sns.pairplot(car_prices_df, x_vars=[\"sellingprice\"], y_vars=[\"make\"], hue=\"make\", markers=\"o\")\n",
    "#Display the pairplot\n",
    "plt.show()\n",
    "\n",
    "#(need to fix plot for easir visibility)"
   ]
  },
  {
   "cell_type": "code",
   "execution_count": null,
   "id": "69de70d3-ffbc-4b05-be3f-6a427c6df545",
   "metadata": {},
   "outputs": [],
   "source": [
    "#converting 'year' to categorical data type and creating 'year_codes'\n",
    "#car_prices_df['year'] = car_prices_df['year'].astype('category')\n",
    "\n",
    "# create a new column and assign numerical values to each category\n",
    "#car_prices_df['year_codes'] = car_prices_df['year'].cat.codes + 1\n",
    "\n",
    "car_prices_df['year'] = car_prices_df['year'].astype('category')\n",
    "\n",
    "# Create a mapping between original 'year' values and numerical codes\n",
    "year_mapping = {year: code + 1 for code, year in enumerate(car_prices_df['year'].cat.categories)}\n",
    "\n",
    "# Apply the mapping to create a new column 'year_codes'\n",
    "car_prices_df['year_codes'] = car_prices_df['year'].map(year_mapping)\n"
   ]
  },
  {
   "cell_type": "code",
   "execution_count": null,
   "id": "8c4b291d-a62e-4442-a17a-722a6f1490f0",
   "metadata": {},
   "outputs": [],
   "source": [
    "car_prices_df.info()"
   ]
  },
  {
   "cell_type": "code",
   "execution_count": null,
   "id": "51086b0b-0c07-4817-8d50-162370b06741",
   "metadata": {},
   "outputs": [],
   "source": [
    "car_prices_df.head(25)"
   ]
  },
  {
   "cell_type": "markdown",
   "id": "7a99774b-810c-417a-b18e-0bbb3ae04c68",
   "metadata": {},
   "source": [
    "### Preprocessing the Data"
   ]
  },
  {
   "cell_type": "code",
   "execution_count": null,
   "id": "eb55d16b-7f99-4eb6-819f-2e6d11a9c9bd",
   "metadata": {},
   "outputs": [],
   "source": []
  },
  {
   "cell_type": "code",
   "execution_count": null,
   "id": "8d014732-fee7-45c5-98a1-1d337b94b956",
   "metadata": {},
   "outputs": [],
   "source": []
  },
  {
   "cell_type": "code",
   "execution_count": null,
   "id": "864d6dcd-bcb0-47ab-a4a6-b0944326be40",
   "metadata": {},
   "outputs": [],
   "source": [
    "car_prices_df = pd.read_csv(Path(\"Resources/car_prices.csv\"))\n",
    "car_prices_df = car_prices_df.drop(columns=['vin','seller',], axis=1)\n",
    "car_prices_df.dropna(inplace=True)\n",
    "# Review the DataFrame\n",
    "car_prices_df.head()"
   ]
  },
  {
   "cell_type": "code",
   "execution_count": null,
   "id": "fade4285-5369-49eb-b2ea-8a0617151f7a",
   "metadata": {},
   "outputs": [],
   "source": [
    "make_pp= car_prices_df.make.value_counts()[:10]\n",
    "make_pp.index\n"
   ]
  },
  {
   "cell_type": "code",
   "execution_count": null,
   "id": "583c0c0e-1f6f-470c-a472-37911c2f4fea",
   "metadata": {},
   "outputs": [],
   "source": [
    "tencar_df= car_prices_df[car_prices_df['make'].isin(make_pp.index)]"
   ]
  },
  {
   "cell_type": "code",
   "execution_count": null,
   "id": "d8b11874-19e5-42e5-90a2-f320faa30bed",
   "metadata": {},
   "outputs": [],
   "source": [
    "tencar_df.make.value_counts() , tencar_df.shape"
   ]
  },
  {
   "cell_type": "code",
   "execution_count": null,
   "id": "d8ba9315-a275-4f2f-a21a-0220e05efd59",
   "metadata": {},
   "outputs": [],
   "source": [
    "tencar_df.isna().sum()"
   ]
  },
  {
   "cell_type": "code",
   "execution_count": null,
   "id": "e630d77a-bf7e-45fa-ba53-935f06ed6eb5",
   "metadata": {},
   "outputs": [],
   "source": [
    "tencar_df = tencar_df[['year','make','model','trim','transmission','state','condition','odometer','color','interior','mmr','sellingprice']]\n",
    "   "
   ]
  },
  {
   "cell_type": "code",
   "execution_count": null,
   "id": "6da295a5-c994-48da-a389-3df0073e0519",
   "metadata": {},
   "outputs": [],
   "source": [
    "tencar_df.duplicated().sum()"
   ]
  },
  {
   "cell_type": "code",
   "execution_count": null,
   "id": "f5ab9d17-36a5-46c2-9a80-9a589669bfc0",
   "metadata": {},
   "outputs": [],
   "source": [
    "tencar_df.head()"
   ]
  },
  {
   "cell_type": "code",
   "execution_count": null,
   "id": "0ac3bfb8-90ab-448b-89bf-a39b8b6eb4d6",
   "metadata": {},
   "outputs": [],
   "source": [
    "plt.figure(figsize=(7, 5))\n",
    "sns.heatmap(tencar_df.corr(), annot=True, fmt='.2f', cmap='gist_heat', linewidths=1, vmin=-1, vmax=1)\n",
    "plt.title('Correlation Heatmap')\n",
    "\n",
    "plt.show()"
   ]
  },
  {
   "cell_type": "code",
   "execution_count": null,
   "id": "917536d6-3177-4f6c-90f2-152563c7f6e9",
   "metadata": {},
   "outputs": [],
   "source": [
    "cat_encoder = LabelEncoder()"
   ]
  },
  {
   "cell_type": "code",
   "execution_count": null,
   "id": "8319a3f7-efb9-4bd5-80e0-ebea57f82eec",
   "metadata": {},
   "outputs": [],
   "source": [
    "for i in tencar_df.columns:\n",
    "    if tencar_df[i].dtype =='object':\n",
    "        tencar_df[i] = cat_encoder.fit_transform(tencar_df[i])"
   ]
  },
  {
   "cell_type": "code",
   "execution_count": null,
   "id": "1567c601-7565-4c92-a706-5ce6b1470aeb",
   "metadata": {},
   "outputs": [],
   "source": [
    "tencar_df.head()"
   ]
  },
  {
   "cell_type": "markdown",
   "id": "fbcd3776-b029-42b8-8c55-fd57756ee50e",
   "metadata": {},
   "source": [
    "## Machine Learning "
   ]
  },
  {
   "cell_type": "markdown",
   "id": "fdf55be1-638c-4c3a-b22a-2f2900476a41",
   "metadata": {},
   "source": [
    "#### Step 1: separate target and feature variables, Split DataFrame, Create Scaler "
   ]
  },
  {
   "cell_type": "code",
   "execution_count": null,
   "id": "aeb7fc01-3eea-478c-91ae-81ed1f409b59",
   "metadata": {},
   "outputs": [],
   "source": [
    "# Separate the y variable, the target\n",
    "y = tencar_df[\"sellingprice\"]\n",
    "\n",
    "# Separate the X variable, the features\n",
    "X = tencar_df.drop(columns=\"sellingprice\")"
   ]
  },
  {
   "cell_type": "code",
   "execution_count": null,
   "id": "c2aadabd-b7d6-4b4e-9167-36db2ef8f969",
   "metadata": {},
   "outputs": [],
   "source": [
    "# Split the DataFrame using train_test_split\n",
    "# Assign a random_state of 42 to the function\n",
    "xtrain,xtest,ytrain,ytest = train_test_split(X,y,test_size=0.3,shuffle=True,random_state=42)"
   ]
  },
  {
   "cell_type": "code",
   "execution_count": null,
   "id": "f0fcfaaf-675a-4611-93a6-7744b0e295b4",
   "metadata": {},
   "outputs": [],
   "source": [
    "xtrain.shape, ytrain.shape"
   ]
  },
  {
   "cell_type": "code",
   "execution_count": null,
   "id": "4b6d33f0-faec-43fb-9bbb-2bfce2dd280d",
   "metadata": {},
   "outputs": [],
   "source": [
    "scaler = MinMaxScaler()"
   ]
  },
  {
   "cell_type": "code",
   "execution_count": null,
   "id": "00a02ffa-a539-4647-84b8-804bf6144fb4",
   "metadata": {},
   "outputs": [],
   "source": [
    "X= tencar_df.iloc[:,:-1]\n",
    "y= tencar_df.iloc[:,-1]"
   ]
  },
  {
   "cell_type": "code",
   "execution_count": null,
   "id": "dbb9ae6b-33a9-4cc5-97a9-6bb92c9fb52a",
   "metadata": {},
   "outputs": [],
   "source": [
    "y"
   ]
  },
  {
   "cell_type": "code",
   "execution_count": null,
   "id": "14560050-5a5b-425c-a6d2-fd297265c8f9",
   "metadata": {},
   "outputs": [],
   "source": [
    "for i in X.columns:\n",
    "    X[i] = scaler.fit_transform(np.array(X[i]).reshape(-1,1))"
   ]
  },
  {
   "cell_type": "code",
   "execution_count": null,
   "id": "edb8bf75-cc1a-4698-bc0f-b6f8301175e4",
   "metadata": {},
   "outputs": [],
   "source": [
    "X"
   ]
  },
  {
   "cell_type": "markdown",
   "id": "e460c222-9420-458f-ba84-29796ed4486c",
   "metadata": {},
   "source": [
    "#### Lasso Regression"
   ]
  },
  {
   "cell_type": "code",
   "execution_count": null,
   "id": "cfcb9192-6d5f-412a-a563-bed20713fcdd",
   "metadata": {},
   "outputs": [],
   "source": [
    "lasso_model = Lasso(alpha=0.1)"
   ]
  },
  {
   "cell_type": "code",
   "execution_count": null,
   "id": "922d20e7-4040-43cb-9ad1-d16459497c55",
   "metadata": {},
   "outputs": [],
   "source": [
    "lasso_model.fit(xtrain,ytrain)"
   ]
  },
  {
   "cell_type": "code",
   "execution_count": null,
   "id": "756334e0-d669-4a3f-95f4-cbf994fa69ef",
   "metadata": {},
   "outputs": [],
   "source": [
    "pred=lasso_model.predict(xtest)"
   ]
  },
  {
   "cell_type": "code",
   "execution_count": null,
   "id": "8a9ec82d-beee-4bc1-8e85-c52a9bd43bd0",
   "metadata": {},
   "outputs": [],
   "source": [
    "msre = round(np.sqrt(mean_squared_error(ytest,pred)),2)\n",
    "msre"
   ]
  },
  {
   "cell_type": "code",
   "execution_count": null,
   "id": "2a5af471-d744-41e5-bd17-448b75003667",
   "metadata": {},
   "outputs": [],
   "source": [
    "mean_squared_error(ytest,pred)"
   ]
  },
  {
   "cell_type": "code",
   "execution_count": null,
   "id": "551c17a3-a3f3-454b-b3a5-dba2cef4035d",
   "metadata": {},
   "outputs": [],
   "source": [
    "lasso_model.coef_"
   ]
  },
  {
   "cell_type": "code",
   "execution_count": null,
   "id": "af651abb-091c-4812-9b05-c7453cc15553",
   "metadata": {},
   "outputs": [],
   "source": [
    "lasso_model.intercept_"
   ]
  },
  {
   "cell_type": "code",
   "execution_count": null,
   "id": "3830884a-c437-43c1-b94f-ee6823b7fcb2",
   "metadata": {},
   "outputs": [],
   "source": [
    "r2_score(ytest,pred)"
   ]
  },
  {
   "cell_type": "code",
   "execution_count": null,
   "id": "14be1600-66ec-4742-93e3-214bea147914",
   "metadata": {},
   "outputs": [],
   "source": [
    "param = {'alpha' :[1e-15,1e-10,1e-8,1e-3,1e-2,1,5,10,20,30,40,50,100, 1000, 10000]}"
   ]
  },
  {
   "cell_type": "code",
   "execution_count": null,
   "id": "db29534f-d99d-4f04-a822-eccfb43261c4",
   "metadata": {},
   "outputs": [],
   "source": [
    "lasso_twocv= GridSearchCV(lasso_model, param, cv=3, n_jobs=1)"
   ]
  },
  {
   "cell_type": "code",
   "execution_count": null,
   "id": "d08922d0-de56-4562-a797-7cf4d3b265e4",
   "metadata": {},
   "outputs": [],
   "source": [
    "lasso_twocv.fit(xtrain, ytrain)"
   ]
  },
  {
   "cell_type": "code",
   "execution_count": null,
   "id": "84fa858d-5717-4ef1-8390-d2606037e94b",
   "metadata": {},
   "outputs": [],
   "source": [
    "pred_two= lasso_twocv.predict(xtest)"
   ]
  },
  {
   "cell_type": "code",
   "execution_count": null,
   "id": "77533999-614f-4dfa-82e8-a10fb52e744d",
   "metadata": {},
   "outputs": [],
   "source": [
    "mean_absolute_error(ytest, pred_two)"
   ]
  },
  {
   "cell_type": "code",
   "execution_count": null,
   "id": "e57b3100-024f-4e0c-9c4d-22d6bdcf7e9e",
   "metadata": {},
   "outputs": [],
   "source": [
    "mean_squared_error(ytest, pred_two)"
   ]
  },
  {
   "cell_type": "code",
   "execution_count": null,
   "id": "ce2dfc2f-7da4-49d7-963c-a863f69036fa",
   "metadata": {},
   "outputs": [],
   "source": [
    "r2_score(ytest, pred_two)"
   ]
  },
  {
   "cell_type": "code",
   "execution_count": null,
   "id": "ec381392-0def-4564-9bd1-31f0180b3d16",
   "metadata": {},
   "outputs": [],
   "source": [
    "lasso_twocv.best_estimator_"
   ]
  },
  {
   "cell_type": "code",
   "execution_count": null,
   "id": "dbfa84dc-d056-4749-80c2-cdc760ada644",
   "metadata": {},
   "outputs": [],
   "source": [
    "lass_two = Lasso(alpha=10000)"
   ]
  },
  {
   "cell_type": "code",
   "execution_count": null,
   "id": "989722a4-fdb2-4460-a581-402a61a73624",
   "metadata": {},
   "outputs": [],
   "source": [
    "lass_two.fit(xtrain, ytrain)"
   ]
  },
  {
   "cell_type": "code",
   "execution_count": null,
   "id": "e354610a-42b5-4505-8017-b39523945341",
   "metadata": {},
   "outputs": [],
   "source": [
    "lass_two.intercept_"
   ]
  },
  {
   "cell_type": "code",
   "execution_count": null,
   "id": "7eaa5fd6-45d0-479f-bfc5-3ce21e0befcb",
   "metadata": {},
   "outputs": [],
   "source": [
    "lass_two.coef_"
   ]
  },
  {
   "cell_type": "code",
   "execution_count": null,
   "id": "65cd4f95-3839-4113-a126-d0b42ebef8d5",
   "metadata": {},
   "outputs": [],
   "source": [
    "coef_dict={}\n",
    "for coef, feat in zip(lasso_model.coef_,X.columns):\n",
    "    coef_dict[feat] = coef\n",
    "coef_dict"
   ]
  },
  {
   "cell_type": "code",
   "execution_count": null,
   "id": "61664a66-173e-4351-aa9c-002a846018f0",
   "metadata": {},
   "outputs": [],
   "source": [
    "predict_lasso = lass_two.predict(xtest)"
   ]
  },
  {
   "cell_type": "code",
   "execution_count": null,
   "id": "4db1c811-65f3-4d18-b4f2-7664348f291a",
   "metadata": {},
   "outputs": [],
   "source": [
    "coef_names = tencar_df.drop('sellingprice',axis=1).columns\n",
    "\n",
    "print(coef_names)"
   ]
  },
  {
   "cell_type": "code",
   "execution_count": null,
   "id": "b0d66fbd-f8ba-42cb-b63f-1aded2acb7a1",
   "metadata": {},
   "outputs": [],
   "source": [
    "lasso = Lasso(alpha=100)\n",
    "lasso_coef = lasso.fit(X, y).coef_\n",
    "\n",
    "plt.plot(range(len(coef_names)), lasso_coef)\n",
    "plt.xticks(range(len(coef_names)), coef_names, rotation=90)\n",
    "plt.ylabel(\"Coefficients\")\n",
    "plt.show()"
   ]
  },
  {
   "cell_type": "markdown",
   "id": "87b4bb0a-1353-43ac-aff6-67fcc0ff633c",
   "metadata": {},
   "source": [
    "#### Linear Regression"
   ]
  },
  {
   "cell_type": "code",
   "execution_count": null,
   "id": "3eb9b1b4-d16d-4e87-9251-5e210dd92478",
   "metadata": {},
   "outputs": [],
   "source": [
    "linreg = LinearRegression()\n",
    "linreg.fit(X_train, y_train)\n",
    "linreg_pred = linreg.predict(X_test)"
   ]
  },
  {
   "cell_type": "code",
   "execution_count": null,
   "id": "75ff5dce-6c57-4cf8-8aca-8015a298287e",
   "metadata": {},
   "outputs": [],
   "source": [
    "linreg_mae = mean_absolute_error(y_test, linreg_pred)\n",
    "linreg_r2 = r2_score(y_test, linreg_pred)\n",
    "print(\"Mean Absolute Error of linear regression model is:\", linreg_mae)\n",
    "print(\"R2 score of linear regression model is:\", linreg_r2)"
   ]
  },
  {
   "cell_type": "code",
   "execution_count": null,
   "id": "7184400f-767f-4217-bd4a-91e6255ece41",
   "metadata": {},
   "outputs": [],
   "source": [
    "linreg_score = cross_val_score(linreg, X_test, y_test, cv=4)\n"
   ]
  },
  {
   "cell_type": "code",
   "execution_count": null,
   "id": "5d7399ef-b6af-402e-bbf5-e2859060acf7",
   "metadata": {},
   "outputs": [],
   "source": [
    "tencar_df.describe()"
   ]
  },
  {
   "cell_type": "code",
   "execution_count": null,
   "id": "5d2b35a3-805c-4da6-849f-d277fc993846",
   "metadata": {},
   "outputs": [],
   "source": [
    "# go back into preprocessing -normalize that data to remove skewness "
   ]
  },
  {
   "cell_type": "code",
   "execution_count": null,
   "id": "f6587fc4-b2de-4e3c-9b9a-e1766281ae33",
   "metadata": {},
   "outputs": [],
   "source": [
    "residuals = y_train - y_test\n",
    "\n",
    "# Residual plot\n",
    "plt.figure(figsize=(8, 6))\n",
    "sns.scatterplot(x=y_test, y=residuals)\n",
    "plt.axhline(y=0, color='red', linestyle='--', linewidth=2)\n",
    "plt.title(\"Residual Plot\")\n",
    "plt.xlabel(\"Predicted Values\")\n",
    "plt.ylabel(\"Residuals\")\n",
    "plt.show()"
   ]
  },
  {
   "cell_type": "markdown",
   "id": "0dd2ffbe-2ada-4187-9520-a8d109a7758d",
   "metadata": {},
   "source": [
    "### Principal Component Analysis "
   ]
  },
  {
   "cell_type": "code",
   "execution_count": null,
   "id": "096eaebb-9ae2-46de-b675-5cd2ebd419ad",
   "metadata": {},
   "outputs": [],
   "source": [
    "## if we had more time things we could look into \n",
    "#which states had the best selling prices/\n",
    "#which seller had the lowest/highest selling prices"
   ]
  }
 ],
 "metadata": {
  "kernelspec": {
   "display_name": "Python 3 (ipykernel)",
   "language": "python",
   "name": "python3"
  },
  "language_info": {
   "codemirror_mode": {
    "name": "ipython",
    "version": 3
   },
   "file_extension": ".py",
   "mimetype": "text/x-python",
   "name": "python",
   "nbconvert_exporter": "python",
   "pygments_lexer": "ipython3",
   "version": "3.9.18"
  }
 },
 "nbformat": 4,
 "nbformat_minor": 5
}
