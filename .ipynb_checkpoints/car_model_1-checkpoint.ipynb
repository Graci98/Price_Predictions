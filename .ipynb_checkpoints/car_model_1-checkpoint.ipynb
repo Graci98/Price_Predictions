{
 "cells": [
  {
   "cell_type": "code",
   "execution_count": 74,
   "id": "30595e61-8308-4b3b-bbd6-e2dbd25b0c50",
   "metadata": {
    "tags": []
   },
   "outputs": [],
   "source": [
    "# Import the required libraries\n",
    "import pandas as pd\n",
    "from pathlib import Path\n",
    "import hvplot.pandas\n",
    "import numpy as np\n",
    "import matplotlib.pyplot as plt\n",
    "import seaborn as sns\n",
    "from sklearn import metrics, model_selection\n",
    "from sklearn.metrics import balanced_accuracy_score, confusion_matrix, classification_report\n",
    "from sklearn.model_selection import train_test_split, RepeatedKFold, GridSearchCV, KFold\n",
    "from sklearn.preprocessing import StandardScaler, LabelEncoder, MinMaxScaler, scale\n",
    "from sklearn.linear_model import Lasso, LinearRegression\n",
    "from sklearn.metrics import mean_squared_error,r2_score, mean_absolute_error\n",
    "import pickle\n",
    "\n",
    "import warnings\n",
    "warnings.filterwarnings('ignore')"
   ]
  },
  {
   "cell_type": "code",
   "execution_count": 75,
   "id": "bc607fbe-f30c-4e38-8117-34cda3a6a051",
   "metadata": {
    "tags": []
   },
   "outputs": [
    {
     "data": {
      "text/html": [
       "<div>\n",
       "<style scoped>\n",
       "    .dataframe tbody tr th:only-of-type {\n",
       "        vertical-align: middle;\n",
       "    }\n",
       "\n",
       "    .dataframe tbody tr th {\n",
       "        vertical-align: top;\n",
       "    }\n",
       "\n",
       "    .dataframe thead th {\n",
       "        text-align: right;\n",
       "    }\n",
       "</style>\n",
       "<table border=\"1\" class=\"dataframe\">\n",
       "  <thead>\n",
       "    <tr style=\"text-align: right;\">\n",
       "      <th></th>\n",
       "      <th>year</th>\n",
       "      <th>make</th>\n",
       "      <th>model</th>\n",
       "      <th>trim</th>\n",
       "      <th>body</th>\n",
       "      <th>transmission</th>\n",
       "      <th>vin</th>\n",
       "      <th>state</th>\n",
       "      <th>condition</th>\n",
       "      <th>odometer</th>\n",
       "      <th>color</th>\n",
       "      <th>interior</th>\n",
       "      <th>seller</th>\n",
       "      <th>mmr</th>\n",
       "      <th>sellingprice</th>\n",
       "      <th>saledate</th>\n",
       "    </tr>\n",
       "  </thead>\n",
       "  <tbody>\n",
       "    <tr>\n",
       "      <th>0</th>\n",
       "      <td>2015</td>\n",
       "      <td>Kia</td>\n",
       "      <td>Sorento</td>\n",
       "      <td>LX</td>\n",
       "      <td>SUV</td>\n",
       "      <td>automatic</td>\n",
       "      <td>5xyktca69fg566472</td>\n",
       "      <td>ca</td>\n",
       "      <td>5.0</td>\n",
       "      <td>16639.0</td>\n",
       "      <td>white</td>\n",
       "      <td>black</td>\n",
       "      <td>kia motors america  inc</td>\n",
       "      <td>20500.0</td>\n",
       "      <td>21500.0</td>\n",
       "      <td>Tue Dec 16 2014 12:30:00 GMT-0800 (PST)</td>\n",
       "    </tr>\n",
       "    <tr>\n",
       "      <th>1</th>\n",
       "      <td>2015</td>\n",
       "      <td>Kia</td>\n",
       "      <td>Sorento</td>\n",
       "      <td>LX</td>\n",
       "      <td>SUV</td>\n",
       "      <td>automatic</td>\n",
       "      <td>5xyktca69fg561319</td>\n",
       "      <td>ca</td>\n",
       "      <td>5.0</td>\n",
       "      <td>9393.0</td>\n",
       "      <td>white</td>\n",
       "      <td>beige</td>\n",
       "      <td>kia motors america  inc</td>\n",
       "      <td>20800.0</td>\n",
       "      <td>21500.0</td>\n",
       "      <td>Tue Dec 16 2014 12:30:00 GMT-0800 (PST)</td>\n",
       "    </tr>\n",
       "    <tr>\n",
       "      <th>2</th>\n",
       "      <td>2014</td>\n",
       "      <td>BMW</td>\n",
       "      <td>3 Series</td>\n",
       "      <td>328i SULEV</td>\n",
       "      <td>Sedan</td>\n",
       "      <td>automatic</td>\n",
       "      <td>wba3c1c51ek116351</td>\n",
       "      <td>ca</td>\n",
       "      <td>45.0</td>\n",
       "      <td>1331.0</td>\n",
       "      <td>gray</td>\n",
       "      <td>black</td>\n",
       "      <td>financial services remarketing (lease)</td>\n",
       "      <td>31900.0</td>\n",
       "      <td>30000.0</td>\n",
       "      <td>Thu Jan 15 2015 04:30:00 GMT-0800 (PST)</td>\n",
       "    </tr>\n",
       "  </tbody>\n",
       "</table>\n",
       "</div>"
      ],
      "text/plain": [
       "   year make     model        trim   body transmission                vin  \\\n",
       "0  2015  Kia   Sorento          LX    SUV    automatic  5xyktca69fg566472   \n",
       "1  2015  Kia   Sorento          LX    SUV    automatic  5xyktca69fg561319   \n",
       "2  2014  BMW  3 Series  328i SULEV  Sedan    automatic  wba3c1c51ek116351   \n",
       "\n",
       "  state  condition  odometer  color interior  \\\n",
       "0    ca        5.0   16639.0  white    black   \n",
       "1    ca        5.0    9393.0  white    beige   \n",
       "2    ca       45.0    1331.0   gray    black   \n",
       "\n",
       "                                   seller      mmr  sellingprice  \\\n",
       "0                 kia motors america  inc  20500.0       21500.0   \n",
       "1                 kia motors america  inc  20800.0       21500.0   \n",
       "2  financial services remarketing (lease)  31900.0       30000.0   \n",
       "\n",
       "                                  saledate  \n",
       "0  Tue Dec 16 2014 12:30:00 GMT-0800 (PST)  \n",
       "1  Tue Dec 16 2014 12:30:00 GMT-0800 (PST)  \n",
       "2  Thu Jan 15 2015 04:30:00 GMT-0800 (PST)  "
      ]
     },
     "execution_count": 75,
     "metadata": {},
     "output_type": "execute_result"
    }
   ],
   "source": [
    "car_data= pd.read_csv(Path(\"./Resources/car_prices.csv\"))\n",
    "car_data.head(3)"
   ]
  },
  {
   "cell_type": "code",
   "execution_count": 76,
   "id": "00486538-b3f6-4bcb-ab06-81fa15ff95ed",
   "metadata": {
    "tags": []
   },
   "outputs": [
    {
     "data": {
      "text/html": [
       "<div>\n",
       "<style scoped>\n",
       "    .dataframe tbody tr th:only-of-type {\n",
       "        vertical-align: middle;\n",
       "    }\n",
       "\n",
       "    .dataframe tbody tr th {\n",
       "        vertical-align: top;\n",
       "    }\n",
       "\n",
       "    .dataframe thead th {\n",
       "        text-align: right;\n",
       "    }\n",
       "</style>\n",
       "<table border=\"1\" class=\"dataframe\">\n",
       "  <thead>\n",
       "    <tr style=\"text-align: right;\">\n",
       "      <th></th>\n",
       "      <th>make</th>\n",
       "      <th>model</th>\n",
       "      <th>trim</th>\n",
       "      <th>body</th>\n",
       "      <th>transmission</th>\n",
       "      <th>vin</th>\n",
       "      <th>state</th>\n",
       "      <th>color</th>\n",
       "      <th>interior</th>\n",
       "      <th>seller</th>\n",
       "      <th>saledate</th>\n",
       "    </tr>\n",
       "  </thead>\n",
       "  <tbody>\n",
       "    <tr>\n",
       "      <th>count</th>\n",
       "      <td>548536</td>\n",
       "      <td>548438</td>\n",
       "      <td>548186</td>\n",
       "      <td>545642</td>\n",
       "      <td>493485</td>\n",
       "      <td>558833</td>\n",
       "      <td>558837</td>\n",
       "      <td>558088</td>\n",
       "      <td>558088</td>\n",
       "      <td>558837</td>\n",
       "      <td>558825</td>\n",
       "    </tr>\n",
       "    <tr>\n",
       "      <th>unique</th>\n",
       "      <td>96</td>\n",
       "      <td>973</td>\n",
       "      <td>1963</td>\n",
       "      <td>87</td>\n",
       "      <td>4</td>\n",
       "      <td>550297</td>\n",
       "      <td>64</td>\n",
       "      <td>46</td>\n",
       "      <td>17</td>\n",
       "      <td>14263</td>\n",
       "      <td>3766</td>\n",
       "    </tr>\n",
       "    <tr>\n",
       "      <th>top</th>\n",
       "      <td>Ford</td>\n",
       "      <td>Altima</td>\n",
       "      <td>Base</td>\n",
       "      <td>Sedan</td>\n",
       "      <td>automatic</td>\n",
       "      <td>automatic</td>\n",
       "      <td>fl</td>\n",
       "      <td>black</td>\n",
       "      <td>black</td>\n",
       "      <td>nissan-infiniti lt</td>\n",
       "      <td>Tue Feb 10 2015 01:30:00 GMT-0800 (PST)</td>\n",
       "    </tr>\n",
       "    <tr>\n",
       "      <th>freq</th>\n",
       "      <td>93554</td>\n",
       "      <td>19349</td>\n",
       "      <td>55817</td>\n",
       "      <td>199437</td>\n",
       "      <td>475915</td>\n",
       "      <td>22</td>\n",
       "      <td>82945</td>\n",
       "      <td>110970</td>\n",
       "      <td>244329</td>\n",
       "      <td>19693</td>\n",
       "      <td>5334</td>\n",
       "    </tr>\n",
       "  </tbody>\n",
       "</table>\n",
       "</div>"
      ],
      "text/plain": [
       "          make   model    trim    body transmission        vin   state  \\\n",
       "count   548536  548438  548186  545642       493485     558833  558837   \n",
       "unique      96     973    1963      87            4     550297      64   \n",
       "top       Ford  Altima    Base   Sedan    automatic  automatic      fl   \n",
       "freq     93554   19349   55817  199437       475915         22   82945   \n",
       "\n",
       "         color interior              seller  \\\n",
       "count   558088   558088              558837   \n",
       "unique      46       17               14263   \n",
       "top      black    black  nissan-infiniti lt   \n",
       "freq    110970   244329               19693   \n",
       "\n",
       "                                       saledate  \n",
       "count                                    558825  \n",
       "unique                                     3766  \n",
       "top     Tue Feb 10 2015 01:30:00 GMT-0800 (PST)  \n",
       "freq                                       5334  "
      ]
     },
     "execution_count": 76,
     "metadata": {},
     "output_type": "execute_result"
    }
   ],
   "source": [
    "car_data.describe(exclude=np.number)"
   ]
  },
  {
   "cell_type": "code",
   "execution_count": 77,
   "id": "eb792b83-a059-43f2-bf1a-34fb3fc24164",
   "metadata": {
    "tags": []
   },
   "outputs": [],
   "source": [
    "car_data=car_data.drop(columns=['vin','saledate','seller'], axis=1)"
   ]
  },
  {
   "cell_type": "code",
   "execution_count": 8,
   "id": "d08e8f97-001f-4a4a-a3f3-0e92cf312faa",
   "metadata": {
    "tags": []
   },
   "outputs": [],
   "source": [
    "car_data.dropna(subset=['transmission'])\n",
    "car_data = car_data.dropna()"
   ]
  },
  {
   "cell_type": "code",
   "execution_count": 9,
   "id": "b05bc2bb-7b0a-4fd9-b7b7-07cc255e59a7",
   "metadata": {
    "tags": []
   },
   "outputs": [
    {
     "data": {
      "text/plain": [
       "year            0.0\n",
       "make            0.0\n",
       "model           0.0\n",
       "trim            0.0\n",
       "body            0.0\n",
       "transmission    0.0\n",
       "state           0.0\n",
       "condition       0.0\n",
       "odometer        0.0\n",
       "color           0.0\n",
       "interior        0.0\n",
       "mmr             0.0\n",
       "sellingprice    0.0\n",
       "dtype: float64"
      ]
     },
     "execution_count": 9,
     "metadata": {},
     "output_type": "execute_result"
    }
   ],
   "source": [
    "car_data.isnull().mean()*100"
   ]
  },
  {
   "cell_type": "code",
   "execution_count": 10,
   "id": "59f5c335-da9e-4cbe-a850-725785543336",
   "metadata": {
    "tags": []
   },
   "outputs": [],
   "source": [
    "car_data['state'] = car_data['state'].str.upper()"
   ]
  },
  {
   "cell_type": "code",
   "execution_count": 11,
   "id": "63f9e6dc-7689-487e-bdac-44db25e4ba5f",
   "metadata": {
    "tags": []
   },
   "outputs": [
    {
     "data": {
      "text/html": [
       "<div>\n",
       "<style scoped>\n",
       "    .dataframe tbody tr th:only-of-type {\n",
       "        vertical-align: middle;\n",
       "    }\n",
       "\n",
       "    .dataframe tbody tr th {\n",
       "        vertical-align: top;\n",
       "    }\n",
       "\n",
       "    .dataframe thead th {\n",
       "        text-align: right;\n",
       "    }\n",
       "</style>\n",
       "<table border=\"1\" class=\"dataframe\">\n",
       "  <thead>\n",
       "    <tr style=\"text-align: right;\">\n",
       "      <th></th>\n",
       "      <th>year</th>\n",
       "      <th>make</th>\n",
       "      <th>model</th>\n",
       "      <th>trim</th>\n",
       "      <th>body</th>\n",
       "      <th>transmission</th>\n",
       "      <th>state</th>\n",
       "      <th>condition</th>\n",
       "      <th>odometer</th>\n",
       "      <th>color</th>\n",
       "      <th>interior</th>\n",
       "      <th>mmr</th>\n",
       "      <th>sellingprice</th>\n",
       "    </tr>\n",
       "  </thead>\n",
       "  <tbody>\n",
       "    <tr>\n",
       "      <th>0</th>\n",
       "      <td>2015</td>\n",
       "      <td>Kia</td>\n",
       "      <td>Sorento</td>\n",
       "      <td>LX</td>\n",
       "      <td>SUV</td>\n",
       "      <td>automatic</td>\n",
       "      <td>CA</td>\n",
       "      <td>5.0</td>\n",
       "      <td>16639.0</td>\n",
       "      <td>white</td>\n",
       "      <td>black</td>\n",
       "      <td>20500.0</td>\n",
       "      <td>21500.0</td>\n",
       "    </tr>\n",
       "    <tr>\n",
       "      <th>1</th>\n",
       "      <td>2015</td>\n",
       "      <td>Kia</td>\n",
       "      <td>Sorento</td>\n",
       "      <td>LX</td>\n",
       "      <td>SUV</td>\n",
       "      <td>automatic</td>\n",
       "      <td>CA</td>\n",
       "      <td>5.0</td>\n",
       "      <td>9393.0</td>\n",
       "      <td>white</td>\n",
       "      <td>beige</td>\n",
       "      <td>20800.0</td>\n",
       "      <td>21500.0</td>\n",
       "    </tr>\n",
       "  </tbody>\n",
       "</table>\n",
       "</div>"
      ],
      "text/plain": [
       "   year make    model trim body transmission state  condition  odometer  \\\n",
       "0  2015  Kia  Sorento   LX  SUV    automatic    CA        5.0   16639.0   \n",
       "1  2015  Kia  Sorento   LX  SUV    automatic    CA        5.0    9393.0   \n",
       "\n",
       "   color interior      mmr  sellingprice  \n",
       "0  white    black  20500.0       21500.0  \n",
       "1  white    beige  20800.0       21500.0  "
      ]
     },
     "execution_count": 11,
     "metadata": {},
     "output_type": "execute_result"
    }
   ],
   "source": [
    "car_data.head(2)"
   ]
  },
  {
   "cell_type": "code",
   "execution_count": 12,
   "id": "17ecb5c3-259f-4200-912d-39893769145a",
   "metadata": {
    "tags": []
   },
   "outputs": [
    {
     "name": "stdout",
     "output_type": "stream",
     "text": [
      "<class 'pandas.core.frame.DataFrame'>\n",
      "Index: 472325 entries, 0 to 558836\n",
      "Data columns (total 13 columns):\n",
      " #   Column        Non-Null Count   Dtype  \n",
      "---  ------        --------------   -----  \n",
      " 0   year          472325 non-null  int64  \n",
      " 1   make          472325 non-null  object \n",
      " 2   model         472325 non-null  object \n",
      " 3   trim          472325 non-null  object \n",
      " 4   body          472325 non-null  object \n",
      " 5   transmission  472325 non-null  object \n",
      " 6   state         472325 non-null  object \n",
      " 7   condition     472325 non-null  float64\n",
      " 8   odometer      472325 non-null  float64\n",
      " 9   color         472325 non-null  object \n",
      " 10  interior      472325 non-null  object \n",
      " 11  mmr           472325 non-null  float64\n",
      " 12  sellingprice  472325 non-null  float64\n",
      "dtypes: float64(4), int64(1), object(8)\n",
      "memory usage: 50.4+ MB\n"
     ]
    }
   ],
   "source": [
    "car_data.info()"
   ]
  },
  {
   "cell_type": "code",
   "execution_count": 13,
   "id": "8825e559-c7e3-468e-82fa-cc394a52447d",
   "metadata": {
    "tags": []
   },
   "outputs": [
    {
     "data": {
      "text/plain": [
       "Index(['Ford', 'Chevrolet', 'Nissan', 'Toyota', 'Dodge', 'Honda', 'Hyundai',\n",
       "       'BMW', 'Kia', 'Chrysler', 'Infiniti', 'Mercedes-Benz', 'Jeep',\n",
       "       'Volkswagen', 'Lexus'],\n",
       "      dtype='object', name='make')"
      ]
     },
     "execution_count": 13,
     "metadata": {},
     "output_type": "execute_result"
    }
   ],
   "source": [
    "make_price= car_data.make.value_counts()[:15]\n",
    "make_price.index"
   ]
  },
  {
   "cell_type": "code",
   "execution_count": 14,
   "id": "9017c927-5fa4-4685-a756-a2aab20e9f07",
   "metadata": {
    "tags": []
   },
   "outputs": [],
   "source": [
    "make_df= car_data[car_data['make'].isin(make_price.index)]"
   ]
  },
  {
   "cell_type": "code",
   "execution_count": 15,
   "id": "1b23807c-ddb7-4139-981d-19d722e752c0",
   "metadata": {
    "tags": []
   },
   "outputs": [
    {
     "data": {
      "text/plain": [
       "year  make        model            trim              body         transmission  state  condition  odometer  color   interior  mmr      sellingprice\n",
       "1990  Chevrolet   C/K 1500 Series  454SS             Regular Cab  automatic     FL     3.0        101927.0  black   red       7225.0   8000.0          1\n",
       "2013  Dodge       Avenger          SE                Sedan        automatic     SC     26.0       57114.0   silver  black     9200.0   9000.0          1\n",
       "                                                                                OH     49.0       48945.0   blue    tan       9500.0   9900.0          1\n",
       "                                                                                       48.0       26102.0   blue    black     10850.0  11000.0         1\n",
       "                                                                                       45.0       15609.0   blue    black     11650.0  11600.0         1\n",
       "                                                                                                                                                      ..\n",
       "2010  Jeep        Wrangler         Unlimited Sahara  suv          automatic     MI     43.0       34155.0   green   black     24100.0  24700.0         1\n",
       "                                                                                       42.0       66887.0   green   tan       21700.0  22800.0         1\n",
       "                                                     SUV          manual        TN     47.0       56590.0   —       gray      23000.0  22200.0         1\n",
       "                                                                                       28.0       107845.0  —       gray      18650.0  16400.0         1\n",
       "2015  Volkswagen  Tiguan           S                 suv          automatic     CA     45.0       20278.0   blue    black     18000.0  17200.0         1\n",
       "Name: count, Length: 395553, dtype: int64"
      ]
     },
     "execution_count": 15,
     "metadata": {},
     "output_type": "execute_result"
    }
   ],
   "source": [
    "make_df.value_counts()"
   ]
  },
  {
   "cell_type": "code",
   "execution_count": 16,
   "id": "5d9ea7bc-0660-4bb5-b855-2728ee936d3f",
   "metadata": {
    "tags": []
   },
   "outputs": [],
   "source": [
    "make_df =make_df.drop(columns=['trim', 'interior', 'body', 'transmission'], axis=1)\n"
   ]
  },
  {
   "cell_type": "code",
   "execution_count": 73,
   "id": "1cd3861f-7b22-481b-8277-d4ce26598d0e",
   "metadata": {
    "tags": []
   },
   "outputs": [
    {
     "data": {
      "text/plain": [
       "count    395553.000000\n",
       "mean         30.948897\n",
       "std          13.277015\n",
       "min           1.000000\n",
       "25%          24.000000\n",
       "50%          35.000000\n",
       "75%          42.000000\n",
       "max          49.000000\n",
       "Name: condition, dtype: float64"
      ]
     },
     "execution_count": 73,
     "metadata": {},
     "output_type": "execute_result"
    }
   ],
   "source": [
    "make_df['condition'].describe()"
   ]
  },
  {
   "cell_type": "code",
   "execution_count": 17,
   "id": "0cc80d66-a3e0-402e-a79a-88c6c952171f",
   "metadata": {
    "tags": []
   },
   "outputs": [],
   "source": [
    "encoder = LabelEncoder()"
   ]
  },
  {
   "cell_type": "code",
   "execution_count": 18,
   "id": "6466d891-c381-4f42-902d-0c483092451c",
   "metadata": {
    "tags": []
   },
   "outputs": [],
   "source": [
    "object_columns = [i for i in make_df.columns if make_df[i].dtype == \"object\" ]"
   ]
  },
  {
   "cell_type": "code",
   "execution_count": 19,
   "id": "4616b8a9-99b9-4ea8-8225-02cb855e8b50",
   "metadata": {
    "tags": []
   },
   "outputs": [],
   "source": [
    "for  i in object_columns:\n",
    "    make_df[i] = encoder.fit_transform(make_df[i])\n",
    "    with open(\"encoder_\"+str(i)+\".pkl\", 'wb') as encoder_file:\n",
    "        pickle.dump(encoder, encoder_file)"
   ]
  },
  {
   "cell_type": "code",
   "execution_count": 20,
   "id": "85ccfa2a-8276-46cd-8872-1e674b25d0a1",
   "metadata": {
    "tags": []
   },
   "outputs": [
    {
     "data": {
      "text/html": [
       "<div>\n",
       "<style scoped>\n",
       "    .dataframe tbody tr th:only-of-type {\n",
       "        vertical-align: middle;\n",
       "    }\n",
       "\n",
       "    .dataframe tbody tr th {\n",
       "        vertical-align: top;\n",
       "    }\n",
       "\n",
       "    .dataframe thead th {\n",
       "        text-align: right;\n",
       "    }\n",
       "</style>\n",
       "<table border=\"1\" class=\"dataframe\">\n",
       "  <thead>\n",
       "    <tr style=\"text-align: right;\">\n",
       "      <th></th>\n",
       "      <th>year</th>\n",
       "      <th>make</th>\n",
       "      <th>model</th>\n",
       "      <th>state</th>\n",
       "      <th>condition</th>\n",
       "      <th>odometer</th>\n",
       "      <th>color</th>\n",
       "      <th>mmr</th>\n",
       "      <th>sellingprice</th>\n",
       "    </tr>\n",
       "  </thead>\n",
       "  <tbody>\n",
       "    <tr>\n",
       "      <th>0</th>\n",
       "      <td>2015</td>\n",
       "      <td>9</td>\n",
       "      <td>354</td>\n",
       "      <td>2</td>\n",
       "      <td>5.0</td>\n",
       "      <td>16639.0</td>\n",
       "      <td>17</td>\n",
       "      <td>20500.0</td>\n",
       "      <td>21500.0</td>\n",
       "    </tr>\n",
       "    <tr>\n",
       "      <th>1</th>\n",
       "      <td>2015</td>\n",
       "      <td>9</td>\n",
       "      <td>354</td>\n",
       "      <td>2</td>\n",
       "      <td>5.0</td>\n",
       "      <td>9393.0</td>\n",
       "      <td>17</td>\n",
       "      <td>20800.0</td>\n",
       "      <td>21500.0</td>\n",
       "    </tr>\n",
       "    <tr>\n",
       "      <th>2</th>\n",
       "      <td>2014</td>\n",
       "      <td>0</td>\n",
       "      <td>5</td>\n",
       "      <td>2</td>\n",
       "      <td>45.0</td>\n",
       "      <td>1331.0</td>\n",
       "      <td>7</td>\n",
       "      <td>31900.0</td>\n",
       "      <td>30000.0</td>\n",
       "    </tr>\n",
       "  </tbody>\n",
       "</table>\n",
       "</div>"
      ],
      "text/plain": [
       "   year  make  model  state  condition  odometer  color      mmr  sellingprice\n",
       "0  2015     9    354      2        5.0   16639.0     17  20500.0       21500.0\n",
       "1  2015     9    354      2        5.0    9393.0     17  20800.0       21500.0\n",
       "2  2014     0      5      2       45.0    1331.0      7  31900.0       30000.0"
      ]
     },
     "execution_count": 20,
     "metadata": {},
     "output_type": "execute_result"
    }
   ],
   "source": [
    "make_df.head(3)"
   ]
  },
  {
   "cell_type": "code",
   "execution_count": 21,
   "id": "d4503a58-ed46-4a08-b15b-f1e8e52df0ac",
   "metadata": {
    "tags": []
   },
   "outputs": [],
   "source": [
    "scaler = MinMaxScaler()"
   ]
  },
  {
   "cell_type": "code",
   "execution_count": 22,
   "id": "a0863aa8-f82d-4a97-b6c4-407d3ecb31b6",
   "metadata": {
    "tags": []
   },
   "outputs": [],
   "source": [
    "X= make_df.iloc[:,:-1]\n",
    "y= make_df.iloc[:,-1]"
   ]
  },
  {
   "cell_type": "code",
   "execution_count": 23,
   "id": "fedb074c-eb2f-4fdb-941b-e2796c0619b4",
   "metadata": {
    "tags": []
   },
   "outputs": [],
   "source": [
    "for i in X.columns:\n",
    "    X[i] = scaler.fit_transform(np.array(X[i]).reshape(-1,1))\n",
    "    with open(str(i)+\"_scaler.pkl\",'wb') as scaler_file:\n",
    "        pickle.dump(scaler, scaler_file) "
   ]
  },
  {
   "cell_type": "code",
   "execution_count": 24,
   "id": "a032fc0e-615b-4933-a460-05a628732ae2",
   "metadata": {
    "tags": []
   },
   "outputs": [
    {
     "data": {
      "text/html": [
       "<div>\n",
       "<style scoped>\n",
       "    .dataframe tbody tr th:only-of-type {\n",
       "        vertical-align: middle;\n",
       "    }\n",
       "\n",
       "    .dataframe tbody tr th {\n",
       "        vertical-align: top;\n",
       "    }\n",
       "\n",
       "    .dataframe thead th {\n",
       "        text-align: right;\n",
       "    }\n",
       "</style>\n",
       "<table border=\"1\" class=\"dataframe\">\n",
       "  <thead>\n",
       "    <tr style=\"text-align: right;\">\n",
       "      <th></th>\n",
       "      <th>year</th>\n",
       "      <th>make</th>\n",
       "      <th>model</th>\n",
       "      <th>state</th>\n",
       "      <th>condition</th>\n",
       "      <th>odometer</th>\n",
       "      <th>color</th>\n",
       "      <th>mmr</th>\n",
       "    </tr>\n",
       "  </thead>\n",
       "  <tbody>\n",
       "    <tr>\n",
       "      <th>0</th>\n",
       "      <td>1.00</td>\n",
       "      <td>0.642857</td>\n",
       "      <td>0.842857</td>\n",
       "      <td>0.060606</td>\n",
       "      <td>0.083333</td>\n",
       "      <td>0.016638</td>\n",
       "      <td>0.894737</td>\n",
       "      <td>0.116352</td>\n",
       "    </tr>\n",
       "    <tr>\n",
       "      <th>1</th>\n",
       "      <td>1.00</td>\n",
       "      <td>0.642857</td>\n",
       "      <td>0.842857</td>\n",
       "      <td>0.060606</td>\n",
       "      <td>0.083333</td>\n",
       "      <td>0.009392</td>\n",
       "      <td>0.894737</td>\n",
       "      <td>0.118057</td>\n",
       "    </tr>\n",
       "    <tr>\n",
       "      <th>2</th>\n",
       "      <td>0.96</td>\n",
       "      <td>0.000000</td>\n",
       "      <td>0.011905</td>\n",
       "      <td>0.060606</td>\n",
       "      <td>0.916667</td>\n",
       "      <td>0.001330</td>\n",
       "      <td>0.368421</td>\n",
       "      <td>0.181134</td>\n",
       "    </tr>\n",
       "    <tr>\n",
       "      <th>4</th>\n",
       "      <td>0.96</td>\n",
       "      <td>0.000000</td>\n",
       "      <td>0.052381</td>\n",
       "      <td>0.060606</td>\n",
       "      <td>0.875000</td>\n",
       "      <td>0.002640</td>\n",
       "      <td>0.368421</td>\n",
       "      <td>0.374911</td>\n",
       "    </tr>\n",
       "    <tr>\n",
       "      <th>5</th>\n",
       "      <td>1.00</td>\n",
       "      <td>0.857143</td>\n",
       "      <td>0.076190</td>\n",
       "      <td>0.060606</td>\n",
       "      <td>0.000000</td>\n",
       "      <td>0.005553</td>\n",
       "      <td>0.368421</td>\n",
       "      <td>0.087086</td>\n",
       "    </tr>\n",
       "  </tbody>\n",
       "</table>\n",
       "</div>"
      ],
      "text/plain": [
       "   year      make     model     state  condition  odometer     color       mmr\n",
       "0  1.00  0.642857  0.842857  0.060606   0.083333  0.016638  0.894737  0.116352\n",
       "1  1.00  0.642857  0.842857  0.060606   0.083333  0.009392  0.894737  0.118057\n",
       "2  0.96  0.000000  0.011905  0.060606   0.916667  0.001330  0.368421  0.181134\n",
       "4  0.96  0.000000  0.052381  0.060606   0.875000  0.002640  0.368421  0.374911\n",
       "5  1.00  0.857143  0.076190  0.060606   0.000000  0.005553  0.368421  0.087086"
      ]
     },
     "execution_count": 24,
     "metadata": {},
     "output_type": "execute_result"
    }
   ],
   "source": [
    "X.head()"
   ]
  },
  {
   "cell_type": "code",
   "execution_count": 25,
   "id": "87438a56-8707-40ce-a8b7-7bf190004177",
   "metadata": {
    "tags": []
   },
   "outputs": [],
   "source": [
    "xtrain,xtest,ytrain,ytest = train_test_split(X,y,test_size=0.15,random_state=1)"
   ]
  },
  {
   "cell_type": "code",
   "execution_count": 26,
   "id": "89a2794f-9fcb-47ac-901c-c9783839f468",
   "metadata": {
    "tags": []
   },
   "outputs": [
    {
     "data": {
      "text/plain": [
       "((336220, 8), (336220,))"
      ]
     },
     "execution_count": 26,
     "metadata": {},
     "output_type": "execute_result"
    }
   ],
   "source": [
    "xtrain.shape, ytrain.shape"
   ]
  },
  {
   "cell_type": "code",
   "execution_count": 27,
   "id": "f26aa153-d620-43a8-a302-81563faedd64",
   "metadata": {
    "tags": []
   },
   "outputs": [
    {
     "data": {
      "text/html": [
       "<style>#sk-container-id-1 {color: black;}#sk-container-id-1 pre{padding: 0;}#sk-container-id-1 div.sk-toggleable {background-color: white;}#sk-container-id-1 label.sk-toggleable__label {cursor: pointer;display: block;width: 100%;margin-bottom: 0;padding: 0.3em;box-sizing: border-box;text-align: center;}#sk-container-id-1 label.sk-toggleable__label-arrow:before {content: \"▸\";float: left;margin-right: 0.25em;color: #696969;}#sk-container-id-1 label.sk-toggleable__label-arrow:hover:before {color: black;}#sk-container-id-1 div.sk-estimator:hover label.sk-toggleable__label-arrow:before {color: black;}#sk-container-id-1 div.sk-toggleable__content {max-height: 0;max-width: 0;overflow: hidden;text-align: left;background-color: #f0f8ff;}#sk-container-id-1 div.sk-toggleable__content pre {margin: 0.2em;color: black;border-radius: 0.25em;background-color: #f0f8ff;}#sk-container-id-1 input.sk-toggleable__control:checked~div.sk-toggleable__content {max-height: 200px;max-width: 100%;overflow: auto;}#sk-container-id-1 input.sk-toggleable__control:checked~label.sk-toggleable__label-arrow:before {content: \"▾\";}#sk-container-id-1 div.sk-estimator input.sk-toggleable__control:checked~label.sk-toggleable__label {background-color: #d4ebff;}#sk-container-id-1 div.sk-label input.sk-toggleable__control:checked~label.sk-toggleable__label {background-color: #d4ebff;}#sk-container-id-1 input.sk-hidden--visually {border: 0;clip: rect(1px 1px 1px 1px);clip: rect(1px, 1px, 1px, 1px);height: 1px;margin: -1px;overflow: hidden;padding: 0;position: absolute;width: 1px;}#sk-container-id-1 div.sk-estimator {font-family: monospace;background-color: #f0f8ff;border: 1px dotted black;border-radius: 0.25em;box-sizing: border-box;margin-bottom: 0.5em;}#sk-container-id-1 div.sk-estimator:hover {background-color: #d4ebff;}#sk-container-id-1 div.sk-parallel-item::after {content: \"\";width: 100%;border-bottom: 1px solid gray;flex-grow: 1;}#sk-container-id-1 div.sk-label:hover label.sk-toggleable__label {background-color: #d4ebff;}#sk-container-id-1 div.sk-serial::before {content: \"\";position: absolute;border-left: 1px solid gray;box-sizing: border-box;top: 0;bottom: 0;left: 50%;z-index: 0;}#sk-container-id-1 div.sk-serial {display: flex;flex-direction: column;align-items: center;background-color: white;padding-right: 0.2em;padding-left: 0.2em;position: relative;}#sk-container-id-1 div.sk-item {position: relative;z-index: 1;}#sk-container-id-1 div.sk-parallel {display: flex;align-items: stretch;justify-content: center;background-color: white;position: relative;}#sk-container-id-1 div.sk-item::before, #sk-container-id-1 div.sk-parallel-item::before {content: \"\";position: absolute;border-left: 1px solid gray;box-sizing: border-box;top: 0;bottom: 0;left: 50%;z-index: -1;}#sk-container-id-1 div.sk-parallel-item {display: flex;flex-direction: column;z-index: 1;position: relative;background-color: white;}#sk-container-id-1 div.sk-parallel-item:first-child::after {align-self: flex-end;width: 50%;}#sk-container-id-1 div.sk-parallel-item:last-child::after {align-self: flex-start;width: 50%;}#sk-container-id-1 div.sk-parallel-item:only-child::after {width: 0;}#sk-container-id-1 div.sk-dashed-wrapped {border: 1px dashed gray;margin: 0 0.4em 0.5em 0.4em;box-sizing: border-box;padding-bottom: 0.4em;background-color: white;}#sk-container-id-1 div.sk-label label {font-family: monospace;font-weight: bold;display: inline-block;line-height: 1.2em;}#sk-container-id-1 div.sk-label-container {text-align: center;}#sk-container-id-1 div.sk-container {/* jupyter's `normalize.less` sets `[hidden] { display: none; }` but bootstrap.min.css set `[hidden] { display: none !important; }` so we also need the `!important` here to be able to override the default hidden behavior on the sphinx rendered scikit-learn.org. See: https://github.com/scikit-learn/scikit-learn/issues/21755 */display: inline-block !important;position: relative;}#sk-container-id-1 div.sk-text-repr-fallback {display: none;}</style><div id=\"sk-container-id-1\" class=\"sk-top-container\"><div class=\"sk-text-repr-fallback\"><pre>Lasso(alpha=0.001)</pre><b>In a Jupyter environment, please rerun this cell to show the HTML representation or trust the notebook. <br />On GitHub, the HTML representation is unable to render, please try loading this page with nbviewer.org.</b></div><div class=\"sk-container\" hidden><div class=\"sk-item\"><div class=\"sk-estimator sk-toggleable\"><input class=\"sk-toggleable__control sk-hidden--visually\" id=\"sk-estimator-id-1\" type=\"checkbox\" checked><label for=\"sk-estimator-id-1\" class=\"sk-toggleable__label sk-toggleable__label-arrow\">Lasso</label><div class=\"sk-toggleable__content\"><pre>Lasso(alpha=0.001)</pre></div></div></div></div></div>"
      ],
      "text/plain": [
       "Lasso(alpha=0.001)"
      ]
     },
     "execution_count": 27,
     "metadata": {},
     "output_type": "execute_result"
    }
   ],
   "source": [
    "lasso_model = Lasso(alpha=0.001)\n",
    "lasso_model.fit(xtrain,ytrain)"
   ]
  },
  {
   "cell_type": "code",
   "execution_count": 28,
   "id": "32746ec1-162d-4017-9b2e-3e89683d1b81",
   "metadata": {
    "tags": []
   },
   "outputs": [],
   "source": [
    "pred=lasso_model.predict(xtest)"
   ]
  },
  {
   "cell_type": "code",
   "execution_count": 29,
   "id": "9dafe3ef-964f-4c97-a6c7-8f6886a7f0c4",
   "metadata": {
    "tags": []
   },
   "outputs": [
    {
     "data": {
      "text/plain": [
       "0.9662649011289366"
      ]
     },
     "execution_count": 29,
     "metadata": {},
     "output_type": "execute_result"
    }
   ],
   "source": [
    "r2_score(ytest,pred)"
   ]
  },
  {
   "cell_type": "code",
   "execution_count": 30,
   "id": "747f3dc5-7ad1-4a60-8dca-e9207cba3e28",
   "metadata": {
    "tags": []
   },
   "outputs": [],
   "source": [
    "with open(\"lasso_model.pkl\", \"wb\") as f:\n",
    "    pickle.dump(lasso_model, f)"
   ]
  },
  {
   "cell_type": "code",
   "execution_count": 47,
   "id": "58808698-f424-4f5d-9895-659d2c10f830",
   "metadata": {},
   "outputs": [],
   "source": [
    "model = pickle.load(open('lasso_model.pkl', 'rb'))"
   ]
  },
  {
   "cell_type": "code",
   "execution_count": 48,
   "id": "ac193a80-5d14-437f-b0a5-5622fd1eddca",
   "metadata": {
    "tags": []
   },
   "outputs": [
    {
     "data": {
      "text/html": [
       "<style>#sk-container-id-2 {color: black;}#sk-container-id-2 pre{padding: 0;}#sk-container-id-2 div.sk-toggleable {background-color: white;}#sk-container-id-2 label.sk-toggleable__label {cursor: pointer;display: block;width: 100%;margin-bottom: 0;padding: 0.3em;box-sizing: border-box;text-align: center;}#sk-container-id-2 label.sk-toggleable__label-arrow:before {content: \"▸\";float: left;margin-right: 0.25em;color: #696969;}#sk-container-id-2 label.sk-toggleable__label-arrow:hover:before {color: black;}#sk-container-id-2 div.sk-estimator:hover label.sk-toggleable__label-arrow:before {color: black;}#sk-container-id-2 div.sk-toggleable__content {max-height: 0;max-width: 0;overflow: hidden;text-align: left;background-color: #f0f8ff;}#sk-container-id-2 div.sk-toggleable__content pre {margin: 0.2em;color: black;border-radius: 0.25em;background-color: #f0f8ff;}#sk-container-id-2 input.sk-toggleable__control:checked~div.sk-toggleable__content {max-height: 200px;max-width: 100%;overflow: auto;}#sk-container-id-2 input.sk-toggleable__control:checked~label.sk-toggleable__label-arrow:before {content: \"▾\";}#sk-container-id-2 div.sk-estimator input.sk-toggleable__control:checked~label.sk-toggleable__label {background-color: #d4ebff;}#sk-container-id-2 div.sk-label input.sk-toggleable__control:checked~label.sk-toggleable__label {background-color: #d4ebff;}#sk-container-id-2 input.sk-hidden--visually {border: 0;clip: rect(1px 1px 1px 1px);clip: rect(1px, 1px, 1px, 1px);height: 1px;margin: -1px;overflow: hidden;padding: 0;position: absolute;width: 1px;}#sk-container-id-2 div.sk-estimator {font-family: monospace;background-color: #f0f8ff;border: 1px dotted black;border-radius: 0.25em;box-sizing: border-box;margin-bottom: 0.5em;}#sk-container-id-2 div.sk-estimator:hover {background-color: #d4ebff;}#sk-container-id-2 div.sk-parallel-item::after {content: \"\";width: 100%;border-bottom: 1px solid gray;flex-grow: 1;}#sk-container-id-2 div.sk-label:hover label.sk-toggleable__label {background-color: #d4ebff;}#sk-container-id-2 div.sk-serial::before {content: \"\";position: absolute;border-left: 1px solid gray;box-sizing: border-box;top: 0;bottom: 0;left: 50%;z-index: 0;}#sk-container-id-2 div.sk-serial {display: flex;flex-direction: column;align-items: center;background-color: white;padding-right: 0.2em;padding-left: 0.2em;position: relative;}#sk-container-id-2 div.sk-item {position: relative;z-index: 1;}#sk-container-id-2 div.sk-parallel {display: flex;align-items: stretch;justify-content: center;background-color: white;position: relative;}#sk-container-id-2 div.sk-item::before, #sk-container-id-2 div.sk-parallel-item::before {content: \"\";position: absolute;border-left: 1px solid gray;box-sizing: border-box;top: 0;bottom: 0;left: 50%;z-index: -1;}#sk-container-id-2 div.sk-parallel-item {display: flex;flex-direction: column;z-index: 1;position: relative;background-color: white;}#sk-container-id-2 div.sk-parallel-item:first-child::after {align-self: flex-end;width: 50%;}#sk-container-id-2 div.sk-parallel-item:last-child::after {align-self: flex-start;width: 50%;}#sk-container-id-2 div.sk-parallel-item:only-child::after {width: 0;}#sk-container-id-2 div.sk-dashed-wrapped {border: 1px dashed gray;margin: 0 0.4em 0.5em 0.4em;box-sizing: border-box;padding-bottom: 0.4em;background-color: white;}#sk-container-id-2 div.sk-label label {font-family: monospace;font-weight: bold;display: inline-block;line-height: 1.2em;}#sk-container-id-2 div.sk-label-container {text-align: center;}#sk-container-id-2 div.sk-container {/* jupyter's `normalize.less` sets `[hidden] { display: none; }` but bootstrap.min.css set `[hidden] { display: none !important; }` so we also need the `!important` here to be able to override the default hidden behavior on the sphinx rendered scikit-learn.org. See: https://github.com/scikit-learn/scikit-learn/issues/21755 */display: inline-block !important;position: relative;}#sk-container-id-2 div.sk-text-repr-fallback {display: none;}</style><div id=\"sk-container-id-2\" class=\"sk-top-container\"><div class=\"sk-text-repr-fallback\"><pre>Lasso(alpha=0.001)</pre><b>In a Jupyter environment, please rerun this cell to show the HTML representation or trust the notebook. <br />On GitHub, the HTML representation is unable to render, please try loading this page with nbviewer.org.</b></div><div class=\"sk-container\" hidden><div class=\"sk-item\"><div class=\"sk-estimator sk-toggleable\"><input class=\"sk-toggleable__control sk-hidden--visually\" id=\"sk-estimator-id-2\" type=\"checkbox\" checked><label for=\"sk-estimator-id-2\" class=\"sk-toggleable__label sk-toggleable__label-arrow\">Lasso</label><div class=\"sk-toggleable__content\"><pre>Lasso(alpha=0.001)</pre></div></div></div></div></div>"
      ],
      "text/plain": [
       "Lasso(alpha=0.001)"
      ]
     },
     "execution_count": 48,
     "metadata": {},
     "output_type": "execute_result"
    }
   ],
   "source": [
    "model"
   ]
  },
  {
   "cell_type": "code",
   "execution_count": 38,
   "id": "9030ce22-0de6-42d9-bacd-afedd36a46b6",
   "metadata": {
    "tags": []
   },
   "outputs": [],
   "source": [
    "year = 2012\n",
    "make = \"Honda\"\n",
    "model = \"Civic\"\n",
    "odometer = 123450\n",
    "color = \"black\"\n",
    "state = \"CA\"\n",
    "condition= 34.0\n",
    "mmr=16000\n"
   ]
  },
  {
   "cell_type": "code",
   "execution_count": 39,
   "id": "9cd056b9-0fd4-4cc5-9969-5648ab42829a",
   "metadata": {
    "tags": []
   },
   "outputs": [],
   "source": [
    "features = {\"year\":year, \"make\":make, \"model\" :model, \"odometer\":odometer, \"color\":color, \"state\":state,\"mmr\":mmr, \"condition\":condition}"
   ]
  },
  {
   "cell_type": "code",
   "execution_count": 40,
   "id": "6ed5c3d7-c14b-43d3-9748-ff666b5276b5",
   "metadata": {
    "tags": []
   },
   "outputs": [
    {
     "name": "stdout",
     "output_type": "stream",
     "text": [
      "LabelEncoder() make\n",
      "LabelEncoder() model\n",
      "LabelEncoder() color\n",
      "LabelEncoder() state\n"
     ]
    },
    {
     "data": {
      "text/plain": [
       "{'year': array([[0.88]]),\n",
       " 'make': array([[0.35714286]]),\n",
       " 'model': array([[0.1952381]]),\n",
       " 'odometer': array([[0.12344925]]),\n",
       " 'color': array([[0.05263158]]),\n",
       " 'state': array([[0.06060606]]),\n",
       " 'mmr': array([[0.09077994]]),\n",
       " 'condition': array([[0.6875]])}"
      ]
     },
     "execution_count": 40,
     "metadata": {},
     "output_type": "execute_result"
    }
   ],
   "source": [
    "data = {}\n",
    "for i in features.keys():\n",
    "    if type(features[i]) == str:\n",
    "        with open(\"encoder_\"+str(i)+\".pkl\", 'rb') as encoder:\n",
    "            label_encoder = pickle.load(encoder)\n",
    "        print(label_encoder,i)\n",
    "        data[str(i)] = label_encoder.transform(np.array(features[i]).reshape(1,-1))\n",
    "\n",
    "    elif type(features[i]) != str:\n",
    "              data[str(i)] = features[i]\n",
    "    with open(str(i)+\"_scaler.pkl\", 'rb') as scaler_file:\n",
    "        scaler = pickle.load(scaler_file)\n",
    "    data[str(i)] = scaler.transform(np.array(data[i]).reshape(1,-1))\n",
    "\n",
    "# processed_data = {key: value[0] for key, value in data.items()}\n",
    "# processed_df = pd.DataFrame(processed_data)\n",
    "\n",
    "# prediction = model.predict(processed_df.values())\n",
    "\n",
    "# output = (prediction[0])\n",
    "data"
   ]
  },
  {
   "cell_type": "code",
   "execution_count": 41,
   "id": "c6dacc14-6489-48a8-bc03-b4010960d392",
   "metadata": {
    "tags": []
   },
   "outputs": [
    {
     "data": {
      "text/html": [
       "<div>\n",
       "<style scoped>\n",
       "    .dataframe tbody tr th:only-of-type {\n",
       "        vertical-align: middle;\n",
       "    }\n",
       "\n",
       "    .dataframe tbody tr th {\n",
       "        vertical-align: top;\n",
       "    }\n",
       "\n",
       "    .dataframe thead th {\n",
       "        text-align: right;\n",
       "    }\n",
       "</style>\n",
       "<table border=\"1\" class=\"dataframe\">\n",
       "  <thead>\n",
       "    <tr style=\"text-align: right;\">\n",
       "      <th></th>\n",
       "      <th>year</th>\n",
       "      <th>make</th>\n",
       "      <th>model</th>\n",
       "      <th>odometer</th>\n",
       "      <th>color</th>\n",
       "      <th>state</th>\n",
       "      <th>mmr</th>\n",
       "      <th>condition</th>\n",
       "    </tr>\n",
       "  </thead>\n",
       "  <tbody>\n",
       "    <tr>\n",
       "      <th>0</th>\n",
       "      <td>0.88</td>\n",
       "      <td>0.357143</td>\n",
       "      <td>0.195238</td>\n",
       "      <td>0.123449</td>\n",
       "      <td>0.052632</td>\n",
       "      <td>0.060606</td>\n",
       "      <td>0.09078</td>\n",
       "      <td>0.6875</td>\n",
       "    </tr>\n",
       "  </tbody>\n",
       "</table>\n",
       "</div>"
      ],
      "text/plain": [
       "   year      make     model  odometer     color     state      mmr  condition\n",
       "0  0.88  0.357143  0.195238  0.123449  0.052632  0.060606  0.09078     0.6875"
      ]
     },
     "execution_count": 41,
     "metadata": {},
     "output_type": "execute_result"
    }
   ],
   "source": [
    "processed_data = {key: value[0] for key, value in data.items()}\n",
    "processed_df = pd.DataFrame(processed_data)\n",
    "processed_df"
   ]
  },
  {
   "cell_type": "code",
   "execution_count": 43,
   "id": "adb7727c-c1a1-4639-8ecc-ca7d26dc21bc",
   "metadata": {
    "tags": []
   },
   "outputs": [],
   "source": [
    "model= pickle.load(open('lasso_model.pkl', 'rb'))"
   ]
  },
  {
   "cell_type": "code",
   "execution_count": 45,
   "id": "cd4202e7-1397-473f-8e10-687d4b7c9da5",
   "metadata": {
    "tags": []
   },
   "outputs": [
    {
     "data": {
      "text/plain": [
       "array([117847.21868019])"
      ]
     },
     "execution_count": 45,
     "metadata": {},
     "output_type": "execute_result"
    }
   ],
   "source": [
    "prediction = model.predict(processed_df.values)\n",
    "\n",
    "# output = (prediction[0])\n",
    "prediction"
   ]
  },
  {
   "cell_type": "code",
   "execution_count": 46,
   "id": "8065dbf3-e139-4bfa-83ca-18892ecf5a7e",
   "metadata": {
    "tags": []
   },
   "outputs": [
    {
     "data": {
      "text/plain": [
       "117847.219"
      ]
     },
     "execution_count": 46,
     "metadata": {},
     "output_type": "execute_result"
    }
   ],
   "source": [
    "output = round(prediction[0],3)\n",
    "output"
   ]
  },
  {
   "cell_type": "code",
   "execution_count": null,
   "id": "341a1f0a-31da-4723-8173-53db9b36c569",
   "metadata": {
    "tags": []
   },
   "outputs": [],
   "source": [
    "# processed_data = {key:value[0] for key, value in data.items()}\n",
    "# processed_df = pd.DataFrame(processed_data)"
   ]
  },
  {
   "cell_type": "code",
   "execution_count": null,
   "id": "4cd0785d-82f7-4e6f-adf9-31229574a5c0",
   "metadata": {
    "tags": []
   },
   "outputs": [],
   "source": [
    "# model=pickle.load(open('lasso_model.pkl', 'rb'))"
   ]
  },
  {
   "cell_type": "code",
   "execution_count": null,
   "id": "6e9b5159-ef5e-4ee4-bd6b-682a2c97b97c",
   "metadata": {
    "tags": []
   },
   "outputs": [],
   "source": [
    "# model.predict(processed_df.values)"
   ]
  },
  {
   "cell_type": "code",
   "execution_count": null,
   "id": "9471145a-da16-4aab-9264-117ba0ede181",
   "metadata": {
    "tags": []
   },
   "outputs": [],
   "source": [
    "xtrain,xtest,ytrain,ytest = train_test_split(X,y,test_size=0.15,random_state=1)"
   ]
  },
  {
   "cell_type": "code",
   "execution_count": null,
   "id": "d8b23ee6-6fa4-4b3b-a14b-1283952c47ad",
   "metadata": {
    "tags": []
   },
   "outputs": [],
   "source": [
    "xtrain.shape, ytrain.shape"
   ]
  },
  {
   "cell_type": "code",
   "execution_count": null,
   "id": "a67d506c-3854-41ef-a77c-f9bc9d078a00",
   "metadata": {
    "tags": []
   },
   "outputs": [],
   "source": [
    "# car_data['condition', 'sellingprice'] corr"
   ]
  },
  {
   "cell_type": "code",
   "execution_count": null,
   "id": "d2ca6961-e830-4a18-a183-866ceb7205e5",
   "metadata": {
    "tags": []
   },
   "outputs": [],
   "source": [
    "lasso_model = Lasso()\n",
    "lasso_model.fit(xtrain,ytrain)"
   ]
  },
  {
   "cell_type": "code",
   "execution_count": null,
   "id": "c4a01f40-ab00-4712-9f47-15adce7e3184",
   "metadata": {
    "tags": []
   },
   "outputs": [],
   "source": [
    "pred=lasso_model.predict(xtest)"
   ]
  },
  {
   "cell_type": "code",
   "execution_count": null,
   "id": "71e388fa-08ea-4aaa-9095-ee802b571cd4",
   "metadata": {
    "tags": []
   },
   "outputs": [],
   "source": [
    "msre = round(np.sqrt(mean_squared_error(ytest,pred)),2)\n",
    "msre"
   ]
  },
  {
   "cell_type": "code",
   "execution_count": null,
   "id": "49c9e2a2-10f3-431c-baef-7d9e8fe5db72",
   "metadata": {
    "tags": []
   },
   "outputs": [],
   "source": [
    "lasso_model.coef_"
   ]
  },
  {
   "cell_type": "code",
   "execution_count": null,
   "id": "b41473e6-fb83-4d0d-8a91-858e0f7ab76e",
   "metadata": {
    "tags": []
   },
   "outputs": [],
   "source": [
    "lasso_model.intercept_"
   ]
  },
  {
   "cell_type": "code",
   "execution_count": null,
   "id": "4afc7f47-fafc-49d6-95b0-28d2760746b1",
   "metadata": {
    "tags": []
   },
   "outputs": [],
   "source": [
    "r2_score(ytest,pred)"
   ]
  },
  {
   "cell_type": "code",
   "execution_count": null,
   "id": "7a4787a9-bac1-4813-ab72-80ec8d69f269",
   "metadata": {
    "tags": []
   },
   "outputs": [],
   "source": [
    "opt_lass_two = Lasso(alpha=0.001)\n",
    "opt_lass_two.fit(xtrain, ytrain)\n",
    "opt_pred=opt_lass_two.predict(xtest)\n"
   ]
  },
  {
   "cell_type": "code",
   "execution_count": null,
   "id": "ddef82f5-34e0-40bd-8382-db8448c4e226",
   "metadata": {
    "tags": []
   },
   "outputs": [],
   "source": [
    "opt_lass_two.intercept_"
   ]
  },
  {
   "cell_type": "code",
   "execution_count": null,
   "id": "85484591-ff3d-4d56-afba-e687466afa90",
   "metadata": {
    "tags": []
   },
   "outputs": [],
   "source": [
    "r2_score(ytest, opt_pred)"
   ]
  },
  {
   "cell_type": "code",
   "execution_count": null,
   "id": "c1a92e95-77d5-43b1-bb51-9f4a5c3f1035",
   "metadata": {
    "tags": []
   },
   "outputs": [],
   "source": []
  },
  {
   "cell_type": "code",
   "execution_count": null,
   "id": "3a7f0a47-43a1-45ae-8967-7960cf9ae3bb",
   "metadata": {
    "tags": []
   },
   "outputs": [],
   "source": [
    "coef_dict={}\n",
    "for coef, feat in zip(lasso_model.coef_,X.columns):\n",
    "    coef_dict[feat] = coef\n",
    "coef_dict"
   ]
  },
  {
   "cell_type": "code",
   "execution_count": null,
   "id": "cca360b1-7b2c-4a35-8295-fe4fd7ba7126",
   "metadata": {
    "tags": []
   },
   "outputs": [],
   "source": [
    "coef_names = make_df.drop('sellingprice',axis=1).columns\n",
    "\n",
    "print(coef_names)"
   ]
  },
  {
   "cell_type": "code",
   "execution_count": null,
   "id": "ae028f0d-587f-43bc-9cd3-d9c675af39d2",
   "metadata": {
    "tags": []
   },
   "outputs": [],
   "source": [
    "lasso = Lasso(alpha=0.001)\n",
    "lasso_coef = lasso.fit(X, y).coef_\n",
    "\n",
    "plt.plot(range(len(coef_names)), lasso_coef)\n",
    "plt.xticks(range(len(coef_names)), coef_names, rotation=90)\n",
    "plt.ylabel(\"Coefficients\")\n",
    "plt.show()"
   ]
  },
  {
   "cell_type": "code",
   "execution_count": null,
   "id": "c6d471d4-e6c0-49a3-b0d0-47132394dbb5",
   "metadata": {
    "tags": []
   },
   "outputs": [],
   "source": [
    "plt.bar(coef_names, lasso_coef)\n",
    "plt.xticks(rotation=90)\n",
    "plt.grid()\n",
    "plt.title(\"Lasso Feature Selection\")\n",
    "plt.xlabel(\"Features\")\n",
    "plt.ylabel(\"Importance\")\n",
    "plt.show()"
   ]
  },
  {
   "cell_type": "code",
   "execution_count": null,
   "id": "9b8b167d-9697-4c02-a123-18c603e196b8",
   "metadata": {
    "tags": []
   },
   "outputs": [],
   "source": []
  },
  {
   "cell_type": "code",
   "execution_count": null,
   "id": "670f483b-8602-467e-9903-9a4d744a974e",
   "metadata": {},
   "outputs": [],
   "source": []
  },
  {
   "cell_type": "code",
   "execution_count": null,
   "id": "d653d746-fce6-4f9b-9f02-7a16d7cbcf33",
   "metadata": {},
   "outputs": [],
   "source": []
  },
  {
   "cell_type": "code",
   "execution_count": null,
   "id": "05c32206-402a-48f4-a526-388614100556",
   "metadata": {},
   "outputs": [],
   "source": []
  },
  {
   "cell_type": "code",
   "execution_count": null,
   "id": "982eaeef-b512-4ee6-a714-1c069dd050f9",
   "metadata": {},
   "outputs": [],
   "source": []
  }
 ],
 "metadata": {
  "kernelspec": {
   "display_name": "Python 3 (ipykernel)",
   "language": "python",
   "name": "python3"
  },
  "language_info": {
   "codemirror_mode": {
    "name": "ipython",
    "version": 3
   },
   "file_extension": ".py",
   "mimetype": "text/x-python",
   "name": "python",
   "nbconvert_exporter": "python",
   "pygments_lexer": "ipython3",
   "version": "3.10.13"
  }
 },
 "nbformat": 4,
 "nbformat_minor": 5
}
