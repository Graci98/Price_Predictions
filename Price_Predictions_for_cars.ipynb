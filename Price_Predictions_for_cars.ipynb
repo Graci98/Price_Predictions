{
 "cells": [
  {
   "cell_type": "code",
   "execution_count": null,
   "id": "0810cd1b-9cb5-46fc-90db-2caa23eaaf87",
   "metadata": {},
   "outputs": [],
   "source": []
  },
  {
   "cell_type": "code",
   "execution_count": null,
   "id": "2fef111e-e61f-43a5-b3ff-39e30ad1d07c",
   "metadata": {},
   "outputs": [],
   "source": []
  },
  {
   "cell_type": "markdown",
   "id": "c51aef2f-2585-4cb5-a308-f93cea804404",
   "metadata": {},
   "source": [
    "### Step 1: Import libraries and CSV File\n"
   ]
  },
  {
   "cell_type": "code",
   "execution_count": 1,
   "id": "47f0a18a-2bdb-40bf-8897-13fb32018609",
   "metadata": {},
   "outputs": [],
   "source": [
    "# Import the required libraries\n",
    "import pandas as pd\n",
    "from pathlib import Path\n",
    "import numpy as np\n",
    "import matplotlib.pyplot as plt\n",
    "import seaborn as sns\n",
    "\n",
    "from sklearn import metrics\n",
    "from sklearn.metrics import balanced_accuracy_score, confusion_matrix, classification_report\n",
    "from sklearn.model_selection import train_test_split, GridSearchCV, cross_val_score\n",
    "from sklearn.preprocessing import StandardScaler, LabelEncoder, MinMaxScaler\n",
    "from sklearn.linear_model import Lasso, LinearRegression\n",
    "from sklearn.metrics import mean_squared_error,r2_score, mean_absolute_error\n",
    "\n",
    "from statsmodels.stats.outliers_influence import variance_inflation_factor \n",
    "import statsmodels.api as sm\n",
    "\n",
    "import warnings\n",
    "warnings.filterwarnings('ignore')"
   ]
  },
  {
   "cell_type": "code",
   "execution_count": 2,
   "id": "e4fdb06c-202c-4d69-959f-01a89e507b4f",
   "metadata": {},
   "outputs": [
    {
     "data": {
      "text/html": [
       "<div>\n",
       "<style scoped>\n",
       "    .dataframe tbody tr th:only-of-type {\n",
       "        vertical-align: middle;\n",
       "    }\n",
       "\n",
       "    .dataframe tbody tr th {\n",
       "        vertical-align: top;\n",
       "    }\n",
       "\n",
       "    .dataframe thead th {\n",
       "        text-align: right;\n",
       "    }\n",
       "</style>\n",
       "<table border=\"1\" class=\"dataframe\">\n",
       "  <thead>\n",
       "    <tr style=\"text-align: right;\">\n",
       "      <th></th>\n",
       "      <th>year</th>\n",
       "      <th>make</th>\n",
       "      <th>model</th>\n",
       "      <th>trim</th>\n",
       "      <th>body</th>\n",
       "      <th>transmission</th>\n",
       "      <th>vin</th>\n",
       "      <th>state</th>\n",
       "      <th>condition</th>\n",
       "      <th>odometer</th>\n",
       "      <th>color</th>\n",
       "      <th>interior</th>\n",
       "      <th>seller</th>\n",
       "      <th>mmr</th>\n",
       "      <th>sellingprice</th>\n",
       "      <th>saledate</th>\n",
       "    </tr>\n",
       "  </thead>\n",
       "  <tbody>\n",
       "    <tr>\n",
       "      <th>0</th>\n",
       "      <td>2015</td>\n",
       "      <td>Kia</td>\n",
       "      <td>Sorento</td>\n",
       "      <td>LX</td>\n",
       "      <td>SUV</td>\n",
       "      <td>automatic</td>\n",
       "      <td>5xyktca69fg566472</td>\n",
       "      <td>ca</td>\n",
       "      <td>5.0</td>\n",
       "      <td>16639.0</td>\n",
       "      <td>white</td>\n",
       "      <td>black</td>\n",
       "      <td>kia motors america  inc</td>\n",
       "      <td>20500.0</td>\n",
       "      <td>21500.0</td>\n",
       "      <td>Tue Dec 16 2014 12:30:00 GMT-0800 (PST)</td>\n",
       "    </tr>\n",
       "    <tr>\n",
       "      <th>1</th>\n",
       "      <td>2015</td>\n",
       "      <td>Kia</td>\n",
       "      <td>Sorento</td>\n",
       "      <td>LX</td>\n",
       "      <td>SUV</td>\n",
       "      <td>automatic</td>\n",
       "      <td>5xyktca69fg561319</td>\n",
       "      <td>ca</td>\n",
       "      <td>5.0</td>\n",
       "      <td>9393.0</td>\n",
       "      <td>white</td>\n",
       "      <td>beige</td>\n",
       "      <td>kia motors america  inc</td>\n",
       "      <td>20800.0</td>\n",
       "      <td>21500.0</td>\n",
       "      <td>Tue Dec 16 2014 12:30:00 GMT-0800 (PST)</td>\n",
       "    </tr>\n",
       "    <tr>\n",
       "      <th>2</th>\n",
       "      <td>2014</td>\n",
       "      <td>BMW</td>\n",
       "      <td>3 Series</td>\n",
       "      <td>328i SULEV</td>\n",
       "      <td>Sedan</td>\n",
       "      <td>automatic</td>\n",
       "      <td>wba3c1c51ek116351</td>\n",
       "      <td>ca</td>\n",
       "      <td>45.0</td>\n",
       "      <td>1331.0</td>\n",
       "      <td>gray</td>\n",
       "      <td>black</td>\n",
       "      <td>financial services remarketing (lease)</td>\n",
       "      <td>31900.0</td>\n",
       "      <td>30000.0</td>\n",
       "      <td>Thu Jan 15 2015 04:30:00 GMT-0800 (PST)</td>\n",
       "    </tr>\n",
       "    <tr>\n",
       "      <th>3</th>\n",
       "      <td>2015</td>\n",
       "      <td>Volvo</td>\n",
       "      <td>S60</td>\n",
       "      <td>T5</td>\n",
       "      <td>Sedan</td>\n",
       "      <td>automatic</td>\n",
       "      <td>yv1612tb4f1310987</td>\n",
       "      <td>ca</td>\n",
       "      <td>41.0</td>\n",
       "      <td>14282.0</td>\n",
       "      <td>white</td>\n",
       "      <td>black</td>\n",
       "      <td>volvo na rep/world omni</td>\n",
       "      <td>27500.0</td>\n",
       "      <td>27750.0</td>\n",
       "      <td>Thu Jan 29 2015 04:30:00 GMT-0800 (PST)</td>\n",
       "    </tr>\n",
       "    <tr>\n",
       "      <th>4</th>\n",
       "      <td>2014</td>\n",
       "      <td>BMW</td>\n",
       "      <td>6 Series Gran Coupe</td>\n",
       "      <td>650i</td>\n",
       "      <td>Sedan</td>\n",
       "      <td>automatic</td>\n",
       "      <td>wba6b2c57ed129731</td>\n",
       "      <td>ca</td>\n",
       "      <td>43.0</td>\n",
       "      <td>2641.0</td>\n",
       "      <td>gray</td>\n",
       "      <td>black</td>\n",
       "      <td>financial services remarketing (lease)</td>\n",
       "      <td>66000.0</td>\n",
       "      <td>67000.0</td>\n",
       "      <td>Thu Dec 18 2014 12:30:00 GMT-0800 (PST)</td>\n",
       "    </tr>\n",
       "  </tbody>\n",
       "</table>\n",
       "</div>"
      ],
      "text/plain": [
       "   year   make                model        trim   body transmission  \\\n",
       "0  2015    Kia              Sorento          LX    SUV    automatic   \n",
       "1  2015    Kia              Sorento          LX    SUV    automatic   \n",
       "2  2014    BMW             3 Series  328i SULEV  Sedan    automatic   \n",
       "3  2015  Volvo                  S60          T5  Sedan    automatic   \n",
       "4  2014    BMW  6 Series Gran Coupe        650i  Sedan    automatic   \n",
       "\n",
       "                 vin state  condition  odometer  color interior  \\\n",
       "0  5xyktca69fg566472    ca        5.0   16639.0  white    black   \n",
       "1  5xyktca69fg561319    ca        5.0    9393.0  white    beige   \n",
       "2  wba3c1c51ek116351    ca       45.0    1331.0   gray    black   \n",
       "3  yv1612tb4f1310987    ca       41.0   14282.0  white    black   \n",
       "4  wba6b2c57ed129731    ca       43.0    2641.0   gray    black   \n",
       "\n",
       "                                   seller      mmr  sellingprice  \\\n",
       "0                 kia motors america  inc  20500.0       21500.0   \n",
       "1                 kia motors america  inc  20800.0       21500.0   \n",
       "2  financial services remarketing (lease)  31900.0       30000.0   \n",
       "3                 volvo na rep/world omni  27500.0       27750.0   \n",
       "4  financial services remarketing (lease)  66000.0       67000.0   \n",
       "\n",
       "                                  saledate  \n",
       "0  Tue Dec 16 2014 12:30:00 GMT-0800 (PST)  \n",
       "1  Tue Dec 16 2014 12:30:00 GMT-0800 (PST)  \n",
       "2  Thu Jan 15 2015 04:30:00 GMT-0800 (PST)  \n",
       "3  Thu Jan 29 2015 04:30:00 GMT-0800 (PST)  \n",
       "4  Thu Dec 18 2014 12:30:00 GMT-0800 (PST)  "
      ]
     },
     "execution_count": 2,
     "metadata": {},
     "output_type": "execute_result"
    }
   ],
   "source": [
    "# Read the CSV file into a Pandas DataFrame\n",
    "car_prices_df = pd.read_csv(Path(\"Resources/car_prices.csv\"))\n",
    "\n",
    "# Review the DataFrame\n",
    "car_prices_df.head()"
   ]
  },
  {
   "cell_type": "code",
   "execution_count": 3,
   "id": "64bf4db1-0219-4993-ba61-6771b56dddff",
   "metadata": {},
   "outputs": [
    {
     "data": {
      "text/plain": [
       "year                0\n",
       "make            10301\n",
       "model           10399\n",
       "trim            10651\n",
       "body            13195\n",
       "transmission    65352\n",
       "vin                 4\n",
       "state               0\n",
       "condition       11820\n",
       "odometer           94\n",
       "color             749\n",
       "interior          749\n",
       "seller              0\n",
       "mmr                38\n",
       "sellingprice       12\n",
       "saledate           12\n",
       "dtype: int64"
      ]
     },
     "execution_count": 3,
     "metadata": {},
     "output_type": "execute_result"
    }
   ],
   "source": [
    "# Check for Null Values\n",
    "car_prices_df.isnull().sum()"
   ]
  },
  {
   "cell_type": "code",
   "execution_count": 4,
   "id": "37206318-df66-41a7-94a5-7c620b811339",
   "metadata": {},
   "outputs": [
    {
     "name": "stdout",
     "output_type": "stream",
     "text": [
      "<class 'pandas.core.frame.DataFrame'>\n",
      "RangeIndex: 558837 entries, 0 to 558836\n",
      "Data columns (total 16 columns):\n",
      " #   Column        Non-Null Count   Dtype  \n",
      "---  ------        --------------   -----  \n",
      " 0   year          558837 non-null  int64  \n",
      " 1   make          548536 non-null  object \n",
      " 2   model         548438 non-null  object \n",
      " 3   trim          548186 non-null  object \n",
      " 4   body          545642 non-null  object \n",
      " 5   transmission  493485 non-null  object \n",
      " 6   vin           558833 non-null  object \n",
      " 7   state         558837 non-null  object \n",
      " 8   condition     547017 non-null  float64\n",
      " 9   odometer      558743 non-null  float64\n",
      " 10  color         558088 non-null  object \n",
      " 11  interior      558088 non-null  object \n",
      " 12  seller        558837 non-null  object \n",
      " 13  mmr           558799 non-null  float64\n",
      " 14  sellingprice  558825 non-null  float64\n",
      " 15  saledate      558825 non-null  object \n",
      "dtypes: float64(4), int64(1), object(11)\n",
      "memory usage: 68.2+ MB\n"
     ]
    }
   ],
   "source": [
    "car_prices_df.info()"
   ]
  },
  {
   "cell_type": "code",
   "execution_count": 5,
   "id": "fd563e1b-4819-41dd-bfc6-3e1cd381797a",
   "metadata": {},
   "outputs": [],
   "source": [
    "# Separate the data into target and features\n",
    "\n",
    "# Separate the y variable, the target\n",
    "y = car_prices_df[\"sellingprice\"]\n",
    "\n",
    "# Separate the X variable, the features\n",
    "X = car_prices_df.drop(columns=\"sellingprice\")"
   ]
  },
  {
   "cell_type": "code",
   "execution_count": 6,
   "id": "1435ba2a-46f0-467e-82cf-e1b36c6a3309",
   "metadata": {},
   "outputs": [],
   "source": [
    "# Create a distribution plot for target variable 'sellingprice'\n",
    "#sns.distplot(car_prices_df['sellingprice']);\n",
    "\n",
    "# print 'Skewness' and 'Kurtosis'\n",
    "#print(\"Skewness: %f\" % car_prices_df['sellingprice'].skew())\n",
    "#print(\"Kurtosis: %f\" % car_prices_df['sellingprice'].kurt())"
   ]
  },
  {
   "cell_type": "code",
   "execution_count": 7,
   "id": "9457dd5b-f2a2-4735-a9a0-1200291041d6",
   "metadata": {},
   "outputs": [
    {
     "ename": "ValueError",
     "evalue": "could not convert string to float: 'Kia'",
     "output_type": "error",
     "traceback": [
      "\u001b[0;31m---------------------------------------------------------------------------\u001b[0m",
      "\u001b[0;31mValueError\u001b[0m                                Traceback (most recent call last)",
      "\u001b[0;32m/var/folders/82/zrhtwx6141zffqfvv5htgq_c0000gn/T/ipykernel_67944/25872452.py\u001b[0m in \u001b[0;36m<module>\u001b[0;34m\u001b[0m\n\u001b[1;32m      1\u001b[0m \u001b[0mplt\u001b[0m\u001b[0;34m.\u001b[0m\u001b[0mfigure\u001b[0m\u001b[0;34m(\u001b[0m\u001b[0mfigsize\u001b[0m\u001b[0;34m=\u001b[0m\u001b[0;34m(\u001b[0m\u001b[0;36m7\u001b[0m\u001b[0;34m,\u001b[0m \u001b[0;36m5\u001b[0m\u001b[0;34m)\u001b[0m\u001b[0;34m)\u001b[0m\u001b[0;34m\u001b[0m\u001b[0;34m\u001b[0m\u001b[0m\n\u001b[0;32m----> 2\u001b[0;31m \u001b[0msns\u001b[0m\u001b[0;34m.\u001b[0m\u001b[0mheatmap\u001b[0m\u001b[0;34m(\u001b[0m\u001b[0mcar_prices_df\u001b[0m\u001b[0;34m.\u001b[0m\u001b[0mcorr\u001b[0m\u001b[0;34m(\u001b[0m\u001b[0;34m)\u001b[0m\u001b[0;34m,\u001b[0m \u001b[0mannot\u001b[0m\u001b[0;34m=\u001b[0m\u001b[0;32mTrue\u001b[0m\u001b[0;34m,\u001b[0m \u001b[0mfmt\u001b[0m\u001b[0;34m=\u001b[0m\u001b[0;34m'.2f'\u001b[0m\u001b[0;34m,\u001b[0m \u001b[0mcmap\u001b[0m\u001b[0;34m=\u001b[0m\u001b[0;34m'gist_heat'\u001b[0m\u001b[0;34m,\u001b[0m \u001b[0mlinewidths\u001b[0m\u001b[0;34m=\u001b[0m\u001b[0;36m1\u001b[0m\u001b[0;34m,\u001b[0m \u001b[0mvmin\u001b[0m\u001b[0;34m=\u001b[0m\u001b[0;34m-\u001b[0m\u001b[0;36m1\u001b[0m\u001b[0;34m,\u001b[0m \u001b[0mvmax\u001b[0m\u001b[0;34m=\u001b[0m\u001b[0;36m1\u001b[0m\u001b[0;34m)\u001b[0m\u001b[0;34m\u001b[0m\u001b[0;34m\u001b[0m\u001b[0m\n\u001b[0m\u001b[1;32m      3\u001b[0m \u001b[0mplt\u001b[0m\u001b[0;34m.\u001b[0m\u001b[0mtitle\u001b[0m\u001b[0;34m(\u001b[0m\u001b[0;34m'Correlation Heatmap'\u001b[0m\u001b[0;34m)\u001b[0m\u001b[0;34m\u001b[0m\u001b[0;34m\u001b[0m\u001b[0m\n\u001b[1;32m      4\u001b[0m \u001b[0;34m\u001b[0m\u001b[0m\n\u001b[1;32m      5\u001b[0m \u001b[0mplt\u001b[0m\u001b[0;34m.\u001b[0m\u001b[0mshow\u001b[0m\u001b[0;34m(\u001b[0m\u001b[0;34m)\u001b[0m\u001b[0;34m\u001b[0m\u001b[0;34m\u001b[0m\u001b[0m\n",
      "\u001b[0;32m~/opt/anaconda3/lib/python3.9/site-packages/pandas/core/frame.py\u001b[0m in \u001b[0;36mcorr\u001b[0;34m(self, method, min_periods, numeric_only)\u001b[0m\n\u001b[1;32m  10702\u001b[0m         \u001b[0mcols\u001b[0m \u001b[0;34m=\u001b[0m \u001b[0mdata\u001b[0m\u001b[0;34m.\u001b[0m\u001b[0mcolumns\u001b[0m\u001b[0;34m\u001b[0m\u001b[0;34m\u001b[0m\u001b[0m\n\u001b[1;32m  10703\u001b[0m         \u001b[0midx\u001b[0m \u001b[0;34m=\u001b[0m \u001b[0mcols\u001b[0m\u001b[0;34m.\u001b[0m\u001b[0mcopy\u001b[0m\u001b[0;34m(\u001b[0m\u001b[0;34m)\u001b[0m\u001b[0;34m\u001b[0m\u001b[0;34m\u001b[0m\u001b[0m\n\u001b[0;32m> 10704\u001b[0;31m         \u001b[0mmat\u001b[0m \u001b[0;34m=\u001b[0m \u001b[0mdata\u001b[0m\u001b[0;34m.\u001b[0m\u001b[0mto_numpy\u001b[0m\u001b[0;34m(\u001b[0m\u001b[0mdtype\u001b[0m\u001b[0;34m=\u001b[0m\u001b[0mfloat\u001b[0m\u001b[0;34m,\u001b[0m \u001b[0mna_value\u001b[0m\u001b[0;34m=\u001b[0m\u001b[0mnp\u001b[0m\u001b[0;34m.\u001b[0m\u001b[0mnan\u001b[0m\u001b[0;34m,\u001b[0m \u001b[0mcopy\u001b[0m\u001b[0;34m=\u001b[0m\u001b[0;32mFalse\u001b[0m\u001b[0;34m)\u001b[0m\u001b[0;34m\u001b[0m\u001b[0;34m\u001b[0m\u001b[0m\n\u001b[0m\u001b[1;32m  10705\u001b[0m \u001b[0;34m\u001b[0m\u001b[0m\n\u001b[1;32m  10706\u001b[0m         \u001b[0;32mif\u001b[0m \u001b[0mmethod\u001b[0m \u001b[0;34m==\u001b[0m \u001b[0;34m\"pearson\"\u001b[0m\u001b[0;34m:\u001b[0m\u001b[0;34m\u001b[0m\u001b[0;34m\u001b[0m\u001b[0m\n",
      "\u001b[0;32m~/opt/anaconda3/lib/python3.9/site-packages/pandas/core/frame.py\u001b[0m in \u001b[0;36mto_numpy\u001b[0;34m(self, dtype, copy, na_value)\u001b[0m\n\u001b[1;32m   1887\u001b[0m         \u001b[0;32mif\u001b[0m \u001b[0mdtype\u001b[0m \u001b[0;32mis\u001b[0m \u001b[0;32mnot\u001b[0m \u001b[0;32mNone\u001b[0m\u001b[0;34m:\u001b[0m\u001b[0;34m\u001b[0m\u001b[0;34m\u001b[0m\u001b[0m\n\u001b[1;32m   1888\u001b[0m             \u001b[0mdtype\u001b[0m \u001b[0;34m=\u001b[0m \u001b[0mnp\u001b[0m\u001b[0;34m.\u001b[0m\u001b[0mdtype\u001b[0m\u001b[0;34m(\u001b[0m\u001b[0mdtype\u001b[0m\u001b[0;34m)\u001b[0m\u001b[0;34m\u001b[0m\u001b[0;34m\u001b[0m\u001b[0m\n\u001b[0;32m-> 1889\u001b[0;31m         \u001b[0mresult\u001b[0m \u001b[0;34m=\u001b[0m \u001b[0mself\u001b[0m\u001b[0;34m.\u001b[0m\u001b[0m_mgr\u001b[0m\u001b[0;34m.\u001b[0m\u001b[0mas_array\u001b[0m\u001b[0;34m(\u001b[0m\u001b[0mdtype\u001b[0m\u001b[0;34m=\u001b[0m\u001b[0mdtype\u001b[0m\u001b[0;34m,\u001b[0m \u001b[0mcopy\u001b[0m\u001b[0;34m=\u001b[0m\u001b[0mcopy\u001b[0m\u001b[0;34m,\u001b[0m \u001b[0mna_value\u001b[0m\u001b[0;34m=\u001b[0m\u001b[0mna_value\u001b[0m\u001b[0;34m)\u001b[0m\u001b[0;34m\u001b[0m\u001b[0;34m\u001b[0m\u001b[0m\n\u001b[0m\u001b[1;32m   1890\u001b[0m         \u001b[0;32mif\u001b[0m \u001b[0mresult\u001b[0m\u001b[0;34m.\u001b[0m\u001b[0mdtype\u001b[0m \u001b[0;32mis\u001b[0m \u001b[0;32mnot\u001b[0m \u001b[0mdtype\u001b[0m\u001b[0;34m:\u001b[0m\u001b[0;34m\u001b[0m\u001b[0;34m\u001b[0m\u001b[0m\n\u001b[1;32m   1891\u001b[0m             \u001b[0mresult\u001b[0m \u001b[0;34m=\u001b[0m \u001b[0mnp\u001b[0m\u001b[0;34m.\u001b[0m\u001b[0marray\u001b[0m\u001b[0;34m(\u001b[0m\u001b[0mresult\u001b[0m\u001b[0;34m,\u001b[0m \u001b[0mdtype\u001b[0m\u001b[0;34m=\u001b[0m\u001b[0mdtype\u001b[0m\u001b[0;34m,\u001b[0m \u001b[0mcopy\u001b[0m\u001b[0;34m=\u001b[0m\u001b[0;32mFalse\u001b[0m\u001b[0;34m)\u001b[0m\u001b[0;34m\u001b[0m\u001b[0;34m\u001b[0m\u001b[0m\n",
      "\u001b[0;32m~/opt/anaconda3/lib/python3.9/site-packages/pandas/core/internals/managers.py\u001b[0m in \u001b[0;36mas_array\u001b[0;34m(self, dtype, copy, na_value)\u001b[0m\n\u001b[1;32m   1654\u001b[0m                 \u001b[0marr\u001b[0m\u001b[0;34m.\u001b[0m\u001b[0mflags\u001b[0m\u001b[0;34m.\u001b[0m\u001b[0mwriteable\u001b[0m \u001b[0;34m=\u001b[0m \u001b[0;32mFalse\u001b[0m\u001b[0;34m\u001b[0m\u001b[0;34m\u001b[0m\u001b[0m\n\u001b[1;32m   1655\u001b[0m         \u001b[0;32melse\u001b[0m\u001b[0;34m:\u001b[0m\u001b[0;34m\u001b[0m\u001b[0;34m\u001b[0m\u001b[0m\n\u001b[0;32m-> 1656\u001b[0;31m             \u001b[0marr\u001b[0m \u001b[0;34m=\u001b[0m \u001b[0mself\u001b[0m\u001b[0;34m.\u001b[0m\u001b[0m_interleave\u001b[0m\u001b[0;34m(\u001b[0m\u001b[0mdtype\u001b[0m\u001b[0;34m=\u001b[0m\u001b[0mdtype\u001b[0m\u001b[0;34m,\u001b[0m \u001b[0mna_value\u001b[0m\u001b[0;34m=\u001b[0m\u001b[0mna_value\u001b[0m\u001b[0;34m)\u001b[0m\u001b[0;34m\u001b[0m\u001b[0;34m\u001b[0m\u001b[0m\n\u001b[0m\u001b[1;32m   1657\u001b[0m             \u001b[0;31m# The underlying data was copied within _interleave, so no need\u001b[0m\u001b[0;34m\u001b[0m\u001b[0;34m\u001b[0m\u001b[0m\n\u001b[1;32m   1658\u001b[0m             \u001b[0;31m# to further copy if copy=True or setting na_value\u001b[0m\u001b[0;34m\u001b[0m\u001b[0;34m\u001b[0m\u001b[0m\n",
      "\u001b[0;32m~/opt/anaconda3/lib/python3.9/site-packages/pandas/core/internals/managers.py\u001b[0m in \u001b[0;36m_interleave\u001b[0;34m(self, dtype, na_value)\u001b[0m\n\u001b[1;32m   1713\u001b[0m             \u001b[0;32melse\u001b[0m\u001b[0;34m:\u001b[0m\u001b[0;34m\u001b[0m\u001b[0;34m\u001b[0m\u001b[0m\n\u001b[1;32m   1714\u001b[0m                 \u001b[0marr\u001b[0m \u001b[0;34m=\u001b[0m \u001b[0mblk\u001b[0m\u001b[0;34m.\u001b[0m\u001b[0mget_values\u001b[0m\u001b[0;34m(\u001b[0m\u001b[0mdtype\u001b[0m\u001b[0;34m)\u001b[0m\u001b[0;34m\u001b[0m\u001b[0;34m\u001b[0m\u001b[0m\n\u001b[0;32m-> 1715\u001b[0;31m             \u001b[0mresult\u001b[0m\u001b[0;34m[\u001b[0m\u001b[0mrl\u001b[0m\u001b[0;34m.\u001b[0m\u001b[0mindexer\u001b[0m\u001b[0;34m]\u001b[0m \u001b[0;34m=\u001b[0m \u001b[0marr\u001b[0m\u001b[0;34m\u001b[0m\u001b[0;34m\u001b[0m\u001b[0m\n\u001b[0m\u001b[1;32m   1716\u001b[0m             \u001b[0mitemmask\u001b[0m\u001b[0;34m[\u001b[0m\u001b[0mrl\u001b[0m\u001b[0;34m.\u001b[0m\u001b[0mindexer\u001b[0m\u001b[0;34m]\u001b[0m \u001b[0;34m=\u001b[0m \u001b[0;36m1\u001b[0m\u001b[0;34m\u001b[0m\u001b[0;34m\u001b[0m\u001b[0m\n\u001b[1;32m   1717\u001b[0m \u001b[0;34m\u001b[0m\u001b[0m\n",
      "\u001b[0;31mValueError\u001b[0m: could not convert string to float: 'Kia'"
     ]
    },
    {
     "data": {
      "text/plain": [
       "<Figure size 700x500 with 0 Axes>"
      ]
     },
     "metadata": {},
     "output_type": "display_data"
    }
   ],
   "source": [
    "plt.figure(figsize=(7, 5))\n",
    "sns.heatmap(car_prices_df.corr(), annot=True, fmt='.2f', cmap='gist_heat', linewidths=1, vmin=-1, vmax=1)\n",
    "plt.title('Correlation Heatmap')\n",
    "\n",
    "plt.show()"
   ]
  },
  {
   "cell_type": "code",
   "execution_count": null,
   "id": "6ec51cb7-7679-45c9-a8de-8e659b529b7b",
   "metadata": {},
   "outputs": [],
   "source": [
    "#x_vars= [\"year\", \"odometer\", \"trim\", \"body\", \"transmission\",\"state\", \"condition\", \"color\"]\n",
    "#y_vars= [\"sellingprice\"]\n",
    "#g= sns.PairGrid(car_prices_df, hue=\"mmr\", x_vars=x_vars, y_vars=y_vars)\n",
    "#g.map_diag(sns.histplot, color=\".3\")\n",
    "#g.map_offdiag(sns.scatterplot)\n",
    "#g.add_legend();"
   ]
  },
  {
   "cell_type": "code",
   "execution_count": null,
   "id": "ba143268-a0ea-409a-b614-758ab46264e9",
   "metadata": {},
   "outputs": [],
   "source": [
    "#x_vars= [\"year\", \"odometer\", \"trim\", \"body\", \"transmission\",\"state\", \"condition\", \"color\"]\n",
    "#y_vars= [\"sellingprice\"]\n",
    "#g= sns.PairGrid(car_prices_df, hue=\"\", x_vars=x_vars, y_vars=y_vars)\n",
    "#g.map_diag(sns.histplot, color=\".3\")\n",
    "#g.map_offdiag(sns.scatterplot)\n",
    "#g.add_legend();"
   ]
  },
  {
   "cell_type": "code",
   "execution_count": null,
   "id": "8f26aeba-2906-4013-8257-ed6d22fedd09",
   "metadata": {},
   "outputs": [],
   "source": [
    "car_prices_df[\"make\"].value_counts()"
   ]
  },
  {
   "cell_type": "code",
   "execution_count": null,
   "id": "74846993-b185-4ef7-b529-d122f3041ca9",
   "metadata": {},
   "outputs": [],
   "source": [
    "ford_chev_df = car_prices_df[car_prices_df['make'].isin(['Ford', 'Chevrolet'])]\n",
    "\n",
    "# Create a FacetGrid\n",
    "g = sns.FacetGrid(ford_chev_df, col=\"make\", hue=\"odometer\", palette=\"Set1\", height=5)\n",
    "\n",
    "# Map the scatter plot to the grid\n",
    "g.map(sns.scatterplot, \"sellingprice\", \"make\", alpha=.7)\n",
    "\n",
    "# Add legend\n",
    "g.add_legend(title='Smoker')\n",
    "\n",
    "# Show the plot\n",
    "plt.show()"
   ]
  },
  {
   "cell_type": "code",
   "execution_count": null,
   "id": "2d8389d5-fdfd-449e-9736-1fe577d09efa",
   "metadata": {},
   "outputs": [],
   "source": [
    "#non_luxury_cars = ['make'][\"Kia\", \"Volvo\", \"Nissan\", \"Chevrolet\", \"Ford\", \"Hyundai\", \"Buick\", \"Acura\", \"jeep\",\n",
    "                #  \"Mitsubishi\", \"Mazda\", \"Volkswagen\", \"Toyota\", \"Subaru\", \"Scion\", \"Dodge\", \"FIAT\", \n",
    "                #  \"Chrysler\", \"ford\", \"Honda\", \"GMC\", \"mitsubishi\", \"smart\", \"Ram\", \"chevrolet\", \"pontiac\",\n",
    "                 # \"pontiac\", \"chrysler\", \"Saturn\", \"Mercury\", \"mazda\", \"toyota\", \"gmc truck\", \"honda\", \"nissan\",\n",
    "                #  \"Saab\", \"Suzuki\", \"dodge\", \"subaru\", \"Oldsmobile\", \"oldsmobile\", \"hyundai\", \"jeep\", \"Isuzu\", \n",
    "                #  \"dodge tk\", \"Geo\", \"acura\", \"volskwagen\", \"suzuki\", \"kia\", \"gmc\", \"mazda tk\", \"vw\", \"Daewoo\",\n",
    "                #  \"chev truck\", \"ford tk\", \"plymouth\", \"plymouth\", \"ford tuck\", \"airstream\", \"dot\"]\n",
    "#luxury_car = ['make'] [\"BMW\", \"Audi\", \"Cadillac\", \"Lexus\", \"Mercedes-Benz\", \"Lexus\", \"Infiniti\", \n",
    "                  # \"Landrover\", \"MINI\", \"Lincoln\", \"lincoln\", \"Jaguar\", \"porsche\", \"Ferrari\", \n",
    "                 #  \"Bentley\", \"Maserati\", \"HUMMER\", \"Rolls-Royce\", \"Tesla\", \"Aston Martin\", \n",
    "                 #  \"Lamborghini\", \"Fisker\", \"Lotus\", \"bmw\", \"maserati\", \"landrover\", \"cadillac\", \n",
    "                  # \"mercedes\", \"lexus\", \"porsche\", \"mercedes-b\"]"
   ]
  },
  {
   "cell_type": "code",
   "execution_count": null,
   "id": "d93a7b9a-5fe0-423e-984d-955778177450",
   "metadata": {},
   "outputs": [],
   "source": [
    "#luxury_cars['luxury_category'] = 'Luxury'\n",
    "#non_luxury_cars['luxury_category'] = 'Non-Luxury'\n",
    "\n",
    "# Concatenate the DataFrames\n",
    "#combined_df = pd.concat([luxury_cars, non_luxury_cars])\n",
    "\n",
    "# Create two separate FacetGrids for luxury and non-luxury cars\n",
    "#luxury_grid = sns.FacetGrid(combined_df[combined_df['luxury_category'] == 'Luxury'], hue=\"make\")\n",
    "#luxury_grid.map(sns.scatterplot, \"odometer\", \"sellingprice\", alpha=.7)\n",
    "#luxury_grid.add_legend()\n",
    "#luxury_grid.set(title=\"Luxury Cars\")\n",
    "\n",
    "#non_luxury_grid = sns.FacetGrid(combined_df[combined_df['luxury_category'] == 'Non-Luxury'], hue=\"make\")\n",
    "#non_luxury_grid.map(sns.scatterplot, \"odometer\", \"sellingprice\", alpha=.7)\n",
    "#non_luxury_grid.add_legend()\n",
    "#non_luxury_grid.set(title=\"Non-Luxury Cars\")"
   ]
  },
  {
   "cell_type": "code",
   "execution_count": null,
   "id": "3f3f33cd-a8ae-4165-9e06-c02c23bc1e61",
   "metadata": {},
   "outputs": [],
   "source": [
    "g = sns.FacetGrid(car_prices_df, hue=\"make\")\n",
    "g.map(sns.scatterplot, \"odometer\", \"sellingprice\", alpha=.7)\n",
    "g.add_legend()\n",
    "plt.show()\n"
   ]
  },
  {
   "cell_type": "code",
   "execution_count": null,
   "id": "6f74a276-0f72-493c-883e-dc1e2d0ed05d",
   "metadata": {},
   "outputs": [],
   "source": [
    "sns.catplot(data=car_prices_df, x=\"year\", y=\"sellingprice\", kind=\"box\")\n",
    "plt.show;"
   ]
  },
  {
   "cell_type": "code",
   "execution_count": null,
   "id": "c126a33a-f0e0-4a55-8d9e-8877dbb56625",
   "metadata": {},
   "outputs": [],
   "source": [
    "#make_pp= car_prices_df.make.value_counts()[:10]\n",
    "#make_pp.index"
   ]
  },
  {
   "cell_type": "code",
   "execution_count": null,
   "id": "087d53cc-bce4-4e0c-bb31-900562792583",
   "metadata": {},
   "outputs": [],
   "source": [
    "#tencar_df.make.value_counts() , tencar_df.shape"
   ]
  },
  {
   "cell_type": "code",
   "execution_count": null,
   "id": "1f3108fc-d8e4-4508-90c5-15890cd3b673",
   "metadata": {},
   "outputs": [],
   "source": [
    "# Create a pairplot using Seaborn\n",
    "sns.pairplot(car_prices_df, x_vars=[\"sellingprice\"], y_vars=[\"mmr\", \"condition\", \"odometer\"])\n",
    "\n",
    "# Display the pairplot\n",
    "plt.show()"
   ]
  },
  {
   "cell_type": "code",
   "execution_count": null,
   "id": "c3272a7b-cabb-4274-a019-b1abb3d01378",
   "metadata": {},
   "outputs": [],
   "source": [
    "# Create a pairplot using the variables \"interior\" and \"color\" using Seaborn\n",
    "sns.pairplot(car_prices_df, x_vars=[\"sellingprice\"], y_vars=[\"color\", \"interior\"], hue=\"transmission\", markers=\"o\")\n",
    "\n",
    "#Display the pairplot\n",
    "plt.show()"
   ]
  },
  {
   "cell_type": "code",
   "execution_count": null,
   "id": "f64aa5d0-8bca-4af9-a390-4463152b86e7",
   "metadata": {},
   "outputs": [],
   "source": [
    "sns.countplot (x=\"transmission\", data=car_prices_df)\n",
    "plt.title(\"Transmission Types\")\n",
    "plt.show;"
   ]
  },
  {
   "cell_type": "code",
   "execution_count": null,
   "id": "9f711a62-6583-4631-ab5a-299931d0afd3",
   "metadata": {},
   "outputs": [],
   "source": [
    "# Create a pairplot using the variables \"make\" using Seaborn\n",
    "sns.pairplot(car_prices_df, x_vars=[\"sellingprice\"], y_vars=[\"make\"], hue=\"odometer\", markers=\"o\")\n",
    "#Display the pairplot\n",
    "plt.show()\n",
    "\n",
    "#(need to fix plot for easir visibility)"
   ]
  },
  {
   "cell_type": "markdown",
   "id": "7a99774b-810c-417a-b18e-0bbb3ae04c68",
   "metadata": {},
   "source": [
    "### Preprocessing the Data"
   ]
  },
  {
   "cell_type": "code",
   "execution_count": null,
   "id": "7b88bcec-14b2-4170-b2c9-0861123442e1",
   "metadata": {},
   "outputs": [],
   "source": [
    "categorical_df = car_prices_df[['make', 'body','model','trim','transmission','state',\n",
    "                       'color','interior','seller']]"
   ]
  },
  {
   "cell_type": "code",
   "execution_count": null,
   "id": "ad7bc100-9f22-42cc-8d75-fb40c96fe042",
   "metadata": {},
   "outputs": [],
   "source": [
    "cat_encoder = LabelEncoder()"
   ]
  },
  {
   "cell_type": "code",
   "execution_count": null,
   "id": "23b85500-b03f-4fe4-be4b-955f4c185f3d",
   "metadata": {},
   "outputs": [],
   "source": [
    "for i in categorical_df.columns:\n",
    "    if categorical_df[i].dtype =='object':\n",
    "        categorical_df[i] = cat_encoder.fit_transform(categorical_df[i])"
   ]
  },
  {
   "cell_type": "code",
   "execution_count": null,
   "id": "eb55d16b-7f99-4eb6-819f-2e6d11a9c9bd",
   "metadata": {},
   "outputs": [],
   "source": [
    "Create the VIF dataframe\n",
    "vif_data = pd.DataFrame() \n",
    "vif_data[\"feature\"] = cat_encoder.columns \n",
    "\n",
    "Calculate VIF for each feature \n",
    "vif_data[\"VIF\"] = [variance_inflation_factor(cat_encoder.values, i) \n",
    "                   for i in range(len(cat_encoder.columns))] \n",
    "\n",
    "print(vif_data) -(encoder form sklearn)"
   ]
  },
  {
   "cell_type": "code",
   "execution_count": null,
   "id": "8d014732-fee7-45c5-98a1-1d337b94b956",
   "metadata": {},
   "outputs": [],
   "source": [
    "# Converting 'year' to categorical data type and creating 'year_codes'\n",
    "car_prices_df['year'] = car_prices_df['year'].astype('category')\n",
    "\n",
    "# Create a new column and assign numerical values to each category\n",
    "car_prices_df['year_codes'] = car_prices_df['year'].cat.codes + 1\n",
    "\n",
    "#car_prices_df['year'] = car_prices_df['year'].astype('category')\n",
    "\n",
    "# Create a mapping between original 'year' values and numerical codes\n",
    "#year_mapping = {year: code + 1 for code, year in enumerate(car_prices_df['year'].cat.categories)}\n",
    "\n",
    "# Apply the mapping to create a new column 'year_codes'\n",
    "#car_prices_df['year_codes'] = car_prices_df['year'].map(year_mapping)"
   ]
  },
  {
   "cell_type": "code",
   "execution_count": null,
   "id": "864d6dcd-bcb0-47ab-a4a6-b0944326be40",
   "metadata": {},
   "outputs": [],
   "source": [
    "car_prices_df = car_prices_df.drop(columns=['vin','seller',], axis=1)\n",
    "car_prices_df.dropna(inplace=True)\n",
    "\n",
    "# Review the DataFrame\n",
    "car_prices_df.head()"
   ]
  },
  {
   "cell_type": "code",
   "execution_count": null,
   "id": "fade4285-5369-49eb-b2ea-8a0617151f7a",
   "metadata": {},
   "outputs": [],
   "source": [
    "make_pp= car_prices_df.make.value_counts()[:10]\n",
    "make_pp.index\n"
   ]
  },
  {
   "cell_type": "code",
   "execution_count": null,
   "id": "583c0c0e-1f6f-470c-a472-37911c2f4fea",
   "metadata": {},
   "outputs": [],
   "source": [
    "tencar_df= car_prices_df[car_prices_df['make'].isin(make_pp.index)]"
   ]
  },
  {
   "cell_type": "code",
   "execution_count": null,
   "id": "d8b11874-19e5-42e5-90a2-f320faa30bed",
   "metadata": {},
   "outputs": [],
   "source": [
    "tencar_df.make.value_counts() , tencar_df.shape"
   ]
  },
  {
   "cell_type": "code",
   "execution_count": null,
   "id": "d8ba9315-a275-4f2f-a21a-0220e05efd59",
   "metadata": {},
   "outputs": [],
   "source": [
    "tencar_df.isna().sum()"
   ]
  },
  {
   "cell_type": "code",
   "execution_count": null,
   "id": "e630d77a-bf7e-45fa-ba53-935f06ed6eb5",
   "metadata": {},
   "outputs": [],
   "source": [
    "tencar_df = tencar_df[['year','make','model','trim','transmission','state','condition','odometer','color','interior','mmr','sellingprice']]\n",
    "   "
   ]
  },
  {
   "cell_type": "code",
   "execution_count": null,
   "id": "6da295a5-c994-48da-a389-3df0073e0519",
   "metadata": {},
   "outputs": [],
   "source": [
    "tencar_df.duplicated().sum()"
   ]
  },
  {
   "cell_type": "code",
   "execution_count": null,
   "id": "f5ab9d17-36a5-46c2-9a80-9a589669bfc0",
   "metadata": {},
   "outputs": [],
   "source": [
    "tencar_df.head()"
   ]
  },
  {
   "cell_type": "code",
   "execution_count": null,
   "id": "0ac3bfb8-90ab-448b-89bf-a39b8b6eb4d6",
   "metadata": {},
   "outputs": [],
   "source": [
    "plt.figure(figsize=(7, 5))\n",
    "sns.heatmap(tencar_df.corr(), annot=True, fmt='.2f', cmap='gist_heat', linewidths=1, vmin=-1, vmax=1)\n",
    "plt.title('Correlation Heatmap')\n",
    "\n",
    "plt.show()"
   ]
  },
  {
   "cell_type": "code",
   "execution_count": null,
   "id": "917536d6-3177-4f6c-90f2-152563c7f6e9",
   "metadata": {},
   "outputs": [],
   "source": [
    "cat_encoder = LabelEncoder()"
   ]
  },
  {
   "cell_type": "code",
   "execution_count": null,
   "id": "8319a3f7-efb9-4bd5-80e0-ebea57f82eec",
   "metadata": {},
   "outputs": [],
   "source": [
    "for i in tencar_df.columns:\n",
    "    if tencar_df[i].dtype =='object':\n",
    "        tencar_df[i] = cat_encoder.fit_transform(tencar_df[i])"
   ]
  },
  {
   "cell_type": "code",
   "execution_count": null,
   "id": "1567c601-7565-4c92-a706-5ce6b1470aeb",
   "metadata": {},
   "outputs": [],
   "source": [
    "tencar_df.head()"
   ]
  },
  {
   "cell_type": "markdown",
   "id": "fbcd3776-b029-42b8-8c55-fd57756ee50e",
   "metadata": {},
   "source": [
    "## Machine Learning "
   ]
  },
  {
   "cell_type": "markdown",
   "id": "fdf55be1-638c-4c3a-b22a-2f2900476a41",
   "metadata": {},
   "source": [
    "#### Step 1: separate target and feature variables, Split DataFrame, Create Scaler "
   ]
  },
  {
   "cell_type": "code",
   "execution_count": null,
   "id": "aeb7fc01-3eea-478c-91ae-81ed1f409b59",
   "metadata": {},
   "outputs": [],
   "source": [
    "# Separate the y variable, the target\n",
    "y = tencar_df[\"sellingprice\"]\n",
    "\n",
    "# Separate the X variable, the features\n",
    "X = tencar_df.drop(columns=\"sellingprice\")"
   ]
  },
  {
   "cell_type": "code",
   "execution_count": null,
   "id": "c2aadabd-b7d6-4b4e-9167-36db2ef8f969",
   "metadata": {},
   "outputs": [],
   "source": [
    "# Split the DataFrame using train_test_split\n",
    "# Assign a random_state of 42 to the function\n",
    "xtrain,xtest,ytrain,ytest = train_test_split(X,y,test_size=0.3,shuffle=True,random_state=42)"
   ]
  },
  {
   "cell_type": "code",
   "execution_count": null,
   "id": "f0fcfaaf-675a-4611-93a6-7744b0e295b4",
   "metadata": {},
   "outputs": [],
   "source": [
    "xtrain.shape, ytrain.shape"
   ]
  },
  {
   "cell_type": "code",
   "execution_count": null,
   "id": "4b6d33f0-faec-43fb-9bbb-2bfce2dd280d",
   "metadata": {},
   "outputs": [],
   "source": [
    "scaler = MinMaxScaler()"
   ]
  },
  {
   "cell_type": "code",
   "execution_count": null,
   "id": "00a02ffa-a539-4647-84b8-804bf6144fb4",
   "metadata": {},
   "outputs": [],
   "source": [
    "X= tencar_df.iloc[:,:-1]\n",
    "y= tencar_df.iloc[:,-1]"
   ]
  },
  {
   "cell_type": "code",
   "execution_count": null,
   "id": "dbb9ae6b-33a9-4cc5-97a9-6bb92c9fb52a",
   "metadata": {},
   "outputs": [],
   "source": [
    "y"
   ]
  },
  {
   "cell_type": "code",
   "execution_count": null,
   "id": "14560050-5a5b-425c-a6d2-fd297265c8f9",
   "metadata": {},
   "outputs": [],
   "source": [
    "for i in X.columns:\n",
    "    X[i] = scaler.fit_transform(np.array(X[i]).reshape(-1,1))"
   ]
  },
  {
   "cell_type": "code",
   "execution_count": null,
   "id": "edb8bf75-cc1a-4698-bc0f-b6f8301175e4",
   "metadata": {},
   "outputs": [],
   "source": [
    "X"
   ]
  },
  {
   "cell_type": "markdown",
   "id": "e460c222-9420-458f-ba84-29796ed4486c",
   "metadata": {},
   "source": [
    "#### Lasso Regression"
   ]
  },
  {
   "cell_type": "code",
   "execution_count": null,
   "id": "cfcb9192-6d5f-412a-a563-bed20713fcdd",
   "metadata": {},
   "outputs": [],
   "source": [
    "lasso_model = Lasso(alpha=0.1)"
   ]
  },
  {
   "cell_type": "code",
   "execution_count": null,
   "id": "922d20e7-4040-43cb-9ad1-d16459497c55",
   "metadata": {},
   "outputs": [],
   "source": [
    "lasso_model.fit(xtrain,ytrain)"
   ]
  },
  {
   "cell_type": "code",
   "execution_count": null,
   "id": "756334e0-d669-4a3f-95f4-cbf994fa69ef",
   "metadata": {},
   "outputs": [],
   "source": [
    "pred=lasso_model.predict(xtest)"
   ]
  },
  {
   "cell_type": "code",
   "execution_count": null,
   "id": "8a9ec82d-beee-4bc1-8e85-c52a9bd43bd0",
   "metadata": {},
   "outputs": [],
   "source": [
    "msre = round(np.sqrt(mean_squared_error(ytest,pred)),2)\n",
    "msre"
   ]
  },
  {
   "cell_type": "code",
   "execution_count": null,
   "id": "2a5af471-d744-41e5-bd17-448b75003667",
   "metadata": {},
   "outputs": [],
   "source": [
    "mean_squared_error(ytest,pred)"
   ]
  },
  {
   "cell_type": "code",
   "execution_count": null,
   "id": "551c17a3-a3f3-454b-b3a5-dba2cef4035d",
   "metadata": {},
   "outputs": [],
   "source": [
    "lasso_model.coef_"
   ]
  },
  {
   "cell_type": "code",
   "execution_count": null,
   "id": "af651abb-091c-4812-9b05-c7453cc15553",
   "metadata": {},
   "outputs": [],
   "source": [
    "lasso_model.intercept_"
   ]
  },
  {
   "cell_type": "code",
   "execution_count": null,
   "id": "3830884a-c437-43c1-b94f-ee6823b7fcb2",
   "metadata": {},
   "outputs": [],
   "source": [
    "r2_score(ytest,pred)"
   ]
  },
  {
   "cell_type": "code",
   "execution_count": null,
   "id": "14be1600-66ec-4742-93e3-214bea147914",
   "metadata": {},
   "outputs": [],
   "source": [
    "param = {'alpha' :[1e-15,1e-10,1e-8,1e-3,1e-2,1,5,10,20,30,40,50,100, 1000, 10000]}"
   ]
  },
  {
   "cell_type": "code",
   "execution_count": null,
   "id": "db29534f-d99d-4f04-a822-eccfb43261c4",
   "metadata": {},
   "outputs": [],
   "source": [
    "lasso_twocv= GridSearchCV(lasso_model, param, cv=3, n_jobs=1)"
   ]
  },
  {
   "cell_type": "code",
   "execution_count": null,
   "id": "d08922d0-de56-4562-a797-7cf4d3b265e4",
   "metadata": {},
   "outputs": [],
   "source": [
    "lasso_twocv.fit(xtrain, ytrain)"
   ]
  },
  {
   "cell_type": "code",
   "execution_count": null,
   "id": "84fa858d-5717-4ef1-8390-d2606037e94b",
   "metadata": {},
   "outputs": [],
   "source": [
    "pred_two= lasso_twocv.predict(xtest)"
   ]
  },
  {
   "cell_type": "code",
   "execution_count": null,
   "id": "77533999-614f-4dfa-82e8-a10fb52e744d",
   "metadata": {},
   "outputs": [],
   "source": [
    "mean_absolute_error(ytest, pred_two)"
   ]
  },
  {
   "cell_type": "code",
   "execution_count": null,
   "id": "e57b3100-024f-4e0c-9c4d-22d6bdcf7e9e",
   "metadata": {},
   "outputs": [],
   "source": [
    "mean_squared_error(ytest, pred_two)"
   ]
  },
  {
   "cell_type": "code",
   "execution_count": null,
   "id": "ce2dfc2f-7da4-49d7-963c-a863f69036fa",
   "metadata": {},
   "outputs": [],
   "source": [
    "r2_score(ytest, pred_two)"
   ]
  },
  {
   "cell_type": "code",
   "execution_count": null,
   "id": "ec381392-0def-4564-9bd1-31f0180b3d16",
   "metadata": {},
   "outputs": [],
   "source": [
    "lasso_twocv.best_estimator_"
   ]
  },
  {
   "cell_type": "code",
   "execution_count": null,
   "id": "dbfa84dc-d056-4749-80c2-cdc760ada644",
   "metadata": {},
   "outputs": [],
   "source": [
    "lass_two = Lasso(alpha=10000)"
   ]
  },
  {
   "cell_type": "code",
   "execution_count": null,
   "id": "989722a4-fdb2-4460-a581-402a61a73624",
   "metadata": {},
   "outputs": [],
   "source": [
    "lass_two.fit(xtrain, ytrain)"
   ]
  },
  {
   "cell_type": "code",
   "execution_count": null,
   "id": "e354610a-42b5-4505-8017-b39523945341",
   "metadata": {},
   "outputs": [],
   "source": [
    "lass_two.intercept_"
   ]
  },
  {
   "cell_type": "code",
   "execution_count": null,
   "id": "7eaa5fd6-45d0-479f-bfc5-3ce21e0befcb",
   "metadata": {},
   "outputs": [],
   "source": [
    "lass_two.coef_"
   ]
  },
  {
   "cell_type": "code",
   "execution_count": null,
   "id": "65cd4f95-3839-4113-a126-d0b42ebef8d5",
   "metadata": {},
   "outputs": [],
   "source": [
    "coef_dict={}\n",
    "for coef, feat in zip(lasso_model.coef_,X.columns):\n",
    "    coef_dict[feat] = coef\n",
    "coef_dict"
   ]
  },
  {
   "cell_type": "code",
   "execution_count": null,
   "id": "61664a66-173e-4351-aa9c-002a846018f0",
   "metadata": {},
   "outputs": [],
   "source": [
    "predict_lasso = lass_two.predict(xtest)"
   ]
  },
  {
   "cell_type": "code",
   "execution_count": null,
   "id": "4db1c811-65f3-4d18-b4f2-7664348f291a",
   "metadata": {},
   "outputs": [],
   "source": [
    "coef_names = tencar_df.drop('sellingprice',axis=1).columns\n",
    "\n",
    "print(coef_names)"
   ]
  },
  {
   "cell_type": "code",
   "execution_count": null,
   "id": "b0d66fbd-f8ba-42cb-b63f-1aded2acb7a1",
   "metadata": {},
   "outputs": [],
   "source": [
    "lasso = Lasso(alpha=100)\n",
    "lasso_coef = lasso.fit(X, y).coef_\n",
    "\n",
    "plt.plot(range(len(coef_names)), lasso_coef)\n",
    "plt.xticks(range(len(coef_names)), coef_names, rotation=90)\n",
    "plt.ylabel(\"Coefficients\")\n",
    "plt.show()"
   ]
  },
  {
   "cell_type": "markdown",
   "id": "87b4bb0a-1353-43ac-aff6-67fcc0ff633c",
   "metadata": {},
   "source": [
    "#### Linear Regression"
   ]
  },
  {
   "cell_type": "code",
   "execution_count": null,
   "id": "3eb9b1b4-d16d-4e87-9251-5e210dd92478",
   "metadata": {},
   "outputs": [],
   "source": [
    "linreg = LinearRegression()\n",
    "linreg.fit(X_train, y_train)\n",
    "linreg_pred = linreg.predict(X_test)"
   ]
  },
  {
   "cell_type": "code",
   "execution_count": null,
   "id": "75ff5dce-6c57-4cf8-8aca-8015a298287e",
   "metadata": {},
   "outputs": [],
   "source": [
    "linreg_mae = mean_absolute_error(y_test, linreg_pred)\n",
    "linreg_r2 = r2_score(y_test, linreg_pred)\n",
    "print(\"Mean Absolute Error of linear regression model is:\", linreg_mae)\n",
    "print(\"R2 score of linear regression model is:\", linreg_r2)"
   ]
  },
  {
   "cell_type": "code",
   "execution_count": null,
   "id": "7184400f-767f-4217-bd4a-91e6255ece41",
   "metadata": {},
   "outputs": [],
   "source": [
    "linreg_score = cross_val_score(linreg, X_test, y_test, cv=4)\n"
   ]
  },
  {
   "cell_type": "code",
   "execution_count": null,
   "id": "5d7399ef-b6af-402e-bbf5-e2859060acf7",
   "metadata": {},
   "outputs": [],
   "source": [
    "tencar_df.describe()"
   ]
  },
  {
   "cell_type": "code",
   "execution_count": null,
   "id": "5d2b35a3-805c-4da6-849f-d277fc993846",
   "metadata": {},
   "outputs": [],
   "source": [
    "# go back into preprocessing -normalize that data to remove skewness "
   ]
  },
  {
   "cell_type": "code",
   "execution_count": null,
   "id": "f6587fc4-b2de-4e3c-9b9a-e1766281ae33",
   "metadata": {},
   "outputs": [],
   "source": [
    "residuals = y_train - y_test\n",
    "\n",
    "# Residual plot\n",
    "plt.figure(figsize=(8, 6))\n",
    "sns.scatterplot(x=y_test, y=residuals)\n",
    "plt.axhline(y=0, color='red', linestyle='--', linewidth=2)\n",
    "plt.title(\"Residual Plot\")\n",
    "plt.xlabel(\"Predicted Values\")\n",
    "plt.ylabel(\"Residuals\")\n",
    "plt.show()"
   ]
  },
  {
   "cell_type": "markdown",
   "id": "0dd2ffbe-2ada-4187-9520-a8d109a7758d",
   "metadata": {},
   "source": [
    "### Principal Component Analysis "
   ]
  },
  {
   "cell_type": "code",
   "execution_count": null,
   "id": "40fd9a43-4db6-4077-8db8-8845427a2844",
   "metadata": {},
   "outputs": [],
   "source": []
  },
  {
   "cell_type": "code",
   "execution_count": null,
   "id": "096eaebb-9ae2-46de-b675-5cd2ebd419ad",
   "metadata": {},
   "outputs": [],
   "source": [
    "## if we had more time things we could look into \n",
    "#which states had the best selling prices/\n",
    "#which seller had the lowest/highest selling prices"
   ]
  }
 ],
 "metadata": {
  "kernelspec": {
   "display_name": "Python 3 (ipykernel)",
   "language": "python",
   "name": "python3"
  },
  "language_info": {
   "codemirror_mode": {
    "name": "ipython",
    "version": 3
   },
   "file_extension": ".py",
   "mimetype": "text/x-python",
   "name": "python",
   "nbconvert_exporter": "python",
   "pygments_lexer": "ipython3",
   "version": "3.10.13"
  }
 },
 "nbformat": 4,
 "nbformat_minor": 5
}
