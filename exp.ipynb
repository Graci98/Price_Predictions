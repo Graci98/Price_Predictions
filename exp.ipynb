{
 "cells": [
  {
   "cell_type": "code",
   "execution_count": 52,
   "id": "23093433-43ad-42a2-a375-ecee15b039bc",
   "metadata": {
    "tags": []
   },
   "outputs": [],
   "source": [
    "# Import the required libraries\n",
    "import pandas as pd\n",
    "from pathlib import Path\n",
    "import hvplot.pandas\n",
    "import numpy as np\n",
    "import matplotlib.pyplot as plt\n",
    "import seaborn as sns\n",
    "from sklearn import metrics, model_selection\n",
    "from sklearn.model_selection import train_test_split, GridSearchCV, KFold\n",
    "from sklearn.preprocessing import StandardScaler, LabelEncoder, MinMaxScaler\n",
    "from sklearn.linear_model import Lasso, LinearRegression\n",
    "from sklearn.metrics import mean_squared_error,r2_score, mean_absolute_error\n",
    "import pickle\n",
    "import warnings\n",
    "warnings.filterwarnings('ignore')"
   ]
  },
  {
   "cell_type": "code",
   "execution_count": 53,
   "id": "3ad35c91-c399-4841-83f1-635180ff931f",
   "metadata": {
    "tags": []
   },
   "outputs": [],
   "source": [
    "car_data= pd.read_csv(Path(\"./Resources/car_prices.csv\"))"
   ]
  },
  {
   "cell_type": "code",
   "execution_count": 54,
   "id": "36ec84ac-f1f0-448f-a6b6-7165ffaffc76",
   "metadata": {
    "tags": []
   },
   "outputs": [],
   "source": [
    "car_data.dropna(subset=['transmission'])\n",
    "car_data = car_data.dropna()\n",
    "car_data['state'] = car_data['state'].str.upper()"
   ]
  },
  {
   "cell_type": "code",
   "execution_count": 55,
   "id": "8081eb4e-76bf-48e2-b03f-9e8621fe5c49",
   "metadata": {
    "tags": []
   },
   "outputs": [
    {
     "data": {
      "text/plain": [
       "year            0.0\n",
       "make            0.0\n",
       "model           0.0\n",
       "trim            0.0\n",
       "body            0.0\n",
       "transmission    0.0\n",
       "vin             0.0\n",
       "state           0.0\n",
       "condition       0.0\n",
       "odometer        0.0\n",
       "color           0.0\n",
       "interior        0.0\n",
       "seller          0.0\n",
       "mmr             0.0\n",
       "sellingprice    0.0\n",
       "saledate        0.0\n",
       "dtype: float64"
      ]
     },
     "execution_count": 55,
     "metadata": {},
     "output_type": "execute_result"
    }
   ],
   "source": [
    "# Check for Null Values\n",
    "car_data.isnull().mean()*100"
   ]
  },
  {
   "cell_type": "code",
   "execution_count": 56,
   "id": "1bb453c9-bbc4-41e1-a5ea-55a1bf51cee4",
   "metadata": {
    "tags": []
   },
   "outputs": [],
   "source": [
    "#converts the 'saledate' column to a datetime format and localizes it to UTC\n",
    "car_data['saledate'] = pd.to_datetime(car_data['saledate'], utc=True)\n",
    "car_data['saledate'] = car_data['saledate'].dt.tz_convert('UTC')\n",
    "\n",
    "car_data['year'] = pd.to_datetime(car_data['year'], format='%Y')\n",
    "\n",
    "# Create a new variable for vehicle age\n",
    "car_data['vehicleage'] = pd.to_datetime(car_data['saledate']).dt.year - car_data['year'].dt.year\n"
   ]
  },
  {
   "cell_type": "code",
   "execution_count": 57,
   "id": "e70f543d-2661-4f98-9ebf-d07ea991ff05",
   "metadata": {
    "tags": []
   },
   "outputs": [],
   "source": [
    "make_price= car_data.make.value_counts()[:15]\n",
    "make_price.index\n",
    "make_df= car_data[car_data['make'].isin(make_price.index)]"
   ]
  },
  {
   "cell_type": "code",
   "execution_count": 58,
   "id": "f3d463bd-b494-40d0-9f70-3efa8c609bbf",
   "metadata": {
    "tags": []
   },
   "outputs": [
    {
     "data": {
      "text/html": [
       "<div>\n",
       "<style scoped>\n",
       "    .dataframe tbody tr th:only-of-type {\n",
       "        vertical-align: middle;\n",
       "    }\n",
       "\n",
       "    .dataframe tbody tr th {\n",
       "        vertical-align: top;\n",
       "    }\n",
       "\n",
       "    .dataframe thead th {\n",
       "        text-align: right;\n",
       "    }\n",
       "</style>\n",
       "<table border=\"1\" class=\"dataframe\">\n",
       "  <thead>\n",
       "    <tr style=\"text-align: right;\">\n",
       "      <th></th>\n",
       "      <th>year</th>\n",
       "      <th>make</th>\n",
       "      <th>model</th>\n",
       "      <th>state</th>\n",
       "      <th>condition</th>\n",
       "      <th>odometer</th>\n",
       "      <th>color</th>\n",
       "      <th>mmr</th>\n",
       "      <th>sellingprice</th>\n",
       "      <th>vehicleage</th>\n",
       "    </tr>\n",
       "  </thead>\n",
       "  <tbody>\n",
       "    <tr>\n",
       "      <th>0</th>\n",
       "      <td>2015-01-01</td>\n",
       "      <td>Kia</td>\n",
       "      <td>Sorento</td>\n",
       "      <td>CA</td>\n",
       "      <td>5.0</td>\n",
       "      <td>16639.0</td>\n",
       "      <td>white</td>\n",
       "      <td>20500.0</td>\n",
       "      <td>21500.0</td>\n",
       "      <td>-1</td>\n",
       "    </tr>\n",
       "    <tr>\n",
       "      <th>1</th>\n",
       "      <td>2015-01-01</td>\n",
       "      <td>Kia</td>\n",
       "      <td>Sorento</td>\n",
       "      <td>CA</td>\n",
       "      <td>5.0</td>\n",
       "      <td>9393.0</td>\n",
       "      <td>white</td>\n",
       "      <td>20800.0</td>\n",
       "      <td>21500.0</td>\n",
       "      <td>-1</td>\n",
       "    </tr>\n",
       "    <tr>\n",
       "      <th>2</th>\n",
       "      <td>2014-01-01</td>\n",
       "      <td>BMW</td>\n",
       "      <td>3 Series</td>\n",
       "      <td>CA</td>\n",
       "      <td>45.0</td>\n",
       "      <td>1331.0</td>\n",
       "      <td>gray</td>\n",
       "      <td>31900.0</td>\n",
       "      <td>30000.0</td>\n",
       "      <td>1</td>\n",
       "    </tr>\n",
       "  </tbody>\n",
       "</table>\n",
       "</div>"
      ],
      "text/plain": [
       "        year make     model state  condition  odometer  color      mmr  \\\n",
       "0 2015-01-01  Kia   Sorento    CA        5.0   16639.0  white  20500.0   \n",
       "1 2015-01-01  Kia   Sorento    CA        5.0    9393.0  white  20800.0   \n",
       "2 2014-01-01  BMW  3 Series    CA       45.0    1331.0   gray  31900.0   \n",
       "\n",
       "   sellingprice  vehicleage  \n",
       "0       21500.0          -1  \n",
       "1       21500.0          -1  \n",
       "2       30000.0           1  "
      ]
     },
     "execution_count": 58,
     "metadata": {},
     "output_type": "execute_result"
    }
   ],
   "source": [
    "make_df=make_df.drop(columns=['vin','saledate','seller','trim', 'interior', 'body', 'transmission'], axis=1)\n",
    "make_df.head(3)"
   ]
  },
  {
   "cell_type": "code",
   "execution_count": 59,
   "id": "a313ab53-3e6c-493d-ae4c-6498cbb5f1e7",
   "metadata": {
    "tags": []
   },
   "outputs": [],
   "source": [
    "encoder = LabelEncoder()"
   ]
  },
  {
   "cell_type": "code",
   "execution_count": 84,
   "id": "aa6cc5a3-1084-4eb8-abff-fea93d9e777a",
   "metadata": {
    "tags": []
   },
   "outputs": [],
   "source": [
    "# object_columns = [i for i in make_df.columns if make_df[i].dtype == \"object\" ]"
   ]
  },
  {
   "cell_type": "code",
   "execution_count": 119,
   "id": "eb72b8a8-439c-46da-9079-70015fbdc620",
   "metadata": {
    "tags": []
   },
   "outputs": [],
   "source": [
    "for  i in object_columns:\n",
    "    make_df[i] = encoder.fit_transform(make_df[i])\n",
    "    with open(\"encoder_\"+str(i)+\".pkl\", 'wb') as encoder_file:\n",
    "        pickle.dump(encoder, encoder_file)"
   ]
  },
  {
   "cell_type": "code",
   "execution_count": 120,
   "id": "0f6d2681-2553-438e-a23f-ed15e211f967",
   "metadata": {
    "tags": []
   },
   "outputs": [
    {
     "data": {
      "text/plain": [
       "Index(['year', 'make', 'model', 'state', 'condition', 'odometer', 'color',\n",
       "       'mmr', 'sellingprice', 'vehicleage'],\n",
       "      dtype='object')"
      ]
     },
     "execution_count": 120,
     "metadata": {},
     "output_type": "execute_result"
    }
   ],
   "source": [
    "make_df.columns"
   ]
  },
  {
   "cell_type": "code",
   "execution_count": 121,
   "id": "84469bd9-9ea9-413c-a11f-e7af3b5b7560",
   "metadata": {
    "tags": []
   },
   "outputs": [],
   "source": [
    "X= make_df.drop(columns='sellingprice')\n",
    "y= make_df['sellingprice']"
   ]
  },
  {
   "cell_type": "code",
   "execution_count": 122,
   "id": "ea24c2be-21f3-46aa-ae6b-f7a66b67532f",
   "metadata": {
    "tags": []
   },
   "outputs": [],
   "source": [
    "# X= make_df.drop(columns=\"sellingprice\")\n",
    "# y= make_df[\"sellingprice\"]"
   ]
  },
  {
   "cell_type": "code",
   "execution_count": 123,
   "id": "120de2b3-4382-4e59-91f6-4e7d72200713",
   "metadata": {
    "tags": []
   },
   "outputs": [],
   "source": [
    "scaler = MinMaxScaler()"
   ]
  },
  {
   "cell_type": "code",
   "execution_count": 124,
   "id": "98c671b4-daf3-47db-8397-b04a6d718023",
   "metadata": {
    "tags": []
   },
   "outputs": [],
   "source": [
    "for i in X.columns:\n",
    "    X[i] = scaler.fit_transform(np.array(X[i]).reshape(-1,1))\n",
    "    with open(str(i)+\"_scaler.pkl\",'wb') as scaler_file:\n",
    "        pickle.dump(scaler, scaler_file) "
   ]
  },
  {
   "cell_type": "code",
   "execution_count": 125,
   "id": "c9551bec-fed0-40fd-aa10-b47ace17d968",
   "metadata": {
    "tags": []
   },
   "outputs": [
    {
     "data": {
      "text/plain": [
       "((336220, 9), (336220,))"
      ]
     },
     "execution_count": 125,
     "metadata": {},
     "output_type": "execute_result"
    }
   ],
   "source": [
    "xtrain,xtest,ytrain,ytest = train_test_split(X,y,test_size=0.15,random_state=1)\n",
    "xtrain.shape, ytrain.shape"
   ]
  },
  {
   "cell_type": "code",
   "execution_count": 126,
   "id": "7447a18d-b613-4235-a01c-9d0345c454a1",
   "metadata": {
    "tags": []
   },
   "outputs": [
    {
     "data": {
      "text/html": [
       "<style>#sk-container-id-11 {color: black;}#sk-container-id-11 pre{padding: 0;}#sk-container-id-11 div.sk-toggleable {background-color: white;}#sk-container-id-11 label.sk-toggleable__label {cursor: pointer;display: block;width: 100%;margin-bottom: 0;padding: 0.3em;box-sizing: border-box;text-align: center;}#sk-container-id-11 label.sk-toggleable__label-arrow:before {content: \"▸\";float: left;margin-right: 0.25em;color: #696969;}#sk-container-id-11 label.sk-toggleable__label-arrow:hover:before {color: black;}#sk-container-id-11 div.sk-estimator:hover label.sk-toggleable__label-arrow:before {color: black;}#sk-container-id-11 div.sk-toggleable__content {max-height: 0;max-width: 0;overflow: hidden;text-align: left;background-color: #f0f8ff;}#sk-container-id-11 div.sk-toggleable__content pre {margin: 0.2em;color: black;border-radius: 0.25em;background-color: #f0f8ff;}#sk-container-id-11 input.sk-toggleable__control:checked~div.sk-toggleable__content {max-height: 200px;max-width: 100%;overflow: auto;}#sk-container-id-11 input.sk-toggleable__control:checked~label.sk-toggleable__label-arrow:before {content: \"▾\";}#sk-container-id-11 div.sk-estimator input.sk-toggleable__control:checked~label.sk-toggleable__label {background-color: #d4ebff;}#sk-container-id-11 div.sk-label input.sk-toggleable__control:checked~label.sk-toggleable__label {background-color: #d4ebff;}#sk-container-id-11 input.sk-hidden--visually {border: 0;clip: rect(1px 1px 1px 1px);clip: rect(1px, 1px, 1px, 1px);height: 1px;margin: -1px;overflow: hidden;padding: 0;position: absolute;width: 1px;}#sk-container-id-11 div.sk-estimator {font-family: monospace;background-color: #f0f8ff;border: 1px dotted black;border-radius: 0.25em;box-sizing: border-box;margin-bottom: 0.5em;}#sk-container-id-11 div.sk-estimator:hover {background-color: #d4ebff;}#sk-container-id-11 div.sk-parallel-item::after {content: \"\";width: 100%;border-bottom: 1px solid gray;flex-grow: 1;}#sk-container-id-11 div.sk-label:hover label.sk-toggleable__label {background-color: #d4ebff;}#sk-container-id-11 div.sk-serial::before {content: \"\";position: absolute;border-left: 1px solid gray;box-sizing: border-box;top: 0;bottom: 0;left: 50%;z-index: 0;}#sk-container-id-11 div.sk-serial {display: flex;flex-direction: column;align-items: center;background-color: white;padding-right: 0.2em;padding-left: 0.2em;position: relative;}#sk-container-id-11 div.sk-item {position: relative;z-index: 1;}#sk-container-id-11 div.sk-parallel {display: flex;align-items: stretch;justify-content: center;background-color: white;position: relative;}#sk-container-id-11 div.sk-item::before, #sk-container-id-11 div.sk-parallel-item::before {content: \"\";position: absolute;border-left: 1px solid gray;box-sizing: border-box;top: 0;bottom: 0;left: 50%;z-index: -1;}#sk-container-id-11 div.sk-parallel-item {display: flex;flex-direction: column;z-index: 1;position: relative;background-color: white;}#sk-container-id-11 div.sk-parallel-item:first-child::after {align-self: flex-end;width: 50%;}#sk-container-id-11 div.sk-parallel-item:last-child::after {align-self: flex-start;width: 50%;}#sk-container-id-11 div.sk-parallel-item:only-child::after {width: 0;}#sk-container-id-11 div.sk-dashed-wrapped {border: 1px dashed gray;margin: 0 0.4em 0.5em 0.4em;box-sizing: border-box;padding-bottom: 0.4em;background-color: white;}#sk-container-id-11 div.sk-label label {font-family: monospace;font-weight: bold;display: inline-block;line-height: 1.2em;}#sk-container-id-11 div.sk-label-container {text-align: center;}#sk-container-id-11 div.sk-container {/* jupyter's `normalize.less` sets `[hidden] { display: none; }` but bootstrap.min.css set `[hidden] { display: none !important; }` so we also need the `!important` here to be able to override the default hidden behavior on the sphinx rendered scikit-learn.org. See: https://github.com/scikit-learn/scikit-learn/issues/21755 */display: inline-block !important;position: relative;}#sk-container-id-11 div.sk-text-repr-fallback {display: none;}</style><div id=\"sk-container-id-11\" class=\"sk-top-container\"><div class=\"sk-text-repr-fallback\"><pre>Lasso(alpha=0.001)</pre><b>In a Jupyter environment, please rerun this cell to show the HTML representation or trust the notebook. <br />On GitHub, the HTML representation is unable to render, please try loading this page with nbviewer.org.</b></div><div class=\"sk-container\" hidden><div class=\"sk-item\"><div class=\"sk-estimator sk-toggleable\"><input class=\"sk-toggleable__control sk-hidden--visually\" id=\"sk-estimator-id-11\" type=\"checkbox\" checked><label for=\"sk-estimator-id-11\" class=\"sk-toggleable__label sk-toggleable__label-arrow\">Lasso</label><div class=\"sk-toggleable__content\"><pre>Lasso(alpha=0.001)</pre></div></div></div></div></div>"
      ],
      "text/plain": [
       "Lasso(alpha=0.001)"
      ]
     },
     "execution_count": 126,
     "metadata": {},
     "output_type": "execute_result"
    }
   ],
   "source": [
    "lasso_model = Lasso(alpha=0.001)\n",
    "lasso_model.fit(xtrain,ytrain)"
   ]
  },
  {
   "cell_type": "code",
   "execution_count": 127,
   "id": "f09fa071-6df5-4c48-8b80-eb9975930e32",
   "metadata": {
    "tags": []
   },
   "outputs": [],
   "source": [
    "pred=lasso_model.predict(xtest)"
   ]
  },
  {
   "cell_type": "code",
   "execution_count": 128,
   "id": "09666681-a869-42e8-9249-547b2b7d9f7f",
   "metadata": {
    "tags": []
   },
   "outputs": [
    {
     "data": {
      "text/plain": [
       "0.9662719300090209"
      ]
     },
     "execution_count": 128,
     "metadata": {},
     "output_type": "execute_result"
    }
   ],
   "source": [
    "r2_score(ytest,pred)"
   ]
  },
  {
   "cell_type": "code",
   "execution_count": 129,
   "id": "89f45884-d504-4bc7-846b-8369a6d9fa8d",
   "metadata": {
    "tags": []
   },
   "outputs": [],
   "source": [
    "with open(\"lasso_model.pkl\", \"wb\") as f:\n",
    "    pickle.dump(lasso_model, f)"
   ]
  },
  {
   "cell_type": "code",
   "execution_count": 130,
   "id": "8ecb92a9-6ab0-4774-815d-b12733e335bc",
   "metadata": {
    "tags": []
   },
   "outputs": [],
   "source": [
    "model = pickle.load(open('lasso_model.pkl', 'rb'))"
   ]
  },
  {
   "cell_type": "code",
   "execution_count": 131,
   "id": "2163cefb-9077-43e2-8c98-8d70d66f302b",
   "metadata": {
    "tags": []
   },
   "outputs": [
    {
     "data": {
      "text/html": [
       "<style>#sk-container-id-12 {color: black;}#sk-container-id-12 pre{padding: 0;}#sk-container-id-12 div.sk-toggleable {background-color: white;}#sk-container-id-12 label.sk-toggleable__label {cursor: pointer;display: block;width: 100%;margin-bottom: 0;padding: 0.3em;box-sizing: border-box;text-align: center;}#sk-container-id-12 label.sk-toggleable__label-arrow:before {content: \"▸\";float: left;margin-right: 0.25em;color: #696969;}#sk-container-id-12 label.sk-toggleable__label-arrow:hover:before {color: black;}#sk-container-id-12 div.sk-estimator:hover label.sk-toggleable__label-arrow:before {color: black;}#sk-container-id-12 div.sk-toggleable__content {max-height: 0;max-width: 0;overflow: hidden;text-align: left;background-color: #f0f8ff;}#sk-container-id-12 div.sk-toggleable__content pre {margin: 0.2em;color: black;border-radius: 0.25em;background-color: #f0f8ff;}#sk-container-id-12 input.sk-toggleable__control:checked~div.sk-toggleable__content {max-height: 200px;max-width: 100%;overflow: auto;}#sk-container-id-12 input.sk-toggleable__control:checked~label.sk-toggleable__label-arrow:before {content: \"▾\";}#sk-container-id-12 div.sk-estimator input.sk-toggleable__control:checked~label.sk-toggleable__label {background-color: #d4ebff;}#sk-container-id-12 div.sk-label input.sk-toggleable__control:checked~label.sk-toggleable__label {background-color: #d4ebff;}#sk-container-id-12 input.sk-hidden--visually {border: 0;clip: rect(1px 1px 1px 1px);clip: rect(1px, 1px, 1px, 1px);height: 1px;margin: -1px;overflow: hidden;padding: 0;position: absolute;width: 1px;}#sk-container-id-12 div.sk-estimator {font-family: monospace;background-color: #f0f8ff;border: 1px dotted black;border-radius: 0.25em;box-sizing: border-box;margin-bottom: 0.5em;}#sk-container-id-12 div.sk-estimator:hover {background-color: #d4ebff;}#sk-container-id-12 div.sk-parallel-item::after {content: \"\";width: 100%;border-bottom: 1px solid gray;flex-grow: 1;}#sk-container-id-12 div.sk-label:hover label.sk-toggleable__label {background-color: #d4ebff;}#sk-container-id-12 div.sk-serial::before {content: \"\";position: absolute;border-left: 1px solid gray;box-sizing: border-box;top: 0;bottom: 0;left: 50%;z-index: 0;}#sk-container-id-12 div.sk-serial {display: flex;flex-direction: column;align-items: center;background-color: white;padding-right: 0.2em;padding-left: 0.2em;position: relative;}#sk-container-id-12 div.sk-item {position: relative;z-index: 1;}#sk-container-id-12 div.sk-parallel {display: flex;align-items: stretch;justify-content: center;background-color: white;position: relative;}#sk-container-id-12 div.sk-item::before, #sk-container-id-12 div.sk-parallel-item::before {content: \"\";position: absolute;border-left: 1px solid gray;box-sizing: border-box;top: 0;bottom: 0;left: 50%;z-index: -1;}#sk-container-id-12 div.sk-parallel-item {display: flex;flex-direction: column;z-index: 1;position: relative;background-color: white;}#sk-container-id-12 div.sk-parallel-item:first-child::after {align-self: flex-end;width: 50%;}#sk-container-id-12 div.sk-parallel-item:last-child::after {align-self: flex-start;width: 50%;}#sk-container-id-12 div.sk-parallel-item:only-child::after {width: 0;}#sk-container-id-12 div.sk-dashed-wrapped {border: 1px dashed gray;margin: 0 0.4em 0.5em 0.4em;box-sizing: border-box;padding-bottom: 0.4em;background-color: white;}#sk-container-id-12 div.sk-label label {font-family: monospace;font-weight: bold;display: inline-block;line-height: 1.2em;}#sk-container-id-12 div.sk-label-container {text-align: center;}#sk-container-id-12 div.sk-container {/* jupyter's `normalize.less` sets `[hidden] { display: none; }` but bootstrap.min.css set `[hidden] { display: none !important; }` so we also need the `!important` here to be able to override the default hidden behavior on the sphinx rendered scikit-learn.org. See: https://github.com/scikit-learn/scikit-learn/issues/21755 */display: inline-block !important;position: relative;}#sk-container-id-12 div.sk-text-repr-fallback {display: none;}</style><div id=\"sk-container-id-12\" class=\"sk-top-container\"><div class=\"sk-text-repr-fallback\"><pre>Lasso(alpha=0.001)</pre><b>In a Jupyter environment, please rerun this cell to show the HTML representation or trust the notebook. <br />On GitHub, the HTML representation is unable to render, please try loading this page with nbviewer.org.</b></div><div class=\"sk-container\" hidden><div class=\"sk-item\"><div class=\"sk-estimator sk-toggleable\"><input class=\"sk-toggleable__control sk-hidden--visually\" id=\"sk-estimator-id-12\" type=\"checkbox\" checked><label for=\"sk-estimator-id-12\" class=\"sk-toggleable__label sk-toggleable__label-arrow\">Lasso</label><div class=\"sk-toggleable__content\"><pre>Lasso(alpha=0.001)</pre></div></div></div></div></div>"
      ],
      "text/plain": [
       "Lasso(alpha=0.001)"
      ]
     },
     "execution_count": 131,
     "metadata": {},
     "output_type": "execute_result"
    }
   ],
   "source": [
    "model"
   ]
  },
  {
   "cell_type": "code",
   "execution_count": 132,
   "id": "a7f227af-b20e-4fcf-8738-cd67aceb661c",
   "metadata": {
    "tags": []
   },
   "outputs": [],
   "source": [
    "year = 2012\n",
    "make = \"Honda\"\n",
    "model = \"Civic\"\n",
    "odometer = 123450\n",
    "color = \"black\"\n",
    "state = \"CA\"\n",
    "condition= 34.0\n",
    "mmr=16000\n",
    "vehicleage= 2"
   ]
  },
  {
   "cell_type": "code",
   "execution_count": 133,
   "id": "9686368d-c431-4d89-a60a-53550496ed4d",
   "metadata": {
    "tags": []
   },
   "outputs": [],
   "source": [
    "features = {\"year\":year, \"make\":make, \"model\" :model, \"odometer\":odometer, \"color\":color, \"state\":state,\"mmr\":mmr, \"condition\":condition, \"vehicleage\":vehicleage}"
   ]
  },
  {
   "cell_type": "code",
   "execution_count": 134,
   "id": "3d4bdc44-8c0a-438f-8e04-7570a31097c7",
   "metadata": {
    "tags": []
   },
   "outputs": [
    {
     "name": "stdout",
     "output_type": "stream",
     "text": [
      "LabelEncoder() make\n",
      "LabelEncoder() model\n",
      "LabelEncoder() color\n",
      "LabelEncoder() state\n"
     ]
    }
   ],
   "source": [
    "data = {}\n",
    "for i in features.keys():\n",
    "    if type(features[i]) == str:\n",
    "        with open(\"encoder_\"+str(i)+\".pkl\", 'rb') as encoder:\n",
    "            label_encoder = pickle.load(encoder)\n",
    "        print(label_encoder,i)\n",
    "        data[str(i)] = label_encoder.transform(np.array(features[i]).reshape(1,-1))\n",
    "\n",
    "    elif type(features[i]) != str:\n",
    "              data[str(i)] = features[i]\n",
    "    with open(str(i)+\"_scaler.pkl\", 'rb') as scaler_file:\n",
    "        scaler = pickle.load(scaler_file)\n",
    "    data[str(i)] = scaler.transform(np.array(data[i]).reshape(1,-1))\n",
    "\n"
   ]
  },
  {
   "cell_type": "code",
   "execution_count": 137,
   "id": "5034a381-be3b-4aa3-9160-f7290e9cda9e",
   "metadata": {
    "tags": []
   },
   "outputs": [
    {
     "ename": "AttributeError",
     "evalue": "'str' object has no attribute 'predict'",
     "output_type": "error",
     "traceback": [
      "\u001b[1;31m---------------------------------------------------------------------------\u001b[0m",
      "\u001b[1;31mAttributeError\u001b[0m                            Traceback (most recent call last)",
      "Cell \u001b[1;32mIn[137], line 4\u001b[0m\n\u001b[0;32m      1\u001b[0m processed_data \u001b[38;5;241m=\u001b[39m {key: value[\u001b[38;5;241m0\u001b[39m] \u001b[38;5;28;01mfor\u001b[39;00m key, value \u001b[38;5;129;01min\u001b[39;00m data\u001b[38;5;241m.\u001b[39mitems()}\n\u001b[0;32m      2\u001b[0m processed_df \u001b[38;5;241m=\u001b[39m pd\u001b[38;5;241m.\u001b[39mDataFrame(processed_data)\n\u001b[1;32m----> 4\u001b[0m prediction \u001b[38;5;241m=\u001b[39m \u001b[43mmodel\u001b[49m\u001b[38;5;241;43m.\u001b[39;49m\u001b[43mpredict\u001b[49m(processed_df\u001b[38;5;241m.\u001b[39mvalues())\n",
      "\u001b[1;31mAttributeError\u001b[0m: 'str' object has no attribute 'predict'"
     ]
    }
   ],
   "source": [
    "processed_data = {key: value[0] for key, value in data.items()}\n",
    "processed_df = pd.DataFrame(processed_data)\n",
    "\n",
    "prediction = model.predict(processed_df.values())\n",
    "\n",
    "# output = (prediction[0])\n",
    "# data"
   ]
  },
  {
   "cell_type": "code",
   "execution_count": 49,
   "id": "2b66dc87-bc56-4981-9de4-adaa616ce933",
   "metadata": {
    "tags": []
   },
   "outputs": [],
   "source": [
    "# x_vars= [\"year\",\"seller\", \"color\", \"interior\"]\n",
    "# y_vars= [\"sellingprice\"]\n",
    "# g= sns.PairGrid(car_data, hue=\"sellingprice\", x_vars=x_vars, y_vars=y_vars)\n",
    "# g.map_diag(sns.histplot, color=\".3\")\n",
    "# g.map_offdiag(sns.scatterplot)\n",
    "# g.add_legend()\n"
   ]
  },
  {
   "cell_type": "code",
   "execution_count": null,
   "id": "880d85fc-5593-47cb-8316-132cab78a1c2",
   "metadata": {
    "tags": []
   },
   "outputs": [],
   "source": []
  },
  {
   "cell_type": "code",
   "execution_count": null,
   "id": "3ceb8a70-965c-4299-9031-0723d0904229",
   "metadata": {},
   "outputs": [],
   "source": []
  }
 ],
 "metadata": {
  "kernelspec": {
   "display_name": "Python 3 (ipykernel)",
   "language": "python",
   "name": "python3"
  },
  "language_info": {
   "codemirror_mode": {
    "name": "ipython",
    "version": 3
   },
   "file_extension": ".py",
   "mimetype": "text/x-python",
   "name": "python",
   "nbconvert_exporter": "python",
   "pygments_lexer": "ipython3",
   "version": "3.10.13"
  }
 },
 "nbformat": 4,
 "nbformat_minor": 5
}
